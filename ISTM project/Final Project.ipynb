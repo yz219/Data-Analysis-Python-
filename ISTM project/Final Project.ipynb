{
 "cells": [
  {
   "cell_type": "markdown",
   "metadata": {},
   "source": [
    "# ISTM 6212 - Data Management for Analytics: Final Project\n",
    "## Analyzing and exploring the FEC datasets with business analytics methods\n",
    "### Group 7: Calvin Ji, Hrolfur Sveinsson, Peijia Wu, Sun Pil Howang, Yihang Zhao\n",
    "\n",
    "___\n",
    "\n",
    "We start by loading SQL and creating our database"
   ]
  },
  {
   "cell_type": "code",
   "execution_count": 1,
   "metadata": {},
   "outputs": [],
   "source": [
    "%load_ext sql"
   ]
  },
  {
   "cell_type": "code",
   "execution_count": 2,
   "metadata": {},
   "outputs": [],
   "source": [
    "!dropdb -U student finalproject"
   ]
  },
  {
   "cell_type": "code",
   "execution_count": 3,
   "metadata": {},
   "outputs": [],
   "source": [
    "!createdb -U student finalproject"
   ]
  },
  {
   "cell_type": "code",
   "execution_count": 4,
   "metadata": {},
   "outputs": [],
   "source": [
    "%sql postgresql://student@/finalproject"
   ]
  },
  {
   "cell_type": "code",
   "execution_count": 5,
   "metadata": {},
   "outputs": [
    {
     "name": "stdout",
     "output_type": "stream",
     "text": [
      "/home/ubuntu\n"
     ]
    }
   ],
   "source": [
    "!pwd"
   ]
  },
  {
   "cell_type": "markdown",
   "metadata": {},
   "source": [
    "# Ask 1  (10%)\n",
    "+ Use the FEC datasets. Collect on Amazon S3 the following datasets:\n",
    "    + All Candidates and Candidate Master\n",
    "    + Committee Master\n",
    "    + Linkage\n",
    "    + Contribution by individual to candidates\n",
    "    + Contribution by Committees to candidates\n",
    "    + Contribution from one committee to another\n",
    "    + Years 2016 and 2020 (launch a new instance and increase the storage to 60 GB or more)\n",
    "    \n",
    "    \n",
    "+  Acquire data and perform initial exploration to make sure it is suitable for dimensional modeling and analytical analysis\n",
    "\n",
    "+ Expectation: all data files in a bucket. Make the bucket public so I can have access to it. Only one member of the group need to do this step. Document your bucket list, file sizes, date uploaded, link to the public directory\n",
    "\n",
    "___\n",
    "\n",
    "We use the data files from [FEC](https://www.fec.gov/data/browse-data/?tab=bulk-data)\n",
    "\n",
    "The FEC data files are stored in our Amazon S3 [dmfa-2020-final-project-hs](https://s3.console.aws.amazon.com/s3/buckets/dmfa-2020-final-project-hs?region=us-east-1&tab=objects) bucket\n",
    "+ Amazon resource name (ARN): arn:aws:s3:::dmfa-2020-final-project-hs\n",
    "\n",
    "We acquire the data by using wget so we can start performing initial exploration to make sure that the data is suitable for dimensional modeling and analytical analysis. We start with the year 2020"
   ]
  },
  {
   "cell_type": "code",
   "execution_count": 6,
   "metadata": {},
   "outputs": [
    {
     "name": "stdout",
     "output_type": "stream",
     "text": [
      "--2020-11-30 19:20:47--  https://s3.amazonaws.com/dmfa-2020-final-project-hs/Allcandidates/weball20.txt\n",
      "Resolving s3.amazonaws.com (s3.amazonaws.com)... 52.216.28.46\n",
      "Connecting to s3.amazonaws.com (s3.amazonaws.com)|52.216.28.46|:443... connected.\n",
      "HTTP request sent, awaiting response... 200 OK\n",
      "Length: 499472 (488K) [text/plain]\n",
      "Saving to: ‘weball20.txt.1’\n",
      "\n",
      "weball20.txt.1      100%[===================>] 487.77K  --.-KB/s    in 0.02s   \n",
      "\n",
      "2020-11-30 19:20:47 (28.0 MB/s) - ‘weball20.txt.1’ saved [499472/499472]\n",
      "\n"
     ]
    }
   ],
   "source": [
    "!wget https://s3.amazonaws.com/dmfa-2020-final-project-hs/Allcandidates/weball20.txt"
   ]
  },
  {
   "cell_type": "code",
   "execution_count": 7,
   "metadata": {},
   "outputs": [
    {
     "name": "stdout",
     "output_type": "stream",
     "text": [
      "--2020-11-30 19:20:47--  https://s3.amazonaws.com/dmfa-2020-final-project-hs/Candidatemaster/cn20.txt\n",
      "Resolving s3.amazonaws.com (s3.amazonaws.com)... 52.216.28.46\n",
      "Connecting to s3.amazonaws.com (s3.amazonaws.com)|52.216.28.46|:443... connected.\n",
      "HTTP request sent, awaiting response... 200 OK\n",
      "Length: 748825 (731K) [text/plain]\n",
      "Saving to: ‘cn20.txt.1’\n",
      "\n",
      "cn20.txt.1          100%[===================>] 731.27K  --.-KB/s    in 0.05s   \n",
      "\n",
      "2020-11-30 19:20:48 (14.7 MB/s) - ‘cn20.txt.1’ saved [748825/748825]\n",
      "\n"
     ]
    }
   ],
   "source": [
    "!wget https://s3.amazonaws.com/dmfa-2020-final-project-hs/Candidatemaster/cn20.txt"
   ]
  },
  {
   "cell_type": "code",
   "execution_count": 8,
   "metadata": {},
   "outputs": [
    {
     "name": "stdout",
     "output_type": "stream",
     "text": [
      "--2020-11-30 19:20:48--  https://s3.amazonaws.com/dmfa-2020-final-project-hs/Candidatetocommitteelinkages/ccl20.txt\n",
      "Resolving s3.amazonaws.com (s3.amazonaws.com)... 52.216.28.46\n",
      "Connecting to s3.amazonaws.com (s3.amazonaws.com)|52.216.28.46|:443... connected.\n",
      "HTTP request sent, awaiting response... 200 OK\n",
      "Length: 288476 (282K) [text/plain]\n",
      "Saving to: ‘ccl20.txt.1’\n",
      "\n",
      "ccl20.txt.1         100%[===================>] 281.71K  --.-KB/s    in 0.01s   \n",
      "\n",
      "2020-11-30 19:20:48 (22.1 MB/s) - ‘ccl20.txt.1’ saved [288476/288476]\n",
      "\n"
     ]
    }
   ],
   "source": [
    "!wget https://s3.amazonaws.com/dmfa-2020-final-project-hs/Candidatetocommitteelinkages/ccl20.txt"
   ]
  },
  {
   "cell_type": "code",
   "execution_count": 9,
   "metadata": {},
   "outputs": [
    {
     "name": "stdout",
     "output_type": "stream",
     "text": [
      "--2020-11-30 19:20:48--  https://s3.amazonaws.com/dmfa-2020-final-project-hs/Committeemaster/cm20.txt\n",
      "Resolving s3.amazonaws.com (s3.amazonaws.com)... 52.216.28.46\n",
      "Connecting to s3.amazonaws.com (s3.amazonaws.com)|52.216.28.46|:443... connected.\n",
      "HTTP request sent, awaiting response... 200 OK\n",
      "Length: 2184291 (2.1M) [text/plain]\n",
      "Saving to: ‘cm20.txt.1’\n",
      "\n",
      "cm20.txt.1          100%[===================>]   2.08M  --.-KB/s    in 0.07s   \n",
      "\n",
      "2020-11-30 19:20:48 (29.7 MB/s) - ‘cm20.txt.1’ saved [2184291/2184291]\n",
      "\n"
     ]
    }
   ],
   "source": [
    "!wget https://s3.amazonaws.com/dmfa-2020-final-project-hs/Committeemaster/cm20.txt"
   ]
  },
  {
   "cell_type": "markdown",
   "metadata": {},
   "source": [
    "We convert all of the txt files into csv files"
   ]
  },
  {
   "cell_type": "code",
   "execution_count": 10,
   "metadata": {},
   "outputs": [],
   "source": [
    "!csvformat -d \"|\" weball20.txt > all_candidates.csv"
   ]
  },
  {
   "cell_type": "code",
   "execution_count": 11,
   "metadata": {},
   "outputs": [],
   "source": [
    "!csvformat -d \"|\" cn20.txt > candidate_master.csv"
   ]
  },
  {
   "cell_type": "code",
   "execution_count": 12,
   "metadata": {},
   "outputs": [],
   "source": [
    "!csvformat -d \"|\" ccl20.txt > linkage.csv"
   ]
  },
  {
   "cell_type": "code",
   "execution_count": 13,
   "metadata": {},
   "outputs": [],
   "source": [
    "!csvformat -d \"|\" cm20.txt > committee_master.csv"
   ]
  },
  {
   "cell_type": "markdown",
   "metadata": {},
   "source": [
    "We check the number of rows in each dataset including headers"
   ]
  },
  {
   "cell_type": "code",
   "execution_count": 14,
   "metadata": {},
   "outputs": [
    {
     "name": "stdout",
     "output_type": "stream",
     "text": [
      "    3954 All_candidates.csv\n",
      "    7757 Candidate_master.csv\n",
      "   18061 Committee_master.csv\n",
      "    7037 Linkage.csv\n",
      "    3953 all_candidates.csv\n",
      "    3954 all_candidates_header.csv\n",
      "    7756 candidate_master.csv\n",
      "    7757 candidate_master_header.csv\n",
      "       1 ccl_header_file.csv\n",
      "       1 cm_header_file.csv\n",
      "       1 cn_header_file.csv\n",
      "   18060 committee_master.csv\n",
      "   18061 committee_master_header.csv\n",
      "    7036 linkage.csv\n",
      "    7037 linkage_header.csv\n",
      "       0 weball_header_file.csv\n",
      "  110426 total\n"
     ]
    }
   ],
   "source": [
    "!wc -l *.csv"
   ]
  },
  {
   "cell_type": "markdown",
   "metadata": {},
   "source": [
    "After initial exploration, it looks like our data is suitable for dimensional modeling and analytical analysis. Next, we need to add a header row to each dataset and create our database tables using PostgreSQL"
   ]
  },
  {
   "cell_type": "markdown",
   "metadata": {},
   "source": [
    "# Ask 2 (15%)\n",
    "+ Acquire the data, survey it and wrangle it to suitable format\n",
    "\n",
    "# You may use one or more of the following methods for acquiring and wrangling the data\n",
    "+ Unix command line tools (e.g. csvkit)\n",
    "+ Relational databases\n",
    "+ Spark\n",
    "+ Trifacta\n",
    "\n",
    "# Describe any concerns with the data and changes you expect to overcome\n",
    "\n",
    "# Pandas and R can only be used in visualization\n",
    "\n",
    "# Expectations: document your findings in the code. Make sure you describe each step in a complete and concise manner\n",
    "\n",
    "___"
   ]
  },
  {
   "cell_type": "markdown",
   "metadata": {},
   "source": [
    "We acquire our header row data by using wget"
   ]
  },
  {
   "cell_type": "code",
   "execution_count": 15,
   "metadata": {},
   "outputs": [
    {
     "name": "stdout",
     "output_type": "stream",
     "text": [
      "--2020-11-30 19:20:50--  https://s3.amazonaws.com/dmfa-2020-final-project-hs/Allcandidates/weball_header_file.csv\n",
      "Resolving s3.amazonaws.com (s3.amazonaws.com)... 52.217.89.246\n",
      "Connecting to s3.amazonaws.com (s3.amazonaws.com)|52.217.89.246|:443... connected.\n",
      "HTTP request sent, awaiting response... 200 OK\n",
      "Length: 411 [text/csv]\n",
      "Saving to: ‘weball_header_file.csv.1’\n",
      "\n",
      "weball_header_file. 100%[===================>]     411  --.-KB/s    in 0s      \n",
      "\n",
      "2020-11-30 19:20:50 (23.5 MB/s) - ‘weball_header_file.csv.1’ saved [411/411]\n",
      "\n"
     ]
    }
   ],
   "source": [
    "!wget https://s3.amazonaws.com/dmfa-2020-final-project-hs/Allcandidates/weball_header_file.csv"
   ]
  },
  {
   "cell_type": "code",
   "execution_count": 16,
   "metadata": {},
   "outputs": [
    {
     "name": "stdout",
     "output_type": "stream",
     "text": [
      "--2020-11-30 19:20:50--  https://s3.amazonaws.com/dmfa-2020-final-project-hs/Candidatemaster/cn_header_file.csv\n",
      "Resolving s3.amazonaws.com (s3.amazonaws.com)... 52.217.89.246\n",
      "Connecting to s3.amazonaws.com (s3.amazonaws.com)|52.217.89.246|:443... connected.\n",
      "HTTP request sent, awaiting response... 200 OK\n",
      "Length: 180 [text/csv]\n",
      "Saving to: ‘cn_header_file.csv.1’\n",
      "\n",
      "cn_header_file.csv. 100%[===================>]     180  --.-KB/s    in 0s      \n",
      "\n",
      "2020-11-30 19:20:50 (9.91 MB/s) - ‘cn_header_file.csv.1’ saved [180/180]\n",
      "\n"
     ]
    }
   ],
   "source": [
    "!wget https://s3.amazonaws.com/dmfa-2020-final-project-hs/Candidatemaster/cn_header_file.csv"
   ]
  },
  {
   "cell_type": "code",
   "execution_count": 17,
   "metadata": {},
   "outputs": [
    {
     "name": "stdout",
     "output_type": "stream",
     "text": [
      "--2020-11-30 19:20:50--  https://s3.amazonaws.com/dmfa-2020-final-project-hs/Candidatetocommitteelinkages/ccl_header_file.csv\n",
      "Resolving s3.amazonaws.com (s3.amazonaws.com)... 52.217.89.246\n",
      "Connecting to s3.amazonaws.com (s3.amazonaws.com)|52.217.89.246|:443... connected.\n",
      "HTTP request sent, awaiting response... 200 OK\n",
      "Length: 79 [text/csv]\n",
      "Saving to: ‘ccl_header_file.csv.1’\n",
      "\n",
      "ccl_header_file.csv 100%[===================>]      79  --.-KB/s    in 0s      \n",
      "\n",
      "2020-11-30 19:20:50 (4.81 MB/s) - ‘ccl_header_file.csv.1’ saved [79/79]\n",
      "\n"
     ]
    }
   ],
   "source": [
    "!wget https://s3.amazonaws.com/dmfa-2020-final-project-hs/Candidatetocommitteelinkages/ccl_header_file.csv"
   ]
  },
  {
   "cell_type": "code",
   "execution_count": 18,
   "metadata": {},
   "outputs": [
    {
     "name": "stdout",
     "output_type": "stream",
     "text": [
      "--2020-11-30 19:20:50--  https://s3.amazonaws.com/dmfa-2020-final-project-hs/Committeemaster/cm_header_file.csv\n",
      "Resolving s3.amazonaws.com (s3.amazonaws.com)... 52.217.89.246\n",
      "Connecting to s3.amazonaws.com (s3.amazonaws.com)|52.217.89.246|:443... connected.\n",
      "HTTP request sent, awaiting response... 200 OK\n",
      "Length: 158 [text/csv]\n",
      "Saving to: ‘cm_header_file.csv.1’\n",
      "\n",
      "cm_header_file.csv. 100%[===================>]     158  --.-KB/s    in 0s      \n",
      "\n",
      "2020-11-30 19:20:50 (5.75 MB/s) - ‘cm_header_file.csv.1’ saved [158/158]\n",
      "\n"
     ]
    }
   ],
   "source": [
    "!wget https://s3.amazonaws.com/dmfa-2020-final-project-hs/Committeemaster/cm_header_file.csv"
   ]
  },
  {
   "cell_type": "markdown",
   "metadata": {},
   "source": [
    "We use csvstack -H to create default headers (a,b,c,...) since the input csv file has no header row"
   ]
  },
  {
   "cell_type": "code",
   "execution_count": 19,
   "metadata": {},
   "outputs": [],
   "source": [
    "!csvstack -H all_candidates.csv > all_candidates_header.csv"
   ]
  },
  {
   "cell_type": "code",
   "execution_count": 20,
   "metadata": {},
   "outputs": [],
   "source": [
    "!csvstack -H candidate_master.csv > candidate_master_header.csv"
   ]
  },
  {
   "cell_type": "code",
   "execution_count": 21,
   "metadata": {},
   "outputs": [],
   "source": [
    "!csvstack -H linkage.csv > linkage_header.csv"
   ]
  },
  {
   "cell_type": "code",
   "execution_count": 22,
   "metadata": {},
   "outputs": [],
   "source": [
    "!csvstack -H committee_master.csv > committee_master_header.csv"
   ]
  },
  {
   "cell_type": "markdown",
   "metadata": {},
   "source": [
    "Again, we check the number of rows in each dataset including headers. We do that to make sure we have added a header row for each dataset"
   ]
  },
  {
   "cell_type": "code",
   "execution_count": 23,
   "metadata": {},
   "outputs": [
    {
     "name": "stdout",
     "output_type": "stream",
     "text": [
      "    3954 All_candidates.csv\n",
      "    7757 Candidate_master.csv\n",
      "   18061 Committee_master.csv\n",
      "    7037 Linkage.csv\n",
      "    3953 all_candidates.csv\n",
      "    3954 all_candidates_header.csv\n",
      "    7756 candidate_master.csv\n",
      "    7757 candidate_master_header.csv\n",
      "       1 ccl_header_file.csv\n",
      "       1 cm_header_file.csv\n",
      "       1 cn_header_file.csv\n",
      "   18060 committee_master.csv\n",
      "   18061 committee_master_header.csv\n",
      "    7036 linkage.csv\n",
      "    7037 linkage_header.csv\n",
      "       0 weball_header_file.csv\n",
      "  110426 total\n"
     ]
    }
   ],
   "source": [
    "!wc -l *.csv"
   ]
  },
  {
   "cell_type": "code",
   "execution_count": 24,
   "metadata": {},
   "outputs": [],
   "source": [
    "# Why does weball_header_file.csv contain zero rows?\n",
    "# Does it matter, do we have to fix it?"
   ]
  },
  {
   "cell_type": "markdown",
   "metadata": {},
   "source": [
    "Now we use csvstack to replace our default header rows (a,b,c,...) with our our header row files from the FEC datasets"
   ]
  },
  {
   "cell_type": "code",
   "execution_count": 25,
   "metadata": {},
   "outputs": [],
   "source": [
    "!csvstack weball_header_file.csv all_candidates_header.csv > All_candidates.csv"
   ]
  },
  {
   "cell_type": "code",
   "execution_count": 26,
   "metadata": {},
   "outputs": [],
   "source": [
    "!csvstack cn_header_file.csv candidate_master_header.csv > Candidate_master.csv"
   ]
  },
  {
   "cell_type": "code",
   "execution_count": 27,
   "metadata": {},
   "outputs": [],
   "source": [
    "!csvstack ccl_header_file.csv linkage_header.csv > Linkage.csv"
   ]
  },
  {
   "cell_type": "code",
   "execution_count": 28,
   "metadata": {},
   "outputs": [],
   "source": [
    "!csvstack cm_header_file.csv committee_master_header.csv > Committee_master.csv"
   ]
  },
  {
   "cell_type": "markdown",
   "metadata": {},
   "source": [
    "Again, we check the number of rows in each dataset including headers. We do that to make sure we have finally added a header row that matches the column name of each column in each dataset"
   ]
  },
  {
   "cell_type": "code",
   "execution_count": 29,
   "metadata": {},
   "outputs": [
    {
     "name": "stdout",
     "output_type": "stream",
     "text": [
      "    3954 All_candidates.csv\n",
      "    7757 Candidate_master.csv\n",
      "   18061 Committee_master.csv\n",
      "    7037 Linkage.csv\n",
      "    3953 all_candidates.csv\n",
      "    3954 all_candidates_header.csv\n",
      "    7756 candidate_master.csv\n",
      "    7757 candidate_master_header.csv\n",
      "       1 ccl_header_file.csv\n",
      "       1 cm_header_file.csv\n",
      "       1 cn_header_file.csv\n",
      "   18060 committee_master.csv\n",
      "   18061 committee_master_header.csv\n",
      "    7036 linkage.csv\n",
      "    7037 linkage_header.csv\n",
      "       0 weball_header_file.csv\n",
      "  110426 total\n"
     ]
    }
   ],
   "source": [
    "!wc -l *.csv"
   ]
  },
  {
   "cell_type": "code",
   "execution_count": 30,
   "metadata": {},
   "outputs": [],
   "source": [
    "# Why does weball_header_file.csv contain zero rows?\n",
    "# Does it matter, do we have to fix it?"
   ]
  },
  {
   "cell_type": "markdown",
   "metadata": {},
   "source": []
  },
  {
   "cell_type": "code",
   "execution_count": 31,
   "metadata": {},
   "outputs": [
    {
     "name": "stdout",
     "output_type": "stream",
     "text": [
      "  1: CMTE_ID\n",
      "  2: CMTE_NM\n",
      "  3: TRES_NM\n",
      "  4: CMTE_ST1\n",
      "  5: CMTE_ST2\n",
      "  6: CMTE_CITY\n",
      "  7: CMTE_ST\n",
      "  8: CMTE_ZIP\n",
      "  9: CMTE_DSGN\n",
      " 10: CMTE_TP\n",
      " 11: CMTE_PTY_AFFILIATION\n",
      " 12: CMTE_FILING_FREQ\n",
      " 13: ORG_TP\n",
      " 14: CONNECTED_ORG_NM\n",
      " 15: CAND_ID\n"
     ]
    }
   ],
   "source": [
    "!csvcut -n Committee_master.csv"
   ]
  },
  {
   "cell_type": "markdown",
   "metadata": {},
   "source": []
  },
  {
   "cell_type": "code",
   "execution_count": 32,
   "metadata": {},
   "outputs": [
    {
     "name": "stdout",
     "output_type": "stream",
     "text": [
      "  1. \"CMTE_ID\"\n",
      "\n",
      "\tType of data:          Text\n",
      "\tContains null values:  False\n",
      "\tUnique values:         999\n",
      "\tLongest value:         9 characters\n",
      "\tMost common values:    C00000059 (1x)\n",
      "\t                       C00000422 (1x)\n",
      "\t                       C00000489 (1x)\n",
      "\t                       C00000547 (1x)\n",
      "\t                       C00000638 (1x)\n",
      "\n",
      "  2. \"CMTE_NM\"\n",
      "\n",
      "\tType of data:          Text\n",
      "\tContains null values:  False\n",
      "\tUnique values:         999\n",
      "\tLongest value:         163 characters\n",
      "\tMost common values:    HALLMARK CARDS PAC (1x)\n",
      "\t                       AMERICAN MEDICAL ASSOCIATION POLITICAL ACTION COMMITTEE (1x)\n",
      "\t                       D R I V E POLITICAL FUND CHAPTER 886 (1x)\n",
      "\t                       KANSAS MEDICAL SOCIETY POLITICAL ACTION COMMITTEE (1x)\n",
      "\t                       INDIANA STATE MEDICAL ASSOCIATION POLITICAL ACTION COMMITTEE (1x)\n",
      "\n",
      "  3. \"TRES_NM\"\n",
      "\n",
      "\tType of data:          Text\n",
      "\tContains null values:  False\n",
      "\tUnique values:         985\n",
      "\tLongest value:         30 characters\n",
      "\tMost common values:    MASON, DAVID M. (3x)\n",
      "\t                       EICHMAN, J. RICHARD (3x)\n",
      "\t                       CURRY, RAYMOND (2x)\n",
      "\t                       GOLDENBERG, GRANT (2x)\n",
      "\t                       MURDOCK, CHARLES (2x)\n",
      "\n",
      "  4. \"CMTE_ST1\"\n",
      "\n",
      "\tType of data:          Text\n",
      "\tContains null values:  False\n",
      "\tUnique values:         979\n",
      "\tLongest value:         34 characters\n",
      "\tMost common values:    601 PENNSYLVANIA AVENUE, NW (3x)\n",
      "\t                       PO BOX 75357 (2x)\n",
      "\t                       1750 NEW YORK AVENUE, NW (2x)\n",
      "\t                       1001 SEMMES AVENUE 5TH FLOOR (2x)\n",
      "\t                       6380 WILSHIRE BLVD., #1612 (2x)\n",
      "\n",
      "  5. \"CMTE_ST2\"\n",
      "\n",
      "\tType of data:          Text\n",
      "\tContains null values:  True (excluded from calculations)\n",
      "\tUnique values:         223\n",
      "\tLongest value:         34 characters\n",
      "\tMost common values:    None (649x)\n",
      "\t                       SUITE 300 (16x)\n",
      "\t                       SUITE 200 (14x)\n",
      "\t                       SUITE 600 (12x)\n",
      "\t                       SUITE 400 (11x)\n",
      "\n",
      "  6. \"CMTE_CITY\"\n",
      "\n",
      "\tType of data:          Text\n",
      "\tContains null values:  False\n",
      "\tUnique values:         342\n",
      "\tLongest value:         19 characters\n",
      "\tMost common values:    WASHINGTON (227x)\n",
      "\t                       ALEXANDRIA (27x)\n",
      "\t                       ARLINGTON (24x)\n",
      "\t                       NEW YORK (21x)\n",
      "\t                       COLUMBUS (16x)\n",
      "\n",
      "  7. \"CMTE_ST\"\n",
      "\n",
      "\tType of data:          Text\n",
      "\tContains null values:  False\n",
      "\tUnique values:         51\n",
      "\tLongest value:         2 characters\n",
      "\tMost common values:    DC (230x)\n",
      "\t                       VA (77x)\n",
      "\t                       CA (59x)\n",
      "\t                       NY (44x)\n",
      "\t                       IL (41x)\n",
      "\n",
      "  8. \"CMTE_ZIP\"\n",
      "\n",
      "\tType of data:          Number\n",
      "\tContains null values:  False\n",
      "\tUnique values:         671\n",
      "\tSmallest value:        1028\n",
      "\tLargest value:         995032822\n",
      "\tSum:                   73668068585\n",
      "\tMean:                  73741810.395395\n",
      "\tMedian:                43147\n",
      "\tStDev:                 201087737.737103\n",
      "\tMost common values:    20004 (44x)\n",
      "\t                       20005 (39x)\n",
      "\t                       20001 (37x)\n",
      "\t                       20006 (31x)\n",
      "\t                       20036 (25x)\n",
      "\n",
      "  9. \"CMTE_DSGN\"\n",
      "\n",
      "\tType of data:          Text\n",
      "\tContains null values:  False\n",
      "\tUnique values:         5\n",
      "\tLongest value:         1 characters\n",
      "\tMost common values:    U (558x)\n",
      "\t                       B (412x)\n",
      "\t                       P (24x)\n",
      "\t                       A (3x)\n",
      "\t                       D (2x)\n",
      "\n",
      " 10. \"CMTE_TP\"\n",
      "\n",
      "\tType of data:          Text\n",
      "\tContains null values:  False\n",
      "\tUnique values:         9\n",
      "\tLongest value:         1 characters\n",
      "\tMost common values:    Q (836x)\n",
      "\t                       Y (119x)\n",
      "\t                       H (19x)\n",
      "\t                       N (13x)\n",
      "\t                       S (5x)\n",
      "\n",
      " 11. \"CMTE_PTY_AFFILIATION\"\n",
      "\n",
      "\tType of data:          Text\n",
      "\tContains null values:  True (excluded from calculations)\n",
      "\tUnique values:         12\n",
      "\tLongest value:         3 characters\n",
      "\tMost common values:    None (664x)\n",
      "\t                       UNK (129x)\n",
      "\t                       DEM (72x)\n",
      "\t                       REP (72x)\n",
      "\t                       NNE (34x)\n",
      "\n",
      " 12. \"CMTE_FILING_FREQ\"\n",
      "\n",
      "\tType of data:          Text\n",
      "\tContains null values:  False\n",
      "\tUnique values:         5\n",
      "\tLongest value:         1 characters\n",
      "\tMost common values:    M (508x)\n",
      "\t                       Q (441x)\n",
      "\t                       T (34x)\n",
      "\t                       A (15x)\n",
      "\t                       D (1x)\n",
      "\n",
      " 13. \"ORG_TP\"\n",
      "\n",
      "\tType of data:          Text\n",
      "\tContains null values:  True (excluded from calculations)\n",
      "\tUnique values:         7\n",
      "\tLongest value:         1 characters\n",
      "\tMost common values:    C (310x)\n",
      "\t                       T (224x)\n",
      "\t                       None (162x)\n",
      "\t                       M (136x)\n",
      "\t                       L (124x)\n",
      "\n",
      " 14. \"CONNECTED_ORG_NM\"\n",
      "\n",
      "\tType of data:          Text\n",
      "\tContains null values:  True (excluded from calculations)\n",
      "\tUnique values:         628\n",
      "\tLongest value:         100 characters\n",
      "\tMost common values:    None (328x)\n",
      "\t                       DOLLARS FOR DEMOCRATS (14x)\n",
      "\t                       TRUMP VICTORY (9x)\n",
      "\t                       NRSC TARGETED STATE VICTORY (5x)\n",
      "\t                       DEMOCRATIC GRASSROOTS VICTORY FUND (4x)\n",
      "\n",
      " 15. \"CAND_ID\"\n",
      "\n",
      "\tType of data:          Text\n",
      "\tContains null values:  True (excluded from calculations)\n",
      "\tUnique values:         32\n",
      "\tLongest value:         9 characters\n",
      "\tMost common values:    None (967x)\n",
      "\t                       H0NY27090 (2x)\n",
      "\t                       H6WA05023 (1x)\n",
      "\t                       H6AK00045 (1x)\n",
      "\t                       H6CA24048 (1x)\n",
      "\n",
      "Row count: 999\n"
     ]
    }
   ],
   "source": [
    "!head -n 1000 Committee_master.csv | csvstat"
   ]
  },
  {
   "cell_type": "markdown",
   "metadata": {},
   "source": []
  },
  {
   "cell_type": "code",
   "execution_count": 33,
   "metadata": {},
   "outputs": [
    {
     "name": "stdout",
     "output_type": "stream",
     "text": [
      " * postgresql://student@/finalproject\n",
      "Done.\n",
      "Done.\n"
     ]
    },
    {
     "data": {
      "text/plain": [
       "[]"
      ]
     },
     "execution_count": 33,
     "metadata": {},
     "output_type": "execute_result"
    }
   ],
   "source": [
    "%%sql\n",
    "DROP TABLE IF EXISTS Committee_master;\n",
    "\n",
    "CREATE TABLE Committee_master (\n",
    "    CMTE_ID VARCHAR(9) NOT NULL,\n",
    "    CMTE_NM VARCHAR(200),\n",
    "    TRES_NM VARCHAR(90),\n",
    "    CMTE_ST1 VARCHAR(34),\n",
    "    CMTE_ST2 VARCHAR(34),\n",
    "    CMTE_CITY VARCHAR(30),\n",
    "    CMTE_ST VARCHAR(2),\n",
    "    CMTE_ZIP VARCHAR(9),\n",
    "    CMTE_DSGN VARCHAR(1),\n",
    "    CMTE_TP VARCHAR(1),\n",
    "    CMTE_PTY_AFFILIATION VARCHAR(3),\n",
    "    CMTE_FILING_FREQ VARCHAR(1),\n",
    "    ORG_TP VARCHAR(1),\n",
    "    CONNECTED_ORG_NM VARCHAR(200),\n",
    "    CAND_ID VARCHAR(9)\n",
    ")"
   ]
  },
  {
   "cell_type": "code",
   "execution_count": 34,
   "metadata": {},
   "outputs": [],
   "source": [
    "# There is a difference how the table is defined in Gproject2(Final version.ipynb and practice-w11-12.ipynb\n",
    "# PRIMARY KEY (CMTE_ID)\n",
    "# Does it matter, do we have to change our definition?\n",
    "\n",
    "# The Null and Data type are taken from https://www.fec.gov/campaign-finance-data/committee-master-file-description/\n",
    "# There is a difference how the Null and Data type are handled in Gproject2(Final version.ipynb and practice-w11-12.ipynb\n",
    "# Does it matter, do we have to change some definitions?"
   ]
  },
  {
   "cell_type": "markdown",
   "metadata": {},
   "source": []
  },
  {
   "cell_type": "markdown",
   "metadata": {},
   "source": [
    "Now we will load the data directly using the `COPY` command.  Note that this **requires** the use of an absolute path, so we adjust it to our location:"
   ]
  },
  {
   "cell_type": "code",
   "execution_count": 35,
   "metadata": {},
   "outputs": [
    {
     "name": "stdout",
     "output_type": "stream",
     "text": [
      "/home/ubuntu\n"
     ]
    }
   ],
   "source": [
    "!pwd"
   ]
  },
  {
   "cell_type": "markdown",
   "metadata": {},
   "source": []
  },
  {
   "cell_type": "code",
   "execution_count": 36,
   "metadata": {},
   "outputs": [
    {
     "name": "stdout",
     "output_type": "stream",
     "text": [
      " * postgresql://student@/finalproject\n",
      "0 rows affected.\n"
     ]
    },
    {
     "data": {
      "text/html": [
       "<table>\n",
       "    <tr>\n",
       "        <th>cmte_id</th>\n",
       "        <th>cmte_nm</th>\n",
       "        <th>tres_nm</th>\n",
       "        <th>cmte_st1</th>\n",
       "        <th>cmte_st2</th>\n",
       "        <th>cmte_city</th>\n",
       "        <th>cmte_st</th>\n",
       "        <th>cmte_zip</th>\n",
       "        <th>cmte_dsgn</th>\n",
       "        <th>cmte_tp</th>\n",
       "        <th>cmte_pty_affiliation</th>\n",
       "        <th>cmte_filing_freq</th>\n",
       "        <th>org_tp</th>\n",
       "        <th>connected_org_nm</th>\n",
       "        <th>cand_id</th>\n",
       "    </tr>\n",
       "</table>"
      ],
      "text/plain": [
       "[]"
      ]
     },
     "execution_count": 36,
     "metadata": {},
     "output_type": "execute_result"
    }
   ],
   "source": [
    "%%sql\n",
    "SELECT *\n",
    "FROM Committee_master;"
   ]
  },
  {
   "cell_type": "markdown",
   "metadata": {},
   "source": []
  },
  {
   "cell_type": "code",
   "execution_count": 37,
   "metadata": {},
   "outputs": [
    {
     "name": "stdout",
     "output_type": "stream",
     "text": [
      " * postgresql://student@/finalproject\n",
      "18060 rows affected.\n"
     ]
    },
    {
     "data": {
      "text/plain": [
       "[]"
      ]
     },
     "execution_count": 37,
     "metadata": {},
     "output_type": "execute_result"
    }
   ],
   "source": [
    "%%sql\n",
    "COPY Committee_master FROM '/home/ubuntu/Committee_master.csv'\n",
    "CSV\n",
    "HEADER;"
   ]
  },
  {
   "cell_type": "markdown",
   "metadata": {},
   "source": []
  },
  {
   "cell_type": "code",
   "execution_count": 38,
   "metadata": {},
   "outputs": [
    {
     "name": "stdout",
     "output_type": "stream",
     "text": [
      " * postgresql://student@/finalproject\n",
      "1 rows affected.\n"
     ]
    },
    {
     "data": {
      "text/html": [
       "<table>\n",
       "    <tr>\n",
       "        <th>count</th>\n",
       "    </tr>\n",
       "    <tr>\n",
       "        <td>18060</td>\n",
       "    </tr>\n",
       "</table>"
      ],
      "text/plain": [
       "[(18060,)]"
      ]
     },
     "execution_count": 38,
     "metadata": {},
     "output_type": "execute_result"
    }
   ],
   "source": [
    "%%sql\n",
    "SELECT COUNT(*) FROM Committee_master;"
   ]
  },
  {
   "cell_type": "markdown",
   "metadata": {},
   "source": []
  },
  {
   "cell_type": "code",
   "execution_count": 39,
   "metadata": {},
   "outputs": [
    {
     "name": "stdout",
     "output_type": "stream",
     "text": [
      "18061 Committee_master.csv\n"
     ]
    }
   ],
   "source": [
    "!wc -l Committee_master.csv"
   ]
  },
  {
   "cell_type": "markdown",
   "metadata": {},
   "source": []
  },
  {
   "cell_type": "code",
   "execution_count": 40,
   "metadata": {},
   "outputs": [
    {
     "name": "stdout",
     "output_type": "stream",
     "text": [
      " * postgresql://student@/finalproject\n",
      "5 rows affected.\n"
     ]
    },
    {
     "data": {
      "text/html": [
       "<table>\n",
       "    <tr>\n",
       "        <th>cmte_id</th>\n",
       "        <th>cmte_nm</th>\n",
       "        <th>tres_nm</th>\n",
       "        <th>cmte_st1</th>\n",
       "        <th>cmte_st2</th>\n",
       "        <th>cmte_city</th>\n",
       "        <th>cmte_st</th>\n",
       "        <th>cmte_zip</th>\n",
       "        <th>cmte_dsgn</th>\n",
       "        <th>cmte_tp</th>\n",
       "        <th>cmte_pty_affiliation</th>\n",
       "        <th>cmte_filing_freq</th>\n",
       "        <th>org_tp</th>\n",
       "        <th>connected_org_nm</th>\n",
       "        <th>cand_id</th>\n",
       "    </tr>\n",
       "    <tr>\n",
       "        <td>C00000059</td>\n",
       "        <td>HALLMARK CARDS PAC</td>\n",
       "        <td>SARAH MOE</td>\n",
       "        <td>2501 MCGEE</td>\n",
       "        <td>MD #500</td>\n",
       "        <td>KANSAS CITY</td>\n",
       "        <td>MO</td>\n",
       "        <td>64108</td>\n",
       "        <td>U</td>\n",
       "        <td>Q</td>\n",
       "        <td>UNK</td>\n",
       "        <td>M</td>\n",
       "        <td>C</td>\n",
       "        <td>None</td>\n",
       "        <td>None</td>\n",
       "    </tr>\n",
       "    <tr>\n",
       "        <td>C00000422</td>\n",
       "        <td>AMERICAN MEDICAL ASSOCIATION POLITICAL ACTION COMMITTEE</td>\n",
       "        <td>WALKER, KEVIN MR.</td>\n",
       "        <td>25 MASSACHUSETTS AVE, NW</td>\n",
       "        <td>SUITE 600</td>\n",
       "        <td>WASHINGTON</td>\n",
       "        <td>DC</td>\n",
       "        <td>200017400</td>\n",
       "        <td>B</td>\n",
       "        <td>Q</td>\n",
       "        <td>None</td>\n",
       "        <td>M</td>\n",
       "        <td>M</td>\n",
       "        <td>DELAWARE MEDICAL PAC</td>\n",
       "        <td>None</td>\n",
       "    </tr>\n",
       "    <tr>\n",
       "        <td>C00000489</td>\n",
       "        <td>D R I V E POLITICAL FUND CHAPTER 886</td>\n",
       "        <td>JERRY SIMS JR</td>\n",
       "        <td>3528 W RENO</td>\n",
       "        <td>None</td>\n",
       "        <td>OKLAHOMA CITY</td>\n",
       "        <td>OK</td>\n",
       "        <td>73107</td>\n",
       "        <td>U</td>\n",
       "        <td>N</td>\n",
       "        <td>None</td>\n",
       "        <td>Q</td>\n",
       "        <td>L</td>\n",
       "        <td>None</td>\n",
       "        <td>None</td>\n",
       "    </tr>\n",
       "    <tr>\n",
       "        <td>C00000547</td>\n",
       "        <td>KANSAS MEDICAL SOCIETY POLITICAL ACTION COMMITTEE</td>\n",
       "        <td>JERRY SLAUGHTER</td>\n",
       "        <td>623 SW 10TH AVE</td>\n",
       "        <td>None</td>\n",
       "        <td>TOPEKA</td>\n",
       "        <td>KS</td>\n",
       "        <td>666121627</td>\n",
       "        <td>U</td>\n",
       "        <td>Q</td>\n",
       "        <td>UNK</td>\n",
       "        <td>Q</td>\n",
       "        <td>M</td>\n",
       "        <td>KANSAS MEDICAL SOCIETY</td>\n",
       "        <td>None</td>\n",
       "    </tr>\n",
       "    <tr>\n",
       "        <td>C00000638</td>\n",
       "        <td>INDIANA STATE MEDICAL ASSOCIATION POLITICAL ACTION COMMITTEE</td>\n",
       "        <td>ACHENBACH, GRANT MR.</td>\n",
       "        <td>322 CANAL WALK, CANAL LEVEL</td>\n",
       "        <td>None</td>\n",
       "        <td>INDIANAPOLIS</td>\n",
       "        <td>IN</td>\n",
       "        <td>46202</td>\n",
       "        <td>U</td>\n",
       "        <td>Q</td>\n",
       "        <td>None</td>\n",
       "        <td>T</td>\n",
       "        <td>M</td>\n",
       "        <td>None</td>\n",
       "        <td>None</td>\n",
       "    </tr>\n",
       "</table>"
      ],
      "text/plain": [
       "[('C00000059', 'HALLMARK CARDS PAC', 'SARAH MOE', '2501 MCGEE', 'MD #500', 'KANSAS CITY', 'MO', '64108', 'U', 'Q', 'UNK', 'M', 'C', None, None),\n",
       " ('C00000422', 'AMERICAN MEDICAL ASSOCIATION POLITICAL ACTION COMMITTEE', 'WALKER, KEVIN MR.', '25 MASSACHUSETTS AVE, NW', 'SUITE 600', 'WASHINGTON', 'DC', '200017400', 'B', 'Q', None, 'M', 'M', 'DELAWARE MEDICAL PAC', None),\n",
       " ('C00000489', 'D R I V E POLITICAL FUND CHAPTER 886', 'JERRY SIMS JR', '3528 W RENO', None, 'OKLAHOMA CITY', 'OK', '73107', 'U', 'N', None, 'Q', 'L', None, None),\n",
       " ('C00000547', 'KANSAS MEDICAL SOCIETY POLITICAL ACTION COMMITTEE', 'JERRY SLAUGHTER', '623 SW 10TH AVE', None, 'TOPEKA', 'KS', '666121627', 'U', 'Q', 'UNK', 'Q', 'M', 'KANSAS MEDICAL SOCIETY', None),\n",
       " ('C00000638', 'INDIANA STATE MEDICAL ASSOCIATION POLITICAL ACTION COMMITTEE', 'ACHENBACH, GRANT MR.', '322 CANAL WALK, CANAL LEVEL', None, 'INDIANAPOLIS', 'IN', '46202', 'U', 'Q', None, 'T', 'M', None, None)]"
      ]
     },
     "execution_count": 40,
     "metadata": {},
     "output_type": "execute_result"
    }
   ],
   "source": [
    "%%sql\n",
    "SELECT * FROM Committee_master\n",
    "LIMIT 5;"
   ]
  },
  {
   "cell_type": "markdown",
   "metadata": {},
   "source": [
    "# Ask (6) (35%)\n",
    "\n",
    "# Write queries to answer your analytical questions\n",
    "\n",
    "# If you produce any charts, make sure to include your code or a copy of chart (if you use outside Jupyter notebook) \n",
    "\n",
    "# You are free to use any tool for visualization (e.g. tableau, ggplot, matplotlib,..)\n",
    "\n",
    "# Expectation: set of queries, results and charts. Those should be compatible with your presentation.\n",
    "\n",
    "___\n"
   ]
  },
  {
   "cell_type": "code",
   "execution_count": null,
   "metadata": {},
   "outputs": [],
   "source": []
  },
  {
   "cell_type": "code",
   "execution_count": 41,
   "metadata": {},
   "outputs": [
    {
     "name": "stdout",
     "output_type": "stream",
     "text": [
      " * postgresql://student@/finalproject\n",
      "5 rows affected.\n"
     ]
    },
    {
     "data": {
      "text/html": [
       "<table>\n",
       "    <tr>\n",
       "        <th>cmte_pty_affiliation</th>\n",
       "        <th>count</th>\n",
       "    </tr>\n",
       "    <tr>\n",
       "        <td>DEM</td>\n",
       "        <td>3103</td>\n",
       "    </tr>\n",
       "    <tr>\n",
       "        <td>REP</td>\n",
       "        <td>2907</td>\n",
       "    </tr>\n",
       "    <tr>\n",
       "        <td>IND</td>\n",
       "        <td>458</td>\n",
       "    </tr>\n",
       "    <tr>\n",
       "        <td>LIB</td>\n",
       "        <td>202</td>\n",
       "    </tr>\n",
       "    <tr>\n",
       "        <td>UNK</td>\n",
       "        <td>166</td>\n",
       "    </tr>\n",
       "</table>"
      ],
      "text/plain": [
       "[('DEM', 3103), ('REP', 2907), ('IND', 458), ('LIB', 202), ('UNK', 166)]"
      ]
     },
     "execution_count": 41,
     "metadata": {},
     "output_type": "execute_result"
    }
   ],
   "source": [
    "%%sql\n",
    "SELECT cmte_pty_affiliation, count(cmte_pty_affiliation)\n",
    "FROM Committee_master\n",
    "GROUP BY cmte_pty_affiliation\n",
    "ORDER BY count(cmte_pty_affiliation) DESC\n",
    "LIMIT 5;"
   ]
  },
  {
   "cell_type": "markdown",
   "metadata": {},
   "source": []
  },
  {
   "cell_type": "code",
   "execution_count": 42,
   "metadata": {},
   "outputs": [
    {
     "name": "stdout",
     "output_type": "stream",
     "text": [
      " * postgresql://student@/finalproject\n",
      "5 rows affected.\n"
     ]
    },
    {
     "data": {
      "text/html": [
       "<table>\n",
       "    <tr>\n",
       "        <th>org_tp</th>\n",
       "        <th>count</th>\n",
       "    </tr>\n",
       "    <tr>\n",
       "        <td>C</td>\n",
       "        <td>1671</td>\n",
       "    </tr>\n",
       "    <tr>\n",
       "        <td>T</td>\n",
       "        <td>726</td>\n",
       "    </tr>\n",
       "    <tr>\n",
       "        <td>M</td>\n",
       "        <td>478</td>\n",
       "    </tr>\n",
       "    <tr>\n",
       "        <td>L</td>\n",
       "        <td>341</td>\n",
       "    </tr>\n",
       "    <tr>\n",
       "        <td>W</td>\n",
       "        <td>95</td>\n",
       "    </tr>\n",
       "</table>"
      ],
      "text/plain": [
       "[('C', 1671), ('T', 726), ('M', 478), ('L', 341), ('W', 95)]"
      ]
     },
     "execution_count": 42,
     "metadata": {},
     "output_type": "execute_result"
    }
   ],
   "source": [
    "%%sql\n",
    "SELECT org_tp, count(org_tp)\n",
    "FROM Committee_master\n",
    "GROUP BY org_tp\n",
    "ORDER BY count(org_tp) DESC\n",
    "LIMIT 5;"
   ]
  },
  {
   "cell_type": "markdown",
   "metadata": {},
   "source": []
  }
 ],
 "metadata": {
  "kernelspec": {
   "display_name": "Python 3",
   "language": "python",
   "name": "python3"
  },
  "language_info": {
   "codemirror_mode": {
    "name": "ipython",
    "version": 3
   },
   "file_extension": ".py",
   "mimetype": "text/x-python",
   "name": "python",
   "nbconvert_exporter": "python",
   "pygments_lexer": "ipython3",
   "version": "3.8.2"
  }
 },
 "nbformat": 4,
 "nbformat_minor": 4
}
