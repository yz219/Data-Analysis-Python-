{
 "cells": [
  {
   "cell_type": "code",
   "execution_count": 2,
   "metadata": {},
   "outputs": [],
   "source": [
    "%load_ext sql"
   ]
  },
  {
   "cell_type": "code",
   "execution_count": 3,
   "metadata": {},
   "outputs": [
    {
     "name": "stdout",
     "output_type": "stream",
     "text": [
      "dropdb: error: database removal failed: ERROR:  database \"final_Project\" is being accessed by other users\n",
      "DETAIL:  There are 3 other sessions using the database.\n"
     ]
    }
   ],
   "source": [
    "!dropdb -U student final_Project"
   ]
  },
  {
   "cell_type": "code",
   "execution_count": 4,
   "metadata": {},
   "outputs": [
    {
     "name": "stdout",
     "output_type": "stream",
     "text": [
      "createdb: error: database creation failed: ERROR:  database \"final_Project\" already exists\n"
     ]
    }
   ],
   "source": [
    "!createdb -U student final_Project"
   ]
  },
  {
   "cell_type": "code",
   "execution_count": 5,
   "metadata": {},
   "outputs": [],
   "source": [
    "%sql postgresql://student@/final_Project"
   ]
  },
  {
   "cell_type": "code",
   "execution_count": 6,
   "metadata": {},
   "outputs": [
    {
     "name": "stdout",
     "output_type": "stream",
     "text": [
      "/home/ubuntu\n"
     ]
    }
   ],
   "source": [
    "!pwd"
   ]
  },
  {
   "cell_type": "code",
   "execution_count": 6,
   "metadata": {},
   "outputs": [
    {
     "name": "stdout",
     "output_type": "stream",
     "text": [
      "--2020-12-06 10:01:39--  https://dmfa-group7-finalbucket.s3.amazonaws.com/Election/Election_all.zip\n",
      "Resolving dmfa-group7-finalbucket.s3.amazonaws.com (dmfa-group7-finalbucket.s3.amazonaws.com)... 52.216.179.187\n",
      "Connecting to dmfa-group7-finalbucket.s3.amazonaws.com (dmfa-group7-finalbucket.s3.amazonaws.com)|52.216.179.187|:443... connected.\n",
      "HTTP request sent, awaiting response... 200 OK\n",
      "Length: 27961105 (27M) [application/zip]\n",
      "Saving to: ‘Election_all.zip’\n",
      "\n",
      "Election_all.zip    100%[===================>]  26.67M  55.2MB/s    in 0.5s    \n",
      "\n",
      "2020-12-06 10:01:39 (55.2 MB/s) - ‘Election_all.zip’ saved [27961105/27961105]\n",
      "\n"
     ]
    }
   ],
   "source": [
    "!wget -O Election_all.zip https://dmfa-group7-finalbucket.s3.amazonaws.com/Election/Election_all.zip"
   ]
  },
  {
   "cell_type": "code",
   "execution_count": 7,
   "metadata": {},
   "outputs": [
    {
     "name": "stdout",
     "output_type": "stream",
     "text": [
      "Archive:  Election_all.zip\n",
      "  inflating: Election_all.csv        \n"
     ]
    }
   ],
   "source": [
    "!unzip -o Election_all.zip"
   ]
  },
  {
   "cell_type": "code",
   "execution_count": 8,
   "metadata": {},
   "outputs": [],
   "source": [
    "!mv Election_all.csv election.csv"
   ]
  },
  {
   "cell_type": "code",
   "execution_count": 6,
   "metadata": {},
   "outputs": [
    {
     "name": "stdout",
     "output_type": "stream",
     "text": [
      "553820 election.csv\n"
     ]
    }
   ],
   "source": [
    "!wc -l election.csv"
   ]
  },
  {
   "cell_type": "markdown",
   "metadata": {},
   "source": [
    "### Creating dimentional model"
   ]
  },
  {
   "cell_type": "code",
   "execution_count": 10,
   "metadata": {},
   "outputs": [
    {
     "name": "stdout",
     "output_type": "stream",
     "text": [
      "  1. \"CMTE_ID\"\n",
      "\n",
      "\tType of data:          Text\n",
      "\tContains null values:  False\n",
      "\tUnique values:         1283\n",
      "\tLongest value:         9 characters\n",
      "\tMost common values:    C00238725 (125x)\n",
      "\t                       C00303024 (104x)\n",
      "\t                       C00030718 (99x)\n",
      "\t                       C00000935 (78x)\n",
      "\t                       C00007880 (74x)\n",
      "\n",
      "  2. \"CAND_ID\"\n",
      "\n",
      "\tType of data:          Text\n",
      "\tContains null values:  False\n",
      "\tUnique values:         775\n",
      "\tLongest value:         9 characters\n",
      "\tMost common values:    P60007168 (154x)\n",
      "\t                       P80001571 (148x)\n",
      "\t                       P80000722 (93x)\n",
      "\t                       S0AZ00350 (86x)\n",
      "\t                       S4MI00355 (74x)\n",
      "\n",
      "  3. \"RPT_TP\"\n",
      "\n",
      "\tType of data:          Text\n",
      "\tContains null values:  False\n",
      "\tUnique values:         23\n",
      "\tLongest value:         3 characters\n",
      "\tMost common values:    M7 (1250x)\n",
      "\t                       YE (1033x)\n",
      "\t                       M4 (1000x)\n",
      "\t                       M3 (850x)\n",
      "\t                       M10 (819x)\n",
      "\n",
      "  4. \"TRANSACTION_PGI\"\n",
      "\n",
      "\tType of data:          Text\n",
      "\tContains null values:  True (excluded from calculations)\n",
      "\tUnique values:         33\n",
      "\tLongest value:         5 characters\n",
      "\tMost common values:    P2020 (6292x)\n",
      "\t                       G2020 (2902x)\n",
      "\t                       P2022 (193x)\n",
      "\t                       P (121x)\n",
      "\t                       P2024 (105x)\n",
      "\n",
      "  5. \"TRANSACTION_TP\"\n",
      "\n",
      "\tType of data:          Text\n",
      "\tContains null values:  False\n",
      "\tUnique values:         6\n",
      "\tLongest value:         3 characters\n",
      "\tMost common values:    24K (9111x)\n",
      "\t                       24E (575x)\n",
      "\t                       24A (166x)\n",
      "\t                       24Z (108x)\n",
      "\t                       24C (33x)\n",
      "\n",
      "  6. \"ENTITY_TP\"\n",
      "\n",
      "\tType of data:          Text\n",
      "\tContains null values:  True (excluded from calculations)\n",
      "\tUnique values:         8\n",
      "\tLongest value:         3 characters\n",
      "\tMost common values:    CCM (8768x)\n",
      "\t                       ORG (652x)\n",
      "\t                       IND (213x)\n",
      "\t                       CAN (167x)\n",
      "\t                       None (62x)\n",
      "\n",
      "  7. \"Contributor_NAME\"\n",
      "\n",
      "\tType of data:          Text\n",
      "\tContains null values:  True (excluded from calculations)\n",
      "\tUnique values:         1607\n",
      "\tLongest value:         77 characters\n",
      "\tMost common values:    PETERS FOR MICHIGAN (68x)\n",
      "\t                       RICHARD E NEAL FOR CONGRESS COMMITTEE (55x)\n",
      "\t                       STEVE DAINES FOR MONTANA (55x)\n",
      "\t                       GRAVES FOR CONGRESS (53x)\n",
      "\t                       RODNEY FOR CONGRESS (53x)\n",
      "\n",
      "  8. \"Contributor_CITY\"\n",
      "\n",
      "\tType of data:          Text\n",
      "\tContains null values:  True (excluded from calculations)\n",
      "\tUnique values:         712\n",
      "\tLongest value:         20 characters\n",
      "\tMost common values:    WASHINGTON (729x)\n",
      "\t                       ALEXANDRIA (235x)\n",
      "\t                       PHOENIX (170x)\n",
      "\t                       RALEIGH (146x)\n",
      "\t                       COLUMBUS (130x)\n",
      "\n",
      "  9. \"Contributor_STATE\"\n",
      "\n",
      "\tType of data:          Text\n",
      "\tContains null values:  True (excluded from calculations)\n",
      "\tUnique values:         55\n",
      "\tLongest value:         2 characters\n",
      "\tMost common values:    CA (862x)\n",
      "\t                       DC (736x)\n",
      "\t                       TX (695x)\n",
      "\t                       IL (504x)\n",
      "\t                       VA (481x)\n",
      "\n",
      " 10. \"TRANSACTION_DT\"\n",
      "\n",
      "\tType of data:          Date\n",
      "\tContains null values:  True (excluded from calculations)\n",
      "\tUnique values:         558\n",
      "\tSmallest value:        2018-11-02\n",
      "\tLargest value:         2020-10-14\n",
      "\tMost common values:    2019-06-25 (80x)\n",
      "\t                       2019-06-26 (76x)\n",
      "\t                       2020-02-27 (76x)\n",
      "\t                       2019-06-24 (73x)\n",
      "\t                       2019-09-25 (69x)\n",
      "\n",
      " 11. \"Trans_Month\"\n",
      "\n",
      "\tType of data:          Number\n",
      "\tContains null values:  True (excluded from calculations)\n",
      "\tUnique values:         13\n",
      "\tSmallest value:        1\n",
      "\tLargest value:         12\n",
      "\tSum:                   61363\n",
      "\tMean:                  6.146134\n",
      "\tMedian:                6\n",
      "\tStDev:                 3.085736\n",
      "\tMost common values:    6 (1584x)\n",
      "\t                       9 (1382x)\n",
      "\t                       3 (1317x)\n",
      "\t                       2 (1097x)\n",
      "\t                       7 (855x)\n",
      "\n",
      " 12. \"Trans_Year\"\n",
      "\n",
      "\tType of data:          Number\n",
      "\tContains null values:  True (excluded from calculations)\n",
      "\tUnique values:         4\n",
      "\tSmallest value:        2018\n",
      "\tLargest value:         2020\n",
      "\tSum:                   20162153\n",
      "\tMean:                  2019.446414\n",
      "\tMedian:                2019\n",
      "\tStDev:                 0.497749\n",
      "\tMost common values:    2019 (5521x)\n",
      "\t                       2020 (4460x)\n",
      "\t                       None (15x)\n",
      "\t                       2018 (3x)\n",
      "\n",
      " 13. \"TRANSACTION_AMT\"\n",
      "\n",
      "\tType of data:          Number\n",
      "\tContains null values:  False\n",
      "\tUnique values:         603\n",
      "\tSmallest value:        -5000\n",
      "\tLargest value:         2103070\n",
      "\tSum:                   39018503\n",
      "\tMean:                  3902.240524\n",
      "\tMedian:                1500\n",
      "\tStDev:                 39173.835641\n",
      "\tMost common values:    1000 (3680x)\n",
      "\t                       2500 (1900x)\n",
      "\t                       5000 (1089x)\n",
      "\t                       2000 (747x)\n",
      "\t                       1500 (643x)\n",
      "\n",
      " 14. \"CAND_NAME\"\n",
      "\n",
      "\tType of data:          Text\n",
      "\tContains null values:  False\n",
      "\tUnique values:         764\n",
      "\tLongest value:         36 characters\n",
      "\tMost common values:    SANDERS, BERNARD (154x)\n",
      "\t                       TRUMP, DONALD J. (148x)\n",
      "\t                       BIDEN, JOSEPH R JR (93x)\n",
      "\t                       KELLY, MARK (86x)\n",
      "\t                       PETERS, GARY (79x)\n",
      "\n",
      " 15. \"CAND_PTY_AFFILIATION\"\n",
      "\n",
      "\tType of data:          Text\n",
      "\tContains null values:  False\n",
      "\tUnique values:         9\n",
      "\tLongest value:         3 characters\n",
      "\tMost common values:    DEM (5276x)\n",
      "\t                       REP (4681x)\n",
      "\t                       DFL (27x)\n",
      "\t                       IND (7x)\n",
      "\t                       NPP (3x)\n",
      "\n",
      " 16. \"TTL_RECEIPTS\"\n",
      "\n",
      "\tType of data:          Number\n",
      "\tContains null values:  False\n",
      "\tUnique values:         766\n",
      "\tSmallest value:        0\n",
      "\tLargest value:         540594553.14\n",
      "\tSum:                   181824262906.98\n",
      "\tMean:                  18184244.71517\n",
      "\tMedian:                1683214.93\n",
      "\tStDev:                 75231278.788529\n",
      "\tMost common values:    218749501.45 (154x)\n",
      "\t                       408945024.23 (148x)\n",
      "\t                       540594553.14 (93x)\n",
      "\t                       46104215.58 (86x)\n",
      "\t                       19458434.54 (79x)\n",
      "\n",
      " 17. \"TRANS_FROM_AUTH\"\n",
      "\n",
      "\tType of data:          Number\n",
      "\tContains null values:  False\n",
      "\tUnique values:         377\n",
      "\tSmallest value:        0\n",
      "\tLargest value:         201559434.39\n",
      "\tSum:                   39247158589.75\n",
      "\tMean:                  3925108.369812\n",
      "\tMedian:                51378.27\n",
      "\tStDev:                 24773374.209179\n",
      "\tMost common values:    0 (3550x)\n",
      "\t                       12701500 (154x)\n",
      "\t                       201559434.39 (148x)\n",
      "\t                       51600000 (93x)\n",
      "\t                       1913.11 (87x)\n",
      "\n",
      " 18. \"TTL_DISB\"\n",
      "\n",
      "\tType of data:          Number\n",
      "\tContains null values:  False\n",
      "\tUnique values:         771\n",
      "\tSmallest value:        0\n",
      "\tLargest value:         359968142.06\n",
      "\tSum:                   134078144665.05\n",
      "\tMean:                  13409155.382043\n",
      "\tMedian:                979242.65\n",
      "\tStDev:                 56324051.955051\n",
      "\tMost common values:    217442847.17 (154x)\n",
      "\t                       307141452.43 (148x)\n",
      "\t                       359968142.06 (93x)\n",
      "\t                       24885272.17 (86x)\n",
      "\t                       9369667.62 (79x)\n",
      "\n",
      " 19. \"COH_BOP\"\n",
      "\n",
      "\tType of data:          Number\n",
      "\tContains null values:  False\n",
      "\tUnique values:         573\n",
      "\tSmallest value:        0\n",
      "\tLargest value:         19292901.2\n",
      "\tSum:                   11029064852.15\n",
      "\tMean:                  1103016.786894\n",
      "\tMedian:                417299.96\n",
      "\tStDev:                 2518724.122065\n",
      "\tMost common values:    0 (739x)\n",
      "\t                       4743726.76 (154x)\n",
      "\t                       19292901.2 (148x)\n",
      "\t                       1503727.91 (79x)\n",
      "\t                       19576.43 (66x)\n",
      "\n",
      " 20. \"COH_COP\"\n",
      "\n",
      "\tType of data:          Number\n",
      "\tContains null values:  False\n",
      "\tUnique values:         741\n",
      "\tSmallest value:        -2154.05\n",
      "\tLargest value:         180626411.08\n",
      "\tSum:                   58776344240.54\n",
      "\tMean:                  5878222.246279\n",
      "\tMedian:                1348533.64\n",
      "\tStDev:                 22432409.005868\n",
      "\tMost common values:    6051192.06 (154x)\n",
      "\t                       121096473 (148x)\n",
      "\t                       180626411.08 (93x)\n",
      "\t                       21218943.41 (86x)\n",
      "\t                       11592494.83 (79x)\n",
      "\n",
      " 21. \"CAND_CONTRIB\"\n",
      "\n",
      "\tType of data:          Number\n",
      "\tContains null values:  False\n",
      "\tUnique values:         133\n",
      "\tSmallest value:        0\n",
      "\tLargest value:         2974189.1\n",
      "\tSum:                   24964841.43\n",
      "\tMean:                  2496.733816\n",
      "\tMedian:                0\n",
      "\tStDev:                 62514.554314\n",
      "\tMost common values:    0 (9168x)\n",
      "\t                       5600 (66x)\n",
      "\t                       5770 (35x)\n",
      "\t                       250 (34x)\n",
      "\t                       20555.2 (32x)\n",
      "\n",
      " 22. \"TTL_INDIV_CONTRIB\"\n",
      "\n",
      "\tType of data:          Number\n",
      "\tContains null values:  False\n",
      "\tUnique values:         753\n",
      "\tSmallest value:        0\n",
      "\tLargest value:         486178980.7\n",
      "\tSum:                   133142953090.04\n",
      "\tMean:                  13315626.871691\n",
      "\tMedian:                821463.55\n",
      "\tStDev:                 57607187.572842\n",
      "\tMost common values:    202554495.98 (154x)\n",
      "\t                       204716090.3 (148x)\n",
      "\t                       486178980.7 (93x)\n",
      "\t                       44649118.29 (86x)\n",
      "\t                       15954679.02 (79x)\n",
      "\n",
      " 23. \"CAND_OFFICE_ST\"\n",
      "\n",
      "\tType of data:          Text\n",
      "\tContains null values:  False\n",
      "\tUnique values:         54\n",
      "\tLongest value:         2 characters\n",
      "\tMost common values:    CA (858x)\n",
      "\t                       TX (718x)\n",
      "\t                       IL (531x)\n",
      "\t                       NY (487x)\n",
      "\t                       00 (426x)\n",
      "\n",
      " 24. \"POL_PTY_CONTRIB\"\n",
      "\n",
      "\tType of data:          Number\n",
      "\tContains null values:  False\n",
      "\tUnique values:         128\n",
      "\tSmallest value:        0\n",
      "\tLargest value:         62550\n",
      "\tSum:                   23850402.36\n",
      "\tMean:                  2385.278764\n",
      "\tMedian:                0\n",
      "\tStDev:                 8118.714747\n",
      "\tMost common values:    0 (6950x)\n",
      "\t                       1000 (181x)\n",
      "\t                       4000 (125x)\n",
      "\t                       2500 (115x)\n",
      "\t                       45600 (103x)\n",
      "\n",
      " 25. \"CVG_END_DT\"\n",
      "\n",
      "\tType of data:          Date\n",
      "\tContains null values:  False\n",
      "\tUnique values:         41\n",
      "\tSmallest value:        2019-02-28\n",
      "\tLargest value:         2020-09-30\n",
      "\tMost common values:    2020-06-30 (6731x)\n",
      "\t                       2020-07-15 (1085x)\n",
      "\t                       2020-07-29 (461x)\n",
      "\t                       2020-08-31 (413x)\n",
      "\t                       2020-07-22 (366x)\n",
      "\n",
      " 26. \"CAND_ELECTION_YR\"\n",
      "\n",
      "\tType of data:          Number\n",
      "\tContains null values:  False\n",
      "\tUnique values:         7\n",
      "\tSmallest value:        2012\n",
      "\tLargest value:         2024\n",
      "\tSum:                   20198956\n",
      "\tMean:                  2020.09761\n",
      "\tMedian:                2020\n",
      "\tStDev:                 0.592574\n",
      "\tMost common values:    2020 (9579x)\n",
      "\t                       2022 (251x)\n",
      "\t                       2024 (140x)\n",
      "\t                       2018 (20x)\n",
      "\t                       2014 (6x)\n",
      "\n",
      " 27. \"CAND_OFFICE\"\n",
      "\n",
      "\tType of data:          Text\n",
      "\tContains null values:  False\n",
      "\tUnique values:         3\n",
      "\tLongest value:         1 characters\n",
      "\tMost common values:    H (7851x)\n",
      "\t                       S (1722x)\n",
      "\t                       P (426x)\n",
      "\n",
      " 28. \"CMTE_NM\"\n",
      "\n",
      "\tType of data:          Text\n",
      "\tContains null values:  False\n",
      "\tUnique values:         1283\n",
      "\tLongest value:         178 characters\n",
      "\tMost common values:    NATIONAL AIR TRAFFIC CONTROLLERS ASSOCIATION PAC (125x)\n",
      "\t                       LOCKHEED MARTIN CORPORATION EMPLOYEES' POLITICAL ACTION COMMITTEE (104x)\n",
      "\t                       NATIONAL ASSOCIATION OF REALTORS POLITICAL ACTION COMMITTEE (99x)\n",
      "\t                       DCCC (78x)\n",
      "\t                       CULAC THE PAC OF CREDIT UNION NATIONAL ASSOCIATION (74x)\n",
      "\n",
      " 29. \"TRES_NM\"\n",
      "\n",
      "\tType of data:          Text\n",
      "\tContains null values:  True (excluded from calculations)\n",
      "\tUnique values:         1187\n",
      "\tLongest value:         33 characters\n",
      "\tMost common values:    None (318x)\n",
      "\t                       GILBERT, PATRICIA MRS. (125x)\n",
      "\t                       FLOR, JOHN R MR. (104x)\n",
      "\t                       HEAD, ROBERT MR. (104x)\n",
      "\t                       JADOTTE, MARCUS (82x)\n",
      "\n",
      " 30. \"CMTE_CITY\"\n",
      "\n",
      "\tType of data:          Text\n",
      "\tContains null values:  True (excluded from calculations)\n",
      "\tUnique values:         377\n",
      "\tLongest value:         20 characters\n",
      "\tMost common values:    WASHINGTON (4405x)\n",
      "\t                       ARLINGTON (432x)\n",
      "\t                       ALEXANDRIA (380x)\n",
      "\t                       CHICAGO (237x)\n",
      "\t                       NEW YORK (193x)\n",
      "\n",
      " 31. \"CMTE_ST\"\n",
      "\n",
      "\tType of data:          Text\n",
      "\tContains null values:  True (excluded from calculations)\n",
      "\tUnique values:         47\n",
      "\tLongest value:         2 characters\n",
      "\tMost common values:    DC (4434x)\n",
      "\t                       VA (1318x)\n",
      "\t                       TX (489x)\n",
      "\t                       IL (483x)\n",
      "\t                       CA (444x)\n",
      "\n",
      " 32. \"CMTE_TP\"\n",
      "\n",
      "\tType of data:          Text\n",
      "\tContains null values:  False\n",
      "\tUnique values:         12\n",
      "\tLongest value:         1 characters\n",
      "\tMost common values:    Q (8877x)\n",
      "\t                       I (318x)\n",
      "\t                       O (285x)\n",
      "\t                       Y (155x)\n",
      "\t                       H (126x)\n",
      "\n",
      " 33. \"ORG_TP\"\n",
      "\n",
      "\tType of data:          Text\n",
      "\tContains null values:  True (excluded from calculations)\n",
      "\tUnique values:         7\n",
      "\tLongest value:         1 characters\n",
      "\tMost common values:    C (3944x)\n",
      "\t                       T (1926x)\n",
      "\t                       M (1431x)\n",
      "\t                       None (1415x)\n",
      "\t                       L (1058x)\n",
      "\n",
      " 34. \"CONNECTED_ORG_NM\"\n",
      "\n",
      "\tType of data:          Text\n",
      "\tContains null values:  True (excluded from calculations)\n",
      "\tUnique values:         757\n",
      "\tLongest value:         140 characters\n",
      "\tMost common values:    None (2558x)\n",
      "\t                       NATIONAL AIR TRAFFIC CONTROLLERS ASSOCIATION (125x)\n",
      "\t                       LOCKHEED MARTIN CORPORATION (104x)\n",
      "\t                       CALIFORNIA REAL ESTATE POLITICAL ACTION COMMITTEE (99x)\n",
      "\t                       HOUSE SENATE VICTORY FUND (78x)\n",
      "\n",
      "Row count: 9999\n"
     ]
    }
   ],
   "source": [
    "!head -n 10000 election.csv | csvstat"
   ]
  },
  {
   "cell_type": "code",
   "execution_count": null,
   "metadata": {},
   "outputs": [
    {
     "name": "stdout",
     "output_type": "stream",
     "text": [
      " * postgresql://student@/final_Project\n"
     ]
    }
   ],
   "source": [
    "%%sql\n",
    "DROP TABLE IF EXISTS Contribute_fact;\n",
    "\n",
    "CREATE TABLE Contribute_fact(\n",
    "    CMTE_ID VARCHAR(64) NOT NULL,\n",
    "    CAND_ID VARCHAR(64) NOT NULL,\n",
    "    RPT_TP VARCHAR(64) NOT NULL,\n",
    "    TRANSACTION_PGI VARCHAR(64),\n",
    "    TRANSACTION_TP VARCHAR(64) NOT NULL,\n",
    "    ENTITY_TP VARCHAR(64),\n",
    "    Contributor_NAME VARCHAR(200),\n",
    "    Contributor_CITY VARCHAR(64),\n",
    "    Contributor_STATE VARCHAR(64),\n",
    "    TRANSACTION_DT VARCHAR(64),\n",
    "    Trans_Month VARCHAR(64),\n",
    "    Trans_Year VARCHAR(64),\n",
    "    TRANSACTION_AMT numeric(30) NOT NULL,\n",
    "    CAND_NAME VARCHAR(64) NOT NULL,\n",
    "    CAND_PTY_AFFILIATION VARCHAR(64) NOT NULL,\n",
    "    TTL_RECEIPTS numeric(30) NOT NULL,\n",
    "    TRANS_FROM_AUTH numeric(30) NOT NULL,\n",
    "    TTL_DISB numeric(30) NOT NULL,\n",
    "    COH_BOP numeric(30) NOT NULL,\n",
    "    COH_COP numeric(30) NOT NULL,\n",
    "    CAND_CONTRIB numeric(30) NOT NULL,\n",
    "    TTL_INDIV_CONTRIB numeric(30) NOT NULL,\n",
    "    CAND_OFFICE_ST VARCHAR(64) NOT NULL,\n",
    "    POL_PTY_CONTRIB numeric(30) NOT NULL,\n",
    "    CVG_END_DT VARCHAR(64) NOT NULL,\n",
    "    CAND_ELECTION_YR VARCHAR(64) NOT NULL,\n",
    "    CAND_OFFICE VARCHAR(64) NOT NULL,\n",
    "    CMTE_NM VARCHAR(200) NOT NULL,\n",
    "    TRES_NM VARCHAR(64),\n",
    "    CMTE_CITY VARCHAR(64),\n",
    "    CMTE_ST VARCHAR(64),\n",
    "    CMTE_TP VARCHAR(64) NOT NULL,\n",
    "    ORG_TP VARCHAR(64),\n",
    "    CONNECTED_ORG_NM VARCHAR(200)\n",
    ")"
   ]
  },
  {
   "cell_type": "code",
   "execution_count": 8,
   "metadata": {},
   "outputs": [
    {
     "name": "stdout",
     "output_type": "stream",
     "text": [
      "/home/ubuntu\n"
     ]
    }
   ],
   "source": [
    "!pwd"
   ]
  },
  {
   "cell_type": "code",
   "execution_count": 9,
   "metadata": {},
   "outputs": [
    {
     "name": "stdout",
     "output_type": "stream",
     "text": [
      " * postgresql://student@/final_Project\n",
      "553819 rows affected.\n"
     ]
    },
    {
     "data": {
      "text/plain": [
       "[]"
      ]
     },
     "execution_count": 9,
     "metadata": {},
     "output_type": "execute_result"
    }
   ],
   "source": [
    "%%sql\n",
    "COPY Contribute_fact FROM '/home/ubuntu/election.csv'\n",
    "CSV\n",
    "HEADER;"
   ]
  },
  {
   "cell_type": "code",
   "execution_count": 10,
   "metadata": {},
   "outputs": [
    {
     "name": "stdout",
     "output_type": "stream",
     "text": [
      " * postgresql://student@/final_Project\n",
      "1 rows affected.\n"
     ]
    },
    {
     "data": {
      "text/html": [
       "<table>\n",
       "    <tr>\n",
       "        <th>count</th>\n",
       "    </tr>\n",
       "    <tr>\n",
       "        <td>553819</td>\n",
       "    </tr>\n",
       "</table>"
      ],
      "text/plain": [
       "[(553819,)]"
      ]
     },
     "execution_count": 10,
     "metadata": {},
     "output_type": "execute_result"
    }
   ],
   "source": [
    "%%sql\n",
    "SELECT COUNT(*) FROM Contribute_fact;"
   ]
  },
  {
   "cell_type": "code",
   "execution_count": 11,
   "metadata": {},
   "outputs": [
    {
     "name": "stdout",
     "output_type": "stream",
     "text": [
      " * postgresql://student@/final_Project\n",
      "10 rows affected.\n"
     ]
    },
    {
     "data": {
      "text/html": [
       "<table>\n",
       "    <tr>\n",
       "        <th>cmte_id</th>\n",
       "        <th>cand_id</th>\n",
       "        <th>rpt_tp</th>\n",
       "        <th>transaction_pgi</th>\n",
       "        <th>transaction_tp</th>\n",
       "        <th>entity_tp</th>\n",
       "        <th>contributor_name</th>\n",
       "        <th>contributor_city</th>\n",
       "        <th>contributor_state</th>\n",
       "        <th>transaction_dt</th>\n",
       "        <th>trans_month</th>\n",
       "        <th>trans_year</th>\n",
       "        <th>transaction_amt</th>\n",
       "        <th>cand_name</th>\n",
       "        <th>cand_pty_affiliation</th>\n",
       "        <th>ttl_receipts</th>\n",
       "        <th>trans_from_auth</th>\n",
       "        <th>ttl_disb</th>\n",
       "        <th>coh_bop</th>\n",
       "        <th>coh_cop</th>\n",
       "        <th>cand_contrib</th>\n",
       "        <th>ttl_indiv_contrib</th>\n",
       "        <th>cand_office_st</th>\n",
       "        <th>pol_pty_contrib</th>\n",
       "        <th>cvg_end_dt</th>\n",
       "        <th>cand_election_yr</th>\n",
       "        <th>cand_office</th>\n",
       "        <th>cmte_nm</th>\n",
       "        <th>tres_nm</th>\n",
       "        <th>cmte_city</th>\n",
       "        <th>cmte_st</th>\n",
       "        <th>cmte_tp</th>\n",
       "        <th>org_tp</th>\n",
       "        <th>connected_org_nm</th>\n",
       "    </tr>\n",
       "    <tr>\n",
       "        <td>C00032995</td>\n",
       "        <td>H0RI02139</td>\n",
       "        <td>M4</td>\n",
       "        <td>G2020</td>\n",
       "        <td>24K</td>\n",
       "        <td>CCM</td>\n",
       "        <td>LANGEVIN FOR CONGRESS</td>\n",
       "        <td>WARWICK</td>\n",
       "        <td>RI</td>\n",
       "        <td>03/05/2020</td>\n",
       "        <td>3</td>\n",
       "        <td>2020</td>\n",
       "        <td>1000</td>\n",
       "        <td>LANGEVIN, JAMES R HONORABLE</td>\n",
       "        <td>DEM</td>\n",
       "        <td>901299</td>\n",
       "        <td>0</td>\n",
       "        <td>660846</td>\n",
       "        <td>1031500</td>\n",
       "        <td>1271953</td>\n",
       "        <td>500</td>\n",
       "        <td>450703</td>\n",
       "        <td>RI</td>\n",
       "        <td>0</td>\n",
       "        <td>08/19/2020</td>\n",
       "        <td>2020</td>\n",
       "        <td>H</td>\n",
       "        <td>AMALGAMATED TRANSIT UNION - COPE</td>\n",
       "        <td>COSTA, JOHN</td>\n",
       "        <td>SILVER SPRING</td>\n",
       "        <td>MD</td>\n",
       "        <td>Q</td>\n",
       "        <td>L</td>\n",
       "        <td>AMALGAMATED TRANSIT UNION</td>\n",
       "    </tr>\n",
       "    <tr>\n",
       "        <td>C00158881</td>\n",
       "        <td>H6GA03113</td>\n",
       "        <td>M5</td>\n",
       "        <td>P2020</td>\n",
       "        <td>24K</td>\n",
       "        <td>CCM</td>\n",
       "        <td>DREW FERGUSON FOR CONGRESS INC.</td>\n",
       "        <td>NEWNAN</td>\n",
       "        <td>GA</td>\n",
       "        <td>04/12/2019</td>\n",
       "        <td>4</td>\n",
       "        <td>2019</td>\n",
       "        <td>2000</td>\n",
       "        <td>FERGUSON, ANDERSON DREW IV</td>\n",
       "        <td>REP</td>\n",
       "        <td>1806115</td>\n",
       "        <td>95249</td>\n",
       "        <td>1464968</td>\n",
       "        <td>114787</td>\n",
       "        <td>455933</td>\n",
       "        <td>0</td>\n",
       "        <td>607094</td>\n",
       "        <td>GA</td>\n",
       "        <td>0</td>\n",
       "        <td>06/30/2020</td>\n",
       "        <td>2020</td>\n",
       "        <td>H</td>\n",
       "        <td>NEW YORK LIFE INSURANCE COMPANY POLITICAL ACTION COMMITTEE</td>\n",
       "        <td>STAGIAS, HELEN</td>\n",
       "        <td>NEW YORK</td>\n",
       "        <td>NY</td>\n",
       "        <td>Q</td>\n",
       "        <td>W</td>\n",
       "        <td>NEW YORK LIFE INSURANCE COMPANY</td>\n",
       "    </tr>\n",
       "    <tr>\n",
       "        <td>C00147173</td>\n",
       "        <td>H6GA03113</td>\n",
       "        <td>YE</td>\n",
       "        <td>G2020</td>\n",
       "        <td>24K</td>\n",
       "        <td>CCM</td>\n",
       "        <td>DREW FERGUSON FOR CONGRESS INC.</td>\n",
       "        <td>NEWNAN</td>\n",
       "        <td>GA</td>\n",
       "        <td>12/04/2019</td>\n",
       "        <td>12</td>\n",
       "        <td>2019</td>\n",
       "        <td>-401</td>\n",
       "        <td>FERGUSON, ANDERSON DREW IV</td>\n",
       "        <td>REP</td>\n",
       "        <td>1806115</td>\n",
       "        <td>95249</td>\n",
       "        <td>1464968</td>\n",
       "        <td>114787</td>\n",
       "        <td>455933</td>\n",
       "        <td>0</td>\n",
       "        <td>607094</td>\n",
       "        <td>GA</td>\n",
       "        <td>0</td>\n",
       "        <td>06/30/2020</td>\n",
       "        <td>2020</td>\n",
       "        <td>H</td>\n",
       "        <td>WINE AND SPIRITS WHOLESALERS OF AMERICA, INC. POLITICAL ACTION COMMITTEE</td>\n",
       "        <td>LISKER, LISA</td>\n",
       "        <td>WASHINGTON</td>\n",
       "        <td>DC</td>\n",
       "        <td>Q</td>\n",
       "        <td>T</td>\n",
       "        <td>WINE &amp; SPIRITS WHOLESALERS OF AMERICA</td>\n",
       "    </tr>\n",
       "    <tr>\n",
       "        <td>C00121368</td>\n",
       "        <td>H6GA03113</td>\n",
       "        <td>M5</td>\n",
       "        <td>G2020</td>\n",
       "        <td>24K</td>\n",
       "        <td>CCM</td>\n",
       "        <td>DREW FERGUSON FOR CONGRESS INC.</td>\n",
       "        <td>NEWNAN</td>\n",
       "        <td>GA</td>\n",
       "        <td>04/27/2020</td>\n",
       "        <td>4</td>\n",
       "        <td>2020</td>\n",
       "        <td>500</td>\n",
       "        <td>FERGUSON, ANDERSON DREW IV</td>\n",
       "        <td>REP</td>\n",
       "        <td>1806115</td>\n",
       "        <td>95249</td>\n",
       "        <td>1464968</td>\n",
       "        <td>114787</td>\n",
       "        <td>455933</td>\n",
       "        <td>0</td>\n",
       "        <td>607094</td>\n",
       "        <td>GA</td>\n",
       "        <td>0</td>\n",
       "        <td>06/30/2020</td>\n",
       "        <td>2020</td>\n",
       "        <td>H</td>\n",
       "        <td>EXXON MOBIL CORPORATION POLITICAL ACTION COMMITTEE (EXXONMOBIL PAC)</td>\n",
       "        <td>CARTWRIGHT, VLADIMIR M</td>\n",
       "        <td>WASHINGTON</td>\n",
       "        <td>DC</td>\n",
       "        <td>Q</td>\n",
       "        <td>C</td>\n",
       "        <td>EXXON MOBIL CORPORATION</td>\n",
       "    </tr>\n",
       "    <tr>\n",
       "        <td>C00248716</td>\n",
       "        <td>H6NE02125</td>\n",
       "        <td>M3</td>\n",
       "        <td>P2020</td>\n",
       "        <td>24K</td>\n",
       "        <td>CCM</td>\n",
       "        <td>DON BACON FOR CONGRESS</td>\n",
       "        <td>OMAHA</td>\n",
       "        <td>NE</td>\n",
       "        <td>02/27/2019</td>\n",
       "        <td>2</td>\n",
       "        <td>2019</td>\n",
       "        <td>1000</td>\n",
       "        <td>BACON, DONALD J</td>\n",
       "        <td>REP</td>\n",
       "        <td>2242576</td>\n",
       "        <td>353283</td>\n",
       "        <td>1262764</td>\n",
       "        <td>49728</td>\n",
       "        <td>1029539</td>\n",
       "        <td>65</td>\n",
       "        <td>962135</td>\n",
       "        <td>NE</td>\n",
       "        <td>0</td>\n",
       "        <td>06/30/2020</td>\n",
       "        <td>2020</td>\n",
       "        <td>H</td>\n",
       "        <td>COMCAST CORPORATION &amp; NBCUNIVERSAL POLITICAL ACTION COMMITTEE - FEDERAL</td>\n",
       "        <td>ARMSTRONG, JASON MR.</td>\n",
       "        <td>PHILADELPHIA</td>\n",
       "        <td>PA</td>\n",
       "        <td>Q</td>\n",
       "        <td>C</td>\n",
       "        <td>COMCAST CORPORATION</td>\n",
       "    </tr>\n",
       "    <tr>\n",
       "        <td>C00300178</td>\n",
       "        <td>H6NE02125</td>\n",
       "        <td>YE</td>\n",
       "        <td>P2020</td>\n",
       "        <td>24K</td>\n",
       "        <td>CCM</td>\n",
       "        <td>DON BACON FOR CONGRESS</td>\n",
       "        <td>OMAHA</td>\n",
       "        <td>NE</td>\n",
       "        <td>12/18/2019</td>\n",
       "        <td>12</td>\n",
       "        <td>2019</td>\n",
       "        <td>2000</td>\n",
       "        <td>BACON, DONALD J</td>\n",
       "        <td>REP</td>\n",
       "        <td>2242576</td>\n",
       "        <td>353283</td>\n",
       "        <td>1262764</td>\n",
       "        <td>49728</td>\n",
       "        <td>1029539</td>\n",
       "        <td>65</td>\n",
       "        <td>962135</td>\n",
       "        <td>NE</td>\n",
       "        <td>0</td>\n",
       "        <td>06/30/2020</td>\n",
       "        <td>2020</td>\n",
       "        <td>H</td>\n",
       "        <td>WELLS FARGO AND COMPANY EMPLOYEES GOOD GOVERNMENT FEDERAL FUND II</td>\n",
       "        <td>AIMONE, SHANNON MS.</td>\n",
       "        <td>MINNEAPOLIS</td>\n",
       "        <td>MN</td>\n",
       "        <td>Q</td>\n",
       "        <td>C</td>\n",
       "        <td></td>\n",
       "    </tr>\n",
       "    <tr>\n",
       "        <td>C00117861</td>\n",
       "        <td>H6NE02125</td>\n",
       "        <td>M11</td>\n",
       "        <td>P2020</td>\n",
       "        <td>24K</td>\n",
       "        <td>CCM</td>\n",
       "        <td>DON BACON FOR CONGRESS</td>\n",
       "        <td>OMAHA</td>\n",
       "        <td>NE</td>\n",
       "        <td>10/17/2019</td>\n",
       "        <td>10</td>\n",
       "        <td>2019</td>\n",
       "        <td>1000</td>\n",
       "        <td>BACON, DONALD J</td>\n",
       "        <td>REP</td>\n",
       "        <td>2242576</td>\n",
       "        <td>353283</td>\n",
       "        <td>1262764</td>\n",
       "        <td>49728</td>\n",
       "        <td>1029539</td>\n",
       "        <td>65</td>\n",
       "        <td>962135</td>\n",
       "        <td>NE</td>\n",
       "        <td>0</td>\n",
       "        <td>06/30/2020</td>\n",
       "        <td>2020</td>\n",
       "        <td>H</td>\n",
       "        <td>LOCKE LORD LLP PAC</td>\n",
       "        <td>BRANDON LOBB</td>\n",
       "        <td>HOUSTON</td>\n",
       "        <td>TX</td>\n",
       "        <td>Q</td>\n",
       "        <td>M</td>\n",
       "        <td></td>\n",
       "    </tr>\n",
       "    <tr>\n",
       "        <td>C00040535</td>\n",
       "        <td>H8CA01109</td>\n",
       "        <td>M5</td>\n",
       "        <td>P2020</td>\n",
       "        <td>24K</td>\n",
       "        <td>CCM</td>\n",
       "        <td>MIKE THOMPSON FOR CONGRESS</td>\n",
       "        <td>SACRAMENTO</td>\n",
       "        <td>CA</td>\n",
       "        <td>04/02/2019</td>\n",
       "        <td>4</td>\n",
       "        <td>2019</td>\n",
       "        <td>2500</td>\n",
       "        <td>THOMPSON, MIKE MR.</td>\n",
       "        <td>DEM</td>\n",
       "        <td>1623479</td>\n",
       "        <td>0</td>\n",
       "        <td>1595764</td>\n",
       "        <td>1560786</td>\n",
       "        <td>1588501</td>\n",
       "        <td>0</td>\n",
       "        <td>574956</td>\n",
       "        <td>CA</td>\n",
       "        <td>0</td>\n",
       "        <td>06/30/2020</td>\n",
       "        <td>2020</td>\n",
       "        <td>H</td>\n",
       "        <td>AMERICAN EXPRESS COMPANY POLITICAL ACTION COMMITTEE (AXPPAC)</td>\n",
       "        <td>LOPER, BRETT</td>\n",
       "        <td>WASHINGTON</td>\n",
       "        <td>DC</td>\n",
       "        <td>Q</td>\n",
       "        <td>C</td>\n",
       "        <td>AMERICAN EXPRESS COMPANY</td>\n",
       "    </tr>\n",
       "    <tr>\n",
       "        <td>C00098061</td>\n",
       "        <td>H8CA01109</td>\n",
       "        <td>M7</td>\n",
       "        <td>P2020</td>\n",
       "        <td>24K</td>\n",
       "        <td>CCM</td>\n",
       "        <td>MIKE THOMPSON FOR CONGRESS</td>\n",
       "        <td>SACRAMENTO</td>\n",
       "        <td>CA</td>\n",
       "        <td>06/07/2019</td>\n",
       "        <td>6</td>\n",
       "        <td>2019</td>\n",
       "        <td>1000</td>\n",
       "        <td>THOMPSON, MIKE MR.</td>\n",
       "        <td>DEM</td>\n",
       "        <td>1623479</td>\n",
       "        <td>0</td>\n",
       "        <td>1595764</td>\n",
       "        <td>1560786</td>\n",
       "        <td>1588501</td>\n",
       "        <td>0</td>\n",
       "        <td>574956</td>\n",
       "        <td>CA</td>\n",
       "        <td>0</td>\n",
       "        <td>06/30/2020</td>\n",
       "        <td>2020</td>\n",
       "        <td>H</td>\n",
       "        <td>TARGET CORPORATION CITIZENS POLITICAL FORUM (TARGETCITIZENS POLITICAL FORUM)</td>\n",
       "        <td>ADAMS, VICTORIA</td>\n",
       "        <td>MINNEAPOLIS</td>\n",
       "        <td>MN</td>\n",
       "        <td>Q</td>\n",
       "        <td>C</td>\n",
       "        <td>TARGET CORPORATION</td>\n",
       "    </tr>\n",
       "    <tr>\n",
       "        <td>C00077321</td>\n",
       "        <td>H8CA01109</td>\n",
       "        <td>M8</td>\n",
       "        <td>G2020</td>\n",
       "        <td>24K</td>\n",
       "        <td>CCM</td>\n",
       "        <td>MIKE THOMPSON FOR CONGRESS</td>\n",
       "        <td>SACRAMENTO</td>\n",
       "        <td>CA</td>\n",
       "        <td>07/27/2020</td>\n",
       "        <td>7</td>\n",
       "        <td>2020</td>\n",
       "        <td>5000</td>\n",
       "        <td>THOMPSON, MIKE MR.</td>\n",
       "        <td>DEM</td>\n",
       "        <td>1623479</td>\n",
       "        <td>0</td>\n",
       "        <td>1595764</td>\n",
       "        <td>1560786</td>\n",
       "        <td>1588501</td>\n",
       "        <td>0</td>\n",
       "        <td>574956</td>\n",
       "        <td>CA</td>\n",
       "        <td>0</td>\n",
       "        <td>06/30/2020</td>\n",
       "        <td>2020</td>\n",
       "        <td>H</td>\n",
       "        <td>AMERICAN INSTITUTE OF CERTIFIED PUBLIC ACCOUNTANTS POLITICAL ACTION COMMITTEE</td>\n",
       "        <td>SPIEGEL, SCOTT H. MR.</td>\n",
       "        <td>DURHAM</td>\n",
       "        <td>NC</td>\n",
       "        <td>Q</td>\n",
       "        <td>M</td>\n",
       "        <td>AMERICAN INSTITUTE OF CERTIFIED PUBLIC ACCOUNTANTS</td>\n",
       "    </tr>\n",
       "</table>"
      ],
      "text/plain": [
       "[('C00032995', 'H0RI02139', 'M4', 'G2020', '24K', 'CCM', 'LANGEVIN FOR CONGRESS', 'WARWICK', 'RI', '03/05/2020', '3', '2020', Decimal('1000'), 'LANGEVIN, JAMES R HONORABLE', 'DEM', Decimal('901299'), Decimal('0'), Decimal('660846'), Decimal('1031500'), Decimal('1271953'), Decimal('500'), Decimal('450703'), 'RI', Decimal('0'), '08/19/2020', '2020', 'H', 'AMALGAMATED TRANSIT UNION - COPE', 'COSTA, JOHN', 'SILVER SPRING', 'MD', 'Q', 'L', 'AMALGAMATED TRANSIT UNION'),\n",
       " ('C00158881', 'H6GA03113', 'M5', 'P2020', '24K', 'CCM', 'DREW FERGUSON FOR CONGRESS INC.', 'NEWNAN', 'GA', '04/12/2019', '4', '2019', Decimal('2000'), 'FERGUSON, ANDERSON DREW IV', 'REP', Decimal('1806115'), Decimal('95249'), Decimal('1464968'), Decimal('114787'), Decimal('455933'), Decimal('0'), Decimal('607094'), 'GA', Decimal('0'), '06/30/2020', '2020', 'H', 'NEW YORK LIFE INSURANCE COMPANY POLITICAL ACTION COMMITTEE', 'STAGIAS, HELEN', 'NEW YORK', 'NY', 'Q', 'W', 'NEW YORK LIFE INSURANCE COMPANY'),\n",
       " ('C00147173', 'H6GA03113', 'YE', 'G2020', '24K', 'CCM', 'DREW FERGUSON FOR CONGRESS INC.', 'NEWNAN', 'GA', '12/04/2019', '12', '2019', Decimal('-401'), 'FERGUSON, ANDERSON DREW IV', 'REP', Decimal('1806115'), Decimal('95249'), Decimal('1464968'), Decimal('114787'), Decimal('455933'), Decimal('0'), Decimal('607094'), 'GA', Decimal('0'), '06/30/2020', '2020', 'H', 'WINE AND SPIRITS WHOLESALERS OF AMERICA, INC. POLITICAL ACTION COMMITTEE', 'LISKER, LISA', 'WASHINGTON', 'DC', 'Q', 'T', 'WINE & SPIRITS WHOLESALERS OF AMERICA'),\n",
       " ('C00121368', 'H6GA03113', 'M5', 'G2020', '24K', 'CCM', 'DREW FERGUSON FOR CONGRESS INC.', 'NEWNAN', 'GA', '04/27/2020', '4', '2020', Decimal('500'), 'FERGUSON, ANDERSON DREW IV', 'REP', Decimal('1806115'), Decimal('95249'), Decimal('1464968'), Decimal('114787'), Decimal('455933'), Decimal('0'), Decimal('607094'), 'GA', Decimal('0'), '06/30/2020', '2020', 'H', 'EXXON MOBIL CORPORATION POLITICAL ACTION COMMITTEE (EXXONMOBIL PAC)', 'CARTWRIGHT, VLADIMIR M', 'WASHINGTON', 'DC', 'Q', 'C', 'EXXON MOBIL CORPORATION'),\n",
       " ('C00248716', 'H6NE02125', 'M3', 'P2020', '24K', 'CCM', 'DON BACON FOR CONGRESS', 'OMAHA', 'NE', '02/27/2019', '2', '2019', Decimal('1000'), 'BACON, DONALD J', 'REP', Decimal('2242576'), Decimal('353283'), Decimal('1262764'), Decimal('49728'), Decimal('1029539'), Decimal('65'), Decimal('962135'), 'NE', Decimal('0'), '06/30/2020', '2020', 'H', 'COMCAST CORPORATION & NBCUNIVERSAL POLITICAL ACTION COMMITTEE - FEDERAL', 'ARMSTRONG, JASON MR.', 'PHILADELPHIA', 'PA', 'Q', 'C', 'COMCAST CORPORATION'),\n",
       " ('C00300178', 'H6NE02125', 'YE', 'P2020', '24K', 'CCM', 'DON BACON FOR CONGRESS', 'OMAHA', 'NE', '12/18/2019', '12', '2019', Decimal('2000'), 'BACON, DONALD J', 'REP', Decimal('2242576'), Decimal('353283'), Decimal('1262764'), Decimal('49728'), Decimal('1029539'), Decimal('65'), Decimal('962135'), 'NE', Decimal('0'), '06/30/2020', '2020', 'H', 'WELLS FARGO AND COMPANY EMPLOYEES GOOD GOVERNMENT FEDERAL FUND II', 'AIMONE, SHANNON MS.', 'MINNEAPOLIS', 'MN', 'Q', 'C', ''),\n",
       " ('C00117861', 'H6NE02125', 'M11', 'P2020', '24K', 'CCM', 'DON BACON FOR CONGRESS', 'OMAHA', 'NE', '10/17/2019', '10', '2019', Decimal('1000'), 'BACON, DONALD J', 'REP', Decimal('2242576'), Decimal('353283'), Decimal('1262764'), Decimal('49728'), Decimal('1029539'), Decimal('65'), Decimal('962135'), 'NE', Decimal('0'), '06/30/2020', '2020', 'H', 'LOCKE LORD LLP PAC', 'BRANDON LOBB', 'HOUSTON', 'TX', 'Q', 'M', ''),\n",
       " ('C00040535', 'H8CA01109', 'M5', 'P2020', '24K', 'CCM', 'MIKE THOMPSON FOR CONGRESS', 'SACRAMENTO', 'CA', '04/02/2019', '4', '2019', Decimal('2500'), 'THOMPSON, MIKE MR.', 'DEM', Decimal('1623479'), Decimal('0'), Decimal('1595764'), Decimal('1560786'), Decimal('1588501'), Decimal('0'), Decimal('574956'), 'CA', Decimal('0'), '06/30/2020', '2020', 'H', 'AMERICAN EXPRESS COMPANY POLITICAL ACTION COMMITTEE (AXPPAC)', 'LOPER, BRETT', 'WASHINGTON', 'DC', 'Q', 'C', 'AMERICAN EXPRESS COMPANY'),\n",
       " ('C00098061', 'H8CA01109', 'M7', 'P2020', '24K', 'CCM', 'MIKE THOMPSON FOR CONGRESS', 'SACRAMENTO', 'CA', '06/07/2019', '6', '2019', Decimal('1000'), 'THOMPSON, MIKE MR.', 'DEM', Decimal('1623479'), Decimal('0'), Decimal('1595764'), Decimal('1560786'), Decimal('1588501'), Decimal('0'), Decimal('574956'), 'CA', Decimal('0'), '06/30/2020', '2020', 'H', 'TARGET CORPORATION CITIZENS POLITICAL FORUM (TARGETCITIZENS POLITICAL FORUM)', 'ADAMS, VICTORIA', 'MINNEAPOLIS', 'MN', 'Q', 'C', 'TARGET CORPORATION'),\n",
       " ('C00077321', 'H8CA01109', 'M8', 'G2020', '24K', 'CCM', 'MIKE THOMPSON FOR CONGRESS', 'SACRAMENTO', 'CA', '07/27/2020', '7', '2020', Decimal('5000'), 'THOMPSON, MIKE MR.', 'DEM', Decimal('1623479'), Decimal('0'), Decimal('1595764'), Decimal('1560786'), Decimal('1588501'), Decimal('0'), Decimal('574956'), 'CA', Decimal('0'), '06/30/2020', '2020', 'H', 'AMERICAN INSTITUTE OF CERTIFIED PUBLIC ACCOUNTANTS POLITICAL ACTION COMMITTEE', 'SPIEGEL, SCOTT H. MR.', 'DURHAM', 'NC', 'Q', 'M', 'AMERICAN INSTITUTE OF CERTIFIED PUBLIC ACCOUNTANTS')]"
      ]
     },
     "execution_count": 11,
     "metadata": {},
     "output_type": "execute_result"
    }
   ],
   "source": [
    "%%sql\n",
    "SELECT * FROM Contribute_fact\n",
    "LIMIT 10"
   ]
  },
  {
   "cell_type": "markdown",
   "metadata": {},
   "source": [
    "### "
   ]
  },
  {
   "cell_type": "markdown",
   "metadata": {},
   "source": [
    "### Next we need to look at the current contribution design and build the dimensional equivalent to the design"
   ]
  },
  {
   "cell_type": "markdown",
   "metadata": {},
   "source": [
    "## More ETL with SQL"
   ]
  },
  {
   "cell_type": "code",
   "execution_count": null,
   "metadata": {},
   "outputs": [],
   "source": []
  },
  {
   "cell_type": "markdown",
   "metadata": {},
   "source": [
    "### Create Date Table"
   ]
  },
  {
   "cell_type": "code",
   "execution_count": 12,
   "metadata": {},
   "outputs": [
    {
     "name": "stdout",
     "output_type": "stream",
     "text": [
      " * postgresql://student@/final_Project\n",
      "Done.\n",
      "Done.\n"
     ]
    },
    {
     "data": {
      "text/plain": [
       "[]"
      ]
     },
     "execution_count": 12,
     "metadata": {},
     "output_type": "execute_result"
    }
   ],
   "source": [
    "%%sql\n",
    "DROP TABLE IF EXISTS Date;\n",
    "\n",
    "CREATE TABLE Date (\n",
    "    key SERIAL PRIMARY KEY,\n",
    "    TRANSACTION_DT VARCHAR(64),\n",
    "    CVG_END_DT VARCHAR(64),\n",
    "    CAND_ELECTION_YR VARCHAR(64),\n",
    "    Trans_Month VARCHAR(64),\n",
    "    Trans_Year VARCHAR(64)\n",
    ");"
   ]
  },
  {
   "cell_type": "code",
   "execution_count": 13,
   "metadata": {},
   "outputs": [
    {
     "name": "stdout",
     "output_type": "stream",
     "text": [
      " * postgresql://student@/final_Project\n",
      "13944 rows affected.\n"
     ]
    },
    {
     "data": {
      "text/plain": [
       "[]"
      ]
     },
     "execution_count": 13,
     "metadata": {},
     "output_type": "execute_result"
    }
   ],
   "source": [
    "%%sql\n",
    "INSERT INTO Date (TRANSACTION_DT,CVG_END_DT,CAND_ELECTION_YR,Trans_Month,Trans_Year)\n",
    "SELECT DISTINCT TRANSACTION_DT AS Trans_DT,\n",
    "       CVG_END_DT,\n",
    "       CAND_ELECTION_YR,\n",
    "       Trans_Month,\n",
    "       Trans_Year\n",
    "From Contribute_fact;"
   ]
  },
  {
   "cell_type": "code",
   "execution_count": 14,
   "metadata": {},
   "outputs": [
    {
     "name": "stdout",
     "output_type": "stream",
     "text": [
      " * postgresql://student@/final_Project\n",
      "10 rows affected.\n"
     ]
    },
    {
     "data": {
      "text/html": [
       "<table>\n",
       "    <tr>\n",
       "        <th>key</th>\n",
       "        <th>transaction_dt</th>\n",
       "        <th>cvg_end_dt</th>\n",
       "        <th>cand_election_yr</th>\n",
       "        <th>trans_month</th>\n",
       "        <th>trans_year</th>\n",
       "    </tr>\n",
       "    <tr>\n",
       "        <td>1</td>\n",
       "        <td>07/16/2019</td>\n",
       "        <td>07/04/2020</td>\n",
       "        <td>2020</td>\n",
       "        <td>7</td>\n",
       "        <td>2019</td>\n",
       "    </tr>\n",
       "    <tr>\n",
       "        <td>2</td>\n",
       "        <td>04/07/2016</td>\n",
       "        <td>12/31/2016</td>\n",
       "        <td>2008</td>\n",
       "        <td>4</td>\n",
       "        <td>2016</td>\n",
       "    </tr>\n",
       "    <tr>\n",
       "        <td>3</td>\n",
       "        <td>06/15/2020</td>\n",
       "        <td>06/30/2020</td>\n",
       "        <td>2022</td>\n",
       "        <td>6</td>\n",
       "        <td>2020</td>\n",
       "    </tr>\n",
       "    <tr>\n",
       "        <td>4</td>\n",
       "        <td>09/28/2015</td>\n",
       "        <td>12/31/2016</td>\n",
       "        <td>2014</td>\n",
       "        <td>9</td>\n",
       "        <td>2015</td>\n",
       "    </tr>\n",
       "    <tr>\n",
       "        <td>5</td>\n",
       "        <td>05/17/2016</td>\n",
       "        <td>12/31/2016</td>\n",
       "        <td></td>\n",
       "        <td>5</td>\n",
       "        <td>2016</td>\n",
       "    </tr>\n",
       "    <tr>\n",
       "        <td>6</td>\n",
       "        <td>05/01/2015</td>\n",
       "        <td>12/31/2016</td>\n",
       "        <td>2015</td>\n",
       "        <td>5</td>\n",
       "        <td>2015</td>\n",
       "    </tr>\n",
       "    <tr>\n",
       "        <td>7</td>\n",
       "        <td>09/20/2020</td>\n",
       "        <td>09/30/2020</td>\n",
       "        <td>2020</td>\n",
       "        <td>9</td>\n",
       "        <td>2020</td>\n",
       "    </tr>\n",
       "    <tr>\n",
       "        <td>8</td>\n",
       "        <td>06/20/2016</td>\n",
       "        <td>12/31/2016</td>\n",
       "        <td>2008</td>\n",
       "        <td>6</td>\n",
       "        <td>2016</td>\n",
       "    </tr>\n",
       "    <tr>\n",
       "        <td>9</td>\n",
       "        <td>09/26/2016</td>\n",
       "        <td>12/31/2016</td>\n",
       "        <td>2006</td>\n",
       "        <td>9</td>\n",
       "        <td>2016</td>\n",
       "    </tr>\n",
       "    <tr>\n",
       "        <td>10</td>\n",
       "        <td>08/31/2016</td>\n",
       "        <td>12/31/2016</td>\n",
       "        <td>2008</td>\n",
       "        <td>8</td>\n",
       "        <td>2016</td>\n",
       "    </tr>\n",
       "</table>"
      ],
      "text/plain": [
       "[(1, '07/16/2019', '07/04/2020', '2020', '7', '2019'),\n",
       " (2, '04/07/2016', '12/31/2016', '2008', '4', '2016'),\n",
       " (3, '06/15/2020', '06/30/2020', '2022', '6', '2020'),\n",
       " (4, '09/28/2015', '12/31/2016', '2014', '9', '2015'),\n",
       " (5, '05/17/2016', '12/31/2016', '', '5', '2016'),\n",
       " (6, '05/01/2015', '12/31/2016', '2015', '5', '2015'),\n",
       " (7, '09/20/2020', '09/30/2020', '2020', '9', '2020'),\n",
       " (8, '06/20/2016', '12/31/2016', '2008', '6', '2016'),\n",
       " (9, '09/26/2016', '12/31/2016', '2006', '9', '2016'),\n",
       " (10, '08/31/2016', '12/31/2016', '2008', '8', '2016')]"
      ]
     },
     "execution_count": 14,
     "metadata": {},
     "output_type": "execute_result"
    }
   ],
   "source": [
    "%%sql \n",
    "SELECT * FROM Date LIMIT 10;"
   ]
  },
  {
   "cell_type": "markdown",
   "metadata": {},
   "source": [
    "### Create Location Table"
   ]
  },
  {
   "cell_type": "code",
   "execution_count": 15,
   "metadata": {},
   "outputs": [
    {
     "name": "stdout",
     "output_type": "stream",
     "text": [
      " * postgresql://student@/final_Project\n",
      "Done.\n",
      "Done.\n"
     ]
    },
    {
     "data": {
      "text/plain": [
       "[]"
      ]
     },
     "execution_count": 15,
     "metadata": {},
     "output_type": "execute_result"
    }
   ],
   "source": [
    "%%sql\n",
    "DROP TABLE IF EXISTS Location;\n",
    "\n",
    "CREATE TABLE Location (\n",
    "    key SERIAL PRIMARY KEY,\n",
    "    CAND_OFFICE_ST VARCHAR(64),\n",
    "    CMTE_CITY VARCHAR(64),\n",
    "    CMTE_ST VARCHAR(64),\n",
    "    Contributor_STATE VARCHAR(64),\n",
    "    Contributor_CITY VARCHAR(64)\n",
    ");"
   ]
  },
  {
   "cell_type": "code",
   "execution_count": 16,
   "metadata": {},
   "outputs": [
    {
     "name": "stdout",
     "output_type": "stream",
     "text": [
      " * postgresql://student@/final_Project\n",
      "73811 rows affected.\n"
     ]
    },
    {
     "data": {
      "text/plain": [
       "[]"
      ]
     },
     "execution_count": 16,
     "metadata": {},
     "output_type": "execute_result"
    }
   ],
   "source": [
    "%%sql\n",
    "INSERT INTO Location (CAND_OFFICE_ST,CMTE_CITY,CMTE_ST,Contributor_STATE,Contributor_CITY)\n",
    "SELECT DISTINCT CAND_OFFICE_ST,\n",
    "       CMTE_CITY,\n",
    "       CMTE_ST,\n",
    "       Contributor_STATE AS contributor_st,\n",
    "       Contributor_CITY AS Contributor_city\n",
    "From Contribute_fact;\n"
   ]
  },
  {
   "cell_type": "markdown",
   "metadata": {},
   "source": [
    "### Create Committee Table"
   ]
  },
  {
   "cell_type": "code",
   "execution_count": 17,
   "metadata": {},
   "outputs": [
    {
     "name": "stdout",
     "output_type": "stream",
     "text": [
      " * postgresql://student@/final_Project\n",
      "Done.\n",
      "Done.\n"
     ]
    },
    {
     "data": {
      "text/plain": [
       "[]"
      ]
     },
     "execution_count": 17,
     "metadata": {},
     "output_type": "execute_result"
    }
   ],
   "source": [
    "%%sql\n",
    "DROP TABLE IF EXISTS Committee;\n",
    "\n",
    "CREATE TABLE Committee (\n",
    "    key SERIAL PRIMARY KEY,\n",
    "    CMTE_ID VARCHAR(64),\n",
    "    CMTE_NM VARCHAR(200),\n",
    "    CMTE_TP VARCHAR(64),\n",
    "    ORG_TP VARCHAR(64),\n",
    "    TRES_NM VARCHAR(64),\n",
    "    CONNECTED_ORG_NM VARCHAR(200)\n",
    ");"
   ]
  },
  {
   "cell_type": "code",
   "execution_count": 18,
   "metadata": {},
   "outputs": [
    {
     "name": "stdout",
     "output_type": "stream",
     "text": [
      " * postgresql://student@/final_Project\n",
      "6320 rows affected.\n"
     ]
    },
    {
     "data": {
      "text/plain": [
       "[]"
      ]
     },
     "execution_count": 18,
     "metadata": {},
     "output_type": "execute_result"
    }
   ],
   "source": [
    "%%sql\n",
    "INSERT INTO Committee (CMTE_ID,CMTE_NM,CMTE_TP,ORG_TP,TRES_NM,CONNECTED_ORG_NM)\n",
    "SELECT DISTINCT CMTE_ID,\n",
    "       CMTE_NM,\n",
    "       CMTE_TP,\n",
    "       ORG_TP,\n",
    "       TRES_NM,\n",
    "       CONNECTED_ORG_NM\n",
    "From Contribute_fact;"
   ]
  },
  {
   "cell_type": "code",
   "execution_count": null,
   "metadata": {},
   "outputs": [],
   "source": [
    "%%sql \n",
    "SELECT * FROM Committee LIMIT 10;"
   ]
  },
  {
   "cell_type": "markdown",
   "metadata": {},
   "source": [
    "### Create Candidate Table"
   ]
  },
  {
   "cell_type": "code",
   "execution_count": 19,
   "metadata": {},
   "outputs": [
    {
     "name": "stdout",
     "output_type": "stream",
     "text": [
      " * postgresql://student@/final_Project\n",
      "Done.\n",
      "Done.\n"
     ]
    },
    {
     "data": {
      "text/plain": [
       "[]"
      ]
     },
     "execution_count": 19,
     "metadata": {},
     "output_type": "execute_result"
    }
   ],
   "source": [
    "%%sql\n",
    "DROP TABLE IF EXISTS Candidate;\n",
    "\n",
    "CREATE TABLE Candidate (\n",
    "    key SERIAL PRIMARY KEY,\n",
    "    CAND_ID VARCHAR(64),\n",
    "    CAND_Name VARCHAR(64),\n",
    "    CAND_OFFICE VARCHAR(64),\n",
    "    CAND_PTY_AFFILIATION VARCHAR(64)\n",
    ");"
   ]
  },
  {
   "cell_type": "code",
   "execution_count": 20,
   "metadata": {},
   "outputs": [
    {
     "name": "stdout",
     "output_type": "stream",
     "text": [
      " * postgresql://student@/final_Project\n",
      "2418 rows affected.\n"
     ]
    },
    {
     "data": {
      "text/plain": [
       "[]"
      ]
     },
     "execution_count": 20,
     "metadata": {},
     "output_type": "execute_result"
    }
   ],
   "source": [
    "%%sql\n",
    "INSERT INTO Candidate (CAND_ID,CAND_Name,CAND_OFFICE,CAND_PTY_AFFILIATION)\n",
    "SELECT DISTINCT CAND_ID,\n",
    "       CAND_Name AS CAND_NM,\n",
    "       CAND_OFFICE,\n",
    "       CAND_PTY_AFFILIATION\n",
    "From Contribute_fact;"
   ]
  },
  {
   "cell_type": "code",
   "execution_count": 21,
   "metadata": {},
   "outputs": [
    {
     "name": "stdout",
     "output_type": "stream",
     "text": [
      " * postgresql://student@/final_Project\n",
      "10 rows affected.\n"
     ]
    },
    {
     "data": {
      "text/html": [
       "<table>\n",
       "    <tr>\n",
       "        <th>key</th>\n",
       "        <th>cand_id</th>\n",
       "        <th>cand_name</th>\n",
       "        <th>cand_office</th>\n",
       "        <th>cand_pty_affiliation</th>\n",
       "    </tr>\n",
       "    <tr>\n",
       "        <td>1</td>\n",
       "        <td>H6CA46140</td>\n",
       "        <td>NGUYEN, BAO QUOC</td>\n",
       "        <td></td>\n",
       "        <td>DEM</td>\n",
       "    </tr>\n",
       "    <tr>\n",
       "        <td>2</td>\n",
       "        <td>H6FL07140</td>\n",
       "        <td>MURPHY, STEPHANIE</td>\n",
       "        <td>H</td>\n",
       "        <td>DEM</td>\n",
       "    </tr>\n",
       "    <tr>\n",
       "        <td>3</td>\n",
       "        <td>H2NJ02037</td>\n",
       "        <td>LOBIONDO, FRANK A.</td>\n",
       "        <td>H</td>\n",
       "        <td>REP</td>\n",
       "    </tr>\n",
       "    <tr>\n",
       "        <td>4</td>\n",
       "        <td>H0PA04279</td>\n",
       "        <td>BARNETTE, KATHY</td>\n",
       "        <td>H</td>\n",
       "        <td>REP</td>\n",
       "    </tr>\n",
       "    <tr>\n",
       "        <td>5</td>\n",
       "        <td>H4GA01039</td>\n",
       "        <td>CARTER, EARL LEROY</td>\n",
       "        <td>H</td>\n",
       "        <td>REP</td>\n",
       "    </tr>\n",
       "    <tr>\n",
       "        <td>6</td>\n",
       "        <td>H6FL02208</td>\n",
       "        <td>DUNN, NEAL PATRICK MD, FACS</td>\n",
       "        <td>H</td>\n",
       "        <td>REP</td>\n",
       "    </tr>\n",
       "    <tr>\n",
       "        <td>7</td>\n",
       "        <td>H4NC03059</td>\n",
       "        <td>GRIFFIN, WILLIAM TAYLOR</td>\n",
       "        <td>H</td>\n",
       "        <td>REP</td>\n",
       "    </tr>\n",
       "    <tr>\n",
       "        <td>8</td>\n",
       "        <td>H0MD07197</td>\n",
       "        <td>KLACIK, KIMBERLY</td>\n",
       "        <td>H</td>\n",
       "        <td>REP</td>\n",
       "    </tr>\n",
       "    <tr>\n",
       "        <td>9</td>\n",
       "        <td>P00009621</td>\n",
       "        <td>WARREN, ELIZABETH</td>\n",
       "        <td>P</td>\n",
       "        <td>DEM</td>\n",
       "    </tr>\n",
       "    <tr>\n",
       "        <td>10</td>\n",
       "        <td>H0NY14296</td>\n",
       "        <td>CUMMINGS, JOHN C.</td>\n",
       "        <td>H</td>\n",
       "        <td>REP</td>\n",
       "    </tr>\n",
       "</table>"
      ],
      "text/plain": [
       "[(1, 'H6CA46140', 'NGUYEN, BAO QUOC', '', 'DEM'),\n",
       " (2, 'H6FL07140', 'MURPHY, STEPHANIE', 'H', 'DEM'),\n",
       " (3, 'H2NJ02037', 'LOBIONDO, FRANK A.', 'H', 'REP'),\n",
       " (4, 'H0PA04279', 'BARNETTE, KATHY', 'H', 'REP'),\n",
       " (5, 'H4GA01039', 'CARTER, EARL LEROY', 'H', 'REP'),\n",
       " (6, 'H6FL02208', 'DUNN, NEAL PATRICK MD, FACS', 'H', 'REP'),\n",
       " (7, 'H4NC03059', 'GRIFFIN, WILLIAM TAYLOR', 'H', 'REP'),\n",
       " (8, 'H0MD07197', 'KLACIK, KIMBERLY', 'H', 'REP'),\n",
       " (9, 'P00009621', 'WARREN, ELIZABETH', 'P', 'DEM'),\n",
       " (10, 'H0NY14296', 'CUMMINGS, JOHN C.', 'H', 'REP')]"
      ]
     },
     "execution_count": 21,
     "metadata": {},
     "output_type": "execute_result"
    }
   ],
   "source": [
    "%%sql \n",
    "SELECT * FROM Candidate LIMIT 10;"
   ]
  },
  {
   "cell_type": "markdown",
   "metadata": {},
   "source": [
    "### Create Contribution Table"
   ]
  },
  {
   "cell_type": "code",
   "execution_count": 22,
   "metadata": {},
   "outputs": [
    {
     "name": "stdout",
     "output_type": "stream",
     "text": [
      " * postgresql://student@/final_Project\n",
      "Done.\n",
      "Done.\n"
     ]
    },
    {
     "data": {
      "text/plain": [
       "[]"
      ]
     },
     "execution_count": 22,
     "metadata": {},
     "output_type": "execute_result"
    }
   ],
   "source": [
    "%%sql\n",
    "DROP TABLE IF EXISTS Contribution;\n",
    "\n",
    "CREATE TABLE Contribution (\n",
    "    key SERIAL PRIMARY KEY,\n",
    "    ENTITY_TP VARCHAR(64),\n",
    "    TRANSACTION_TP VARCHAR(64),\n",
    "    Contributor_Name VARCHAR(100),\n",
    "    TRANSACTION_PGI VARCHAR(64),\n",
    "    RPT_TP VARCHAR(64)\n",
    ");"
   ]
  },
  {
   "cell_type": "code",
   "execution_count": 23,
   "metadata": {},
   "outputs": [
    {
     "name": "stdout",
     "output_type": "stream",
     "text": [
      " * postgresql://student@/final_Project\n",
      "105291 rows affected.\n"
     ]
    },
    {
     "data": {
      "text/plain": [
       "[]"
      ]
     },
     "execution_count": 23,
     "metadata": {},
     "output_type": "execute_result"
    }
   ],
   "source": [
    "%%sql\n",
    "INSERT INTO Contribution (ENTITY_TP,TRANSACTION_TP,Contributor_Name,TRANSACTION_PGI,RPT_TP)\n",
    "SELECT DISTINCT ENTITY_TP,\n",
    "        TRANSACTION_TP,\n",
    "        Contributor_Name,\n",
    "        TRANSACTION_PGI,\n",
    "        RPT_TP\n",
    "From Contribute_fact;"
   ]
  },
  {
   "cell_type": "code",
   "execution_count": null,
   "metadata": {},
   "outputs": [],
   "source": [
    "%%sql \n",
    "SELECT * FROM Contribution LIMIT 10;"
   ]
  },
  {
   "cell_type": "markdown",
   "metadata": {},
   "source": [
    "##### Insert all the 5 foreign keys into the Fact table to link the fact and dimension tables"
   ]
  },
  {
   "cell_type": "code",
   "execution_count": 24,
   "metadata": {},
   "outputs": [
    {
     "name": "stdout",
     "output_type": "stream",
     "text": [
      " * postgresql://student@/final_Project\n",
      "Done.\n"
     ]
    },
    {
     "data": {
      "text/plain": [
       "[]"
      ]
     },
     "execution_count": 24,
     "metadata": {},
     "output_type": "execute_result"
    }
   ],
   "source": [
    "%%sql\n",
    "ALTER TABLE Contribute_fact\n",
    "ADD COLUMN date_key INTEGER,\n",
    "ADD CONSTRAINT fk_Date\n",
    "    FOREIGN KEY (Date_key)\n",
    "    REFERENCES Date (key);"
   ]
  },
  {
   "cell_type": "code",
   "execution_count": 25,
   "metadata": {},
   "outputs": [
    {
     "name": "stdout",
     "output_type": "stream",
     "text": [
      " * postgresql://student@/final_Project\n",
      "553819 rows affected.\n"
     ]
    },
    {
     "data": {
      "text/plain": [
       "[]"
      ]
     },
     "execution_count": 25,
     "metadata": {},
     "output_type": "execute_result"
    }
   ],
   "source": [
    "%%sql\n",
    "UPDATE Contribute_fact\n",
    "SET date_key = Date.key\n",
    "FROM Date\n",
    "WHERE Contribute_fact.Transaction_DT = Date.Transaction_DT AND Contribute_fact.CAND_ELECTION_YR = Date.CAND_ELECTION_YR;"
   ]
  },
  {
   "cell_type": "code",
   "execution_count": 26,
   "metadata": {},
   "outputs": [
    {
     "name": "stdout",
     "output_type": "stream",
     "text": [
      " * postgresql://student@/final_Project\n",
      "Done.\n"
     ]
    },
    {
     "data": {
      "text/plain": [
       "[]"
      ]
     },
     "execution_count": 26,
     "metadata": {},
     "output_type": "execute_result"
    }
   ],
   "source": [
    "%%sql\n",
    "ALTER TABLE Contribute_fact\n",
    "ADD COLUMN location_key INTEGER,\n",
    "ADD CONSTRAINT fk_Location\n",
    "    FOREIGN KEY (Location_key)\n",
    "    REFERENCES Location (key);"
   ]
  },
  {
   "cell_type": "code",
   "execution_count": 27,
   "metadata": {},
   "outputs": [
    {
     "name": "stdout",
     "output_type": "stream",
     "text": [
      " * postgresql://student@/final_Project\n",
      "553819 rows affected.\n"
     ]
    },
    {
     "data": {
      "text/plain": [
       "[]"
      ]
     },
     "execution_count": 27,
     "metadata": {},
     "output_type": "execute_result"
    }
   ],
   "source": [
    "%%sql\n",
    "UPDATE Contribute_fact\n",
    "SET location_key = Location.key\n",
    "FROM Location\n",
    "WHERE Contribute_fact.CMTE_ST = Location.CMTE_ST AND Contribute_fact.CAND_OFFICE_ST = Location.CAND_OFFICE_ST AND Contribute_fact.Contributor_STATE = Location.Contributor_STATE;"
   ]
  },
  {
   "cell_type": "markdown",
   "metadata": {},
   "source": [
    "##### Inorder to increase the speed, we drop some columns in fact table that already existed in dimension tables"
   ]
  },
  {
   "cell_type": "code",
   "execution_count": 28,
   "metadata": {},
   "outputs": [
    {
     "name": "stdout",
     "output_type": "stream",
     "text": [
      " * postgresql://student@/final_Project\n",
      "Done.\n"
     ]
    },
    {
     "data": {
      "text/plain": [
       "[]"
      ]
     },
     "execution_count": 28,
     "metadata": {},
     "output_type": "execute_result"
    }
   ],
   "source": [
    "%%sql\n",
    "ALTER TABLE Contribute_fact\n",
    "DROP COLUMN TRANSACTION_PGI,\n",
    "DROP COLUMN CAND_OFFICE,\n",
    "DROP COLUMN CAND_PTY_AFFILIATION,\n",
    "DROP COLUMN Contributor_Name,\n",
    "DROP COLUMN CMTE_NM,\n",
    "DROP COLUMN TRES_NM,\n",
    "DROP COLUMN CONNECTED_ORG_NM,\n",
    "DROP COLUMN CVG_END_DT,\n",
    "DROP COLUMN CMTE_TP,\n",
    "DROP COLUMN ORG_TP,\n",
    "DROP COLUMN RPT_TP,\n",
    "DROP COLUMN contributor_city,\n",
    "DROP COLUMN Trans_Month,\n",
    "DROP COLUMN Trans_Year;"
   ]
  },
  {
   "cell_type": "code",
   "execution_count": 35,
   "metadata": {},
   "outputs": [
    {
     "name": "stdout",
     "output_type": "stream",
     "text": [
      " * postgresql://student@/final_Project\n",
      "Done.\n"
     ]
    },
    {
     "data": {
      "text/plain": [
       "[]"
      ]
     },
     "execution_count": 35,
     "metadata": {},
     "output_type": "execute_result"
    }
   ],
   "source": [
    "%%sql\n",
    "ALTER TABLE Contribute_fact\n",
    "ADD COLUMN cand_key INTEGER,\n",
    "ADD CONSTRAINT fk_Candidate\n",
    "    FOREIGN KEY (cand_key)\n",
    "    REFERENCES Candidate (key);"
   ]
  },
  {
   "cell_type": "code",
   "execution_count": 36,
   "metadata": {},
   "outputs": [
    {
     "name": "stdout",
     "output_type": "stream",
     "text": [
      " * postgresql://student@/final_Project\n",
      "553819 rows affected.\n"
     ]
    },
    {
     "data": {
      "text/plain": [
       "[]"
      ]
     },
     "execution_count": 36,
     "metadata": {},
     "output_type": "execute_result"
    }
   ],
   "source": [
    "%%sql\n",
    "UPDATE Contribute_fact\n",
    "SET cand_key = Candidate.key\n",
    "FROM Candidate\n",
    "WHERE Contribute_fact.CAND_ID = Candidate.CAND_ID;"
   ]
  },
  {
   "cell_type": "code",
   "execution_count": 38,
   "metadata": {},
   "outputs": [
    {
     "name": "stdout",
     "output_type": "stream",
     "text": [
      " * postgresql://student@/final_Project\n",
      "(psycopg2.errors.DuplicateObject) constraint \"fk_committee\" for relation \"contribute_fact\" already exists\n",
      "\n",
      "[SQL: ALTER TABLE Contribute_fact ADD COLUMN committee_key INTEGER,\n",
      "ADD CONSTRAINT fk_Committee\n",
      "    FOREIGN KEY (committee_key)\n",
      "    REFERENCES Committee (key);]\n",
      "(Background on this error at: http://sqlalche.me/e/f405)\n"
     ]
    }
   ],
   "source": [
    "%%sql\n",
    "ALTER TABLE Contribute_fact\n",
    "ADD COLUMN com_key INTEGER,\n",
    "ADD CONSTRAINT fk_Committee\n",
    "    FOREIGN KEY (com_key)\n",
    "    REFERENCES Committee (key);"
   ]
  },
  {
   "cell_type": "code",
   "execution_count": 40,
   "metadata": {},
   "outputs": [
    {
     "name": "stdout",
     "output_type": "stream",
     "text": [
      " * postgresql://student@/final_Project\n",
      "553819 rows affected.\n"
     ]
    },
    {
     "data": {
      "text/plain": [
       "[]"
      ]
     },
     "execution_count": 40,
     "metadata": {},
     "output_type": "execute_result"
    }
   ],
   "source": [
    "%%sql\n",
    "UPDATE Contribute_fact\n",
    "SET com_key = Committee.key\n",
    "FROM Committee\n",
    "WHERE Contribute_fact.CMTE_ID = Committee.CMTE_ID;"
   ]
  },
  {
   "cell_type": "code",
   "execution_count": 41,
   "metadata": {},
   "outputs": [
    {
     "name": "stdout",
     "output_type": "stream",
     "text": [
      " * postgresql://student@/final_Project\n",
      "5 rows affected.\n"
     ]
    },
    {
     "data": {
      "text/html": [
       "<table>\n",
       "    <tr>\n",
       "        <th>cmte_id</th>\n",
       "        <th>cand_id</th>\n",
       "        <th>transaction_tp</th>\n",
       "        <th>entity_tp</th>\n",
       "        <th>contributor_state</th>\n",
       "        <th>transaction_dt</th>\n",
       "        <th>transaction_amt</th>\n",
       "        <th>cand_name</th>\n",
       "        <th>ttl_receipts</th>\n",
       "        <th>trans_from_auth</th>\n",
       "        <th>ttl_disb</th>\n",
       "        <th>coh_bop</th>\n",
       "        <th>coh_cop</th>\n",
       "        <th>cand_contrib</th>\n",
       "        <th>ttl_indiv_contrib</th>\n",
       "        <th>cand_office_st</th>\n",
       "        <th>pol_pty_contrib</th>\n",
       "        <th>cand_election_yr</th>\n",
       "        <th>cmte_city</th>\n",
       "        <th>cmte_st</th>\n",
       "        <th>date_key</th>\n",
       "        <th>location_key</th>\n",
       "        <th>com_key</th>\n",
       "        <th>cand_key</th>\n",
       "    </tr>\n",
       "    <tr>\n",
       "        <td>C00109991</td>\n",
       "        <td>H2CA50026</td>\n",
       "        <td>24K</td>\n",
       "        <td>CCM</td>\n",
       "        <td>CA</td>\n",
       "        <td>07/12/2016</td>\n",
       "        <td>1500</td>\n",
       "        <td>VARGAS, JUAN C.</td>\n",
       "        <td>1138131</td>\n",
       "        <td>24039</td>\n",
       "        <td>1069031</td>\n",
       "        <td>10614</td>\n",
       "        <td>79714</td>\n",
       "        <td>0</td>\n",
       "        <td>224522</td>\n",
       "        <td>CA</td>\n",
       "        <td>76</td>\n",
       "        <td>2016</td>\n",
       "        <td>WASHINGTON</td>\n",
       "        <td>DC</td>\n",
       "        <td>8221</td>\n",
       "        <td>50486</td>\n",
       "        <td>774</td>\n",
       "        <td>1970</td>\n",
       "    </tr>\n",
       "    <tr>\n",
       "        <td>C00365122</td>\n",
       "        <td>H8CA12171</td>\n",
       "        <td>24K</td>\n",
       "        <td>CCM</td>\n",
       "        <td>CA</td>\n",
       "        <td>03/30/2015</td>\n",
       "        <td>1000</td>\n",
       "        <td>SPEIER, JACKIE</td>\n",
       "        <td>874657</td>\n",
       "        <td>0</td>\n",
       "        <td>609007</td>\n",
       "        <td>1277244</td>\n",
       "        <td>1542894</td>\n",
       "        <td>0</td>\n",
       "        <td>507650</td>\n",
       "        <td>CA</td>\n",
       "        <td>32</td>\n",
       "        <td>2016</td>\n",
       "        <td>WASHINGTON</td>\n",
       "        <td>DC</td>\n",
       "        <td>9204</td>\n",
       "        <td>50486</td>\n",
       "        <td>2849</td>\n",
       "        <td>798</td>\n",
       "    </tr>\n",
       "    <tr>\n",
       "        <td>C00311878</td>\n",
       "        <td>H8CA12171</td>\n",
       "        <td>24K</td>\n",
       "        <td>CCM</td>\n",
       "        <td>CA</td>\n",
       "        <td>04/27/2015</td>\n",
       "        <td>1000</td>\n",
       "        <td>SPEIER, JACKIE</td>\n",
       "        <td>874657</td>\n",
       "        <td>0</td>\n",
       "        <td>609007</td>\n",
       "        <td>1277244</td>\n",
       "        <td>1542894</td>\n",
       "        <td>0</td>\n",
       "        <td>507650</td>\n",
       "        <td>CA</td>\n",
       "        <td>32</td>\n",
       "        <td>2016</td>\n",
       "        <td>WASHINGTON</td>\n",
       "        <td>DC</td>\n",
       "        <td>11531</td>\n",
       "        <td>50486</td>\n",
       "        <td>2249</td>\n",
       "        <td>798</td>\n",
       "    </tr>\n",
       "    <tr>\n",
       "        <td>C00525600</td>\n",
       "        <td>H8CA12171</td>\n",
       "        <td>24K</td>\n",
       "        <td>CCM</td>\n",
       "        <td>CA</td>\n",
       "        <td>02/27/2015</td>\n",
       "        <td>5000</td>\n",
       "        <td>SPEIER, JACKIE</td>\n",
       "        <td>874657</td>\n",
       "        <td>0</td>\n",
       "        <td>609007</td>\n",
       "        <td>1277244</td>\n",
       "        <td>1542894</td>\n",
       "        <td>0</td>\n",
       "        <td>507650</td>\n",
       "        <td>CA</td>\n",
       "        <td>32</td>\n",
       "        <td>2016</td>\n",
       "        <td>WASHINGTON</td>\n",
       "        <td>DC</td>\n",
       "        <td>8801</td>\n",
       "        <td>50486</td>\n",
       "        <td>4676</td>\n",
       "        <td>798</td>\n",
       "    </tr>\n",
       "    <tr>\n",
       "        <td>C00525600</td>\n",
       "        <td>H8CA12171</td>\n",
       "        <td>24K</td>\n",
       "        <td>CCM</td>\n",
       "        <td>CA</td>\n",
       "        <td>02/27/2015</td>\n",
       "        <td>5000</td>\n",
       "        <td>SPEIER, JACKIE</td>\n",
       "        <td>874657</td>\n",
       "        <td>0</td>\n",
       "        <td>609007</td>\n",
       "        <td>1277244</td>\n",
       "        <td>1542894</td>\n",
       "        <td>0</td>\n",
       "        <td>507650</td>\n",
       "        <td>CA</td>\n",
       "        <td>32</td>\n",
       "        <td>2016</td>\n",
       "        <td>WASHINGTON</td>\n",
       "        <td>DC</td>\n",
       "        <td>8801</td>\n",
       "        <td>50486</td>\n",
       "        <td>4676</td>\n",
       "        <td>798</td>\n",
       "    </tr>\n",
       "</table>"
      ],
      "text/plain": [
       "[('C00109991', 'H2CA50026', '24K', 'CCM', 'CA', '07/12/2016', Decimal('1500'), 'VARGAS, JUAN C.', Decimal('1138131'), Decimal('24039'), Decimal('1069031'), Decimal('10614'), Decimal('79714'), Decimal('0'), Decimal('224522'), 'CA', Decimal('76'), '2016', 'WASHINGTON', 'DC', 8221, 50486, 774, 1970),\n",
       " ('C00365122', 'H8CA12171', '24K', 'CCM', 'CA', '03/30/2015', Decimal('1000'), 'SPEIER, JACKIE', Decimal('874657'), Decimal('0'), Decimal('609007'), Decimal('1277244'), Decimal('1542894'), Decimal('0'), Decimal('507650'), 'CA', Decimal('32'), '2016', 'WASHINGTON', 'DC', 9204, 50486, 2849, 798),\n",
       " ('C00311878', 'H8CA12171', '24K', 'CCM', 'CA', '04/27/2015', Decimal('1000'), 'SPEIER, JACKIE', Decimal('874657'), Decimal('0'), Decimal('609007'), Decimal('1277244'), Decimal('1542894'), Decimal('0'), Decimal('507650'), 'CA', Decimal('32'), '2016', 'WASHINGTON', 'DC', 11531, 50486, 2249, 798),\n",
       " ('C00525600', 'H8CA12171', '24K', 'CCM', 'CA', '02/27/2015', Decimal('5000'), 'SPEIER, JACKIE', Decimal('874657'), Decimal('0'), Decimal('609007'), Decimal('1277244'), Decimal('1542894'), Decimal('0'), Decimal('507650'), 'CA', Decimal('32'), '2016', 'WASHINGTON', 'DC', 8801, 50486, 4676, 798),\n",
       " ('C00525600', 'H8CA12171', '24K', 'CCM', 'CA', '02/27/2015', Decimal('5000'), 'SPEIER, JACKIE', Decimal('874657'), Decimal('0'), Decimal('609007'), Decimal('1277244'), Decimal('1542894'), Decimal('0'), Decimal('507650'), 'CA', Decimal('32'), '2016', 'WASHINGTON', 'DC', 8801, 50486, 4676, 798)]"
      ]
     },
     "execution_count": 41,
     "metadata": {},
     "output_type": "execute_result"
    }
   ],
   "source": [
    "%%sql \n",
    "SELECT * FROM Contribute_fact LIMIT 5;"
   ]
  },
  {
   "cell_type": "code",
   "execution_count": null,
   "metadata": {},
   "outputs": [],
   "source": [
    "%%sql\n",
    "ALTER TABLE Contribute_fact\n",
    "ADD COLUMN contribution_key INTEGER,\n",
    "ADD CONSTRAINT fk_Contribution\n",
    "    FOREIGN KEY (contribution_key)\n",
    "    REFERENCES Contribution (key);"
   ]
  },
  {
   "cell_type": "code",
   "execution_count": null,
   "metadata": {},
   "outputs": [],
   "source": [
    "%%sql\n",
    "UPDATE Contribute_fact\n",
    "SET contribution_key = Contribution.key\n",
    "FROM Contribution\n",
    "WHERE Contribute_fact.TRANSACTION_TP = Contribution.TRANSACTION_TP;"
   ]
  },
  {
   "cell_type": "code",
   "execution_count": null,
   "metadata": {},
   "outputs": [],
   "source": [
    "%%sql \n",
    "SELECT * FROM Contribute_fact LIMIT 5;"
   ]
  },
  {
   "cell_type": "markdown",
   "metadata": {},
   "source": [
    "##### Now it's time to Drop all columns in fact table that already existed in dimension tables"
   ]
  },
  {
   "cell_type": "code",
   "execution_count": null,
   "metadata": {},
   "outputs": [],
   "source": [
    "%%sql\n",
    "ALTER TABLE Contribute_fact\n",
    "DROP COLUMN CMTE_ID,\n",
    "DROP COLUMN CAND_ID,\n",
    "DROP COLUMN Transaction_DT,\n",
    "DROP COLUMN CAND_OFFICE_ST,\n",
    "DROP COLUMN CMTE_ST,\n",
    "DROP COLUMN TRANSACTION_TP,\n",
    "DROP COLUMN ENTITY_TP,\n",
    "DROP COLUMN Contributor_STATE;"
   ]
  },
  {
   "cell_type": "markdown",
   "metadata": {},
   "source": [
    "##### Take a look at the final Contribute_fact table"
   ]
  },
  {
   "cell_type": "code",
   "execution_count": null,
   "metadata": {},
   "outputs": [],
   "source": [
    "%%sql\n",
    "SELECT *\n",
    "FROM Contribute_fact\n",
    "LIMIT 10;"
   ]
  },
  {
   "cell_type": "markdown",
   "metadata": {},
   "source": [
    "# Data Exploration \n",
    "Now we are ready to explore the data. "
   ]
  },
  {
   "cell_type": "code",
   "execution_count": null,
   "metadata": {},
   "outputs": [],
   "source": [
    "Q1: "
   ]
  },
  {
   "cell_type": "code",
   "execution_count": null,
   "metadata": {},
   "outputs": [],
   "source": [
    "Q2:"
   ]
  }
 ],
 "metadata": {
  "kernelspec": {
   "display_name": "Python 3",
   "language": "python",
   "name": "python3"
  },
  "language_info": {
   "codemirror_mode": {
    "name": "ipython",
    "version": 3
   },
   "file_extension": ".py",
   "mimetype": "text/x-python",
   "name": "python",
   "nbconvert_exporter": "python",
   "pygments_lexer": "ipython3",
   "version": "3.8.3"
  }
 },
 "nbformat": 4,
 "nbformat_minor": 4
}
