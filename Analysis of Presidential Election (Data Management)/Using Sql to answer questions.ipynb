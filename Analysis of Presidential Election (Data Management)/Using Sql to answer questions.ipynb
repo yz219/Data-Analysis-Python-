{
 "cells": [
  {
   "cell_type": "code",
   "execution_count": 5,
   "metadata": {},
   "outputs": [
    {
     "name": "stdout",
     "output_type": "stream",
     "text": [
      "dropdb: error: database removal failed: ERROR:  database \"project2\" is being accessed by other users\n",
      "DETAIL:  There is 1 other session using the database.\n"
     ]
    }
   ],
   "source": [
    "!dropdb -U student project2"
   ]
  },
  {
   "cell_type": "code",
   "execution_count": 2,
   "metadata": {},
   "outputs": [],
   "source": [
    "!createdb -U student project2"
   ]
  },
  {
   "cell_type": "code",
   "execution_count": 2,
   "metadata": {},
   "outputs": [],
   "source": [
    "%load_ext sql"
   ]
  },
  {
   "cell_type": "code",
   "execution_count": 3,
   "metadata": {},
   "outputs": [],
   "source": [
    "%sql postgresql://student@/project2"
   ]
  },
  {
   "cell_type": "code",
   "execution_count": 5,
   "metadata": {},
   "outputs": [
    {
     "name": "stdout",
     "output_type": "stream",
     "text": [
      "/home/ubuntu\n"
     ]
    }
   ],
   "source": [
    "!pwd"
   ]
  },
  {
   "cell_type": "markdown",
   "metadata": {},
   "source": [
    "## Question 1 \n",
    "Please see the attached document where we put the ERDiagram and relational schema."
   ]
  },
  {
   "cell_type": "code",
   "execution_count": null,
   "metadata": {},
   "outputs": [],
   "source": []
  },
  {
   "cell_type": "code",
   "execution_count": null,
   "metadata": {},
   "outputs": [],
   "source": []
  },
  {
   "cell_type": "markdown",
   "metadata": {},
   "source": [
    "## Question 2 Create tables"
   ]
  },
  {
   "cell_type": "markdown",
   "metadata": {},
   "source": [
    "+ convert all txt files into csv files. "
   ]
  },
  {
   "cell_type": "code",
   "execution_count": 23,
   "metadata": {},
   "outputs": [],
   "source": [
    "!csvformat -d \"|\" weball20.txt > all_candidates.csv"
   ]
  },
  {
   "cell_type": "code",
   "execution_count": null,
   "metadata": {},
   "outputs": [],
   "source": [
    "!csvformat -d \"|\" cn.txt > candidate_master.csv"
   ]
  },
  {
   "cell_type": "code",
   "execution_count": null,
   "metadata": {},
   "outputs": [],
   "source": [
    "!csvformat -d \"|\" cm.txt > committee_master.csv"
   ]
  },
  {
   "cell_type": "code",
   "execution_count": 6,
   "metadata": {},
   "outputs": [],
   "source": [
    "!csvformat -d \"|\" ccl.txt > linkage.csv"
   ]
  },
  {
   "cell_type": "markdown",
   "metadata": {},
   "source": [
    "+ Extract the specific columns that we need "
   ]
  },
  {
   "cell_type": "code",
   "execution_count": null,
   "metadata": {},
   "outputs": [],
   "source": [
    "!csvcut -c 1,6,7,8,9,10,11,18,28,29,30 -H all_candidates.csv> All_candidates.csv "
   ]
  },
  {
   "cell_type": "code",
   "execution_count": null,
   "metadata": {},
   "outputs": [],
   "source": [
    "!csvcut -c1,2,3,4,5,6,7,8,9,10,11,12,13,14,15 candidate_master.csv -H > Candidate_master.csv"
   ]
  },
  {
   "cell_type": "code",
   "execution_count": null,
   "metadata": {},
   "outputs": [],
   "source": [
    "!csvcut -c1,2,3,4,5,6,7,8,9,10,11,12,13,14,15 committee_master.csv -H > Committee_master.csv"
   ]
  },
  {
   "cell_type": "code",
   "execution_count": null,
   "metadata": {},
   "outputs": [],
   "source": [
    "!csvcut -c1,4,7 -H linkage.csv > Linkage.csv"
   ]
  },
  {
   "cell_type": "markdown",
   "metadata": {},
   "source": [
    "+ take a look at the data, and check on the NULL constraints of data. "
   ]
  },
  {
   "cell_type": "code",
   "execution_count": 30,
   "metadata": {},
   "outputs": [
    {
     "name": "stdout",
     "output_type": "stream",
     "text": [
      "/home/ubuntu/.local/lib/python3.8/site-packages/agate/utils.py:292: DuplicateColumnWarning: Column name \"0\" already exists in Table. Column will be renamed to \"0_2\".\n",
      "/home/ubuntu/.local/lib/python3.8/site-packages/agate/utils.py:292: DuplicateColumnWarning: Column name \"0\" already exists in Table. Column will be renamed to \"0_3\".\n",
      "/home/ubuntu/.local/lib/python3.8/site-packages/agate/utils.py:292: DuplicateColumnWarning: Column name \"367.52\" already exists in Table. Column will be renamed to \"367.52_2\".\n",
      "/home/ubuntu/.local/lib/python3.8/site-packages/agate/utils.py:292: DuplicateColumnWarning: Column name \"0\" already exists in Table. Column will be renamed to \"0_4\".\n",
      "/home/ubuntu/.local/lib/python3.8/site-packages/agate/utils.py:292: DuplicateColumnWarning: Column name \"0\" already exists in Table. Column will be renamed to \"0_5\".\n",
      "/home/ubuntu/.local/lib/python3.8/site-packages/agate/utils.py:292: DuplicateColumnWarning: Column name \"0\" already exists in Table. Column will be renamed to \"0_6\".\n",
      "/home/ubuntu/.local/lib/python3.8/site-packages/agate/utils.py:292: DuplicateColumnWarning: Column name \"0\" already exists in Table. Column will be renamed to \"0_7\".\n",
      "/home/ubuntu/.local/lib/python3.8/site-packages/agate/utils.py:292: DuplicateColumnWarning: Column name \"367.52\" already exists in Table. Column will be renamed to \"367.52_3\".\n",
      "/home/ubuntu/.local/lib/python3.8/site-packages/agate/utils.py:292: DuplicateColumnWarning: Column name \"0\" already exists in Table. Column will be renamed to \"0_8\".\n",
      "/home/ubuntu/.local/lib/python3.8/site-packages/agate/utils.py:292: DuplicateColumnWarning: Column name \"0\" already exists in Table. Column will be renamed to \"0_9\".\n",
      "/home/ubuntu/.local/lib/python3.8/site-packages/agate/utils.py:292: DuplicateColumnWarning: Column name \"0\" already exists in Table. Column will be renamed to \"0_10\".\n",
      "/home/ubuntu/.local/lib/python3.8/site-packages/agate/utils.py:276: UnnamedColumnWarning: Column 20 has no name. Using \"u\".\n",
      "/home/ubuntu/.local/lib/python3.8/site-packages/agate/utils.py:276: UnnamedColumnWarning: Column 21 has no name. Using \"v\".\n",
      "/home/ubuntu/.local/lib/python3.8/site-packages/agate/utils.py:276: UnnamedColumnWarning: Column 22 has no name. Using \"w\".\n",
      "/home/ubuntu/.local/lib/python3.8/site-packages/agate/utils.py:276: UnnamedColumnWarning: Column 23 has no name. Using \"x\".\n",
      "/home/ubuntu/.local/lib/python3.8/site-packages/agate/utils.py:276: UnnamedColumnWarning: Column 24 has no name. Using \"y\".\n",
      "/home/ubuntu/.local/lib/python3.8/site-packages/agate/utils.py:292: DuplicateColumnWarning: Column name \"0\" already exists in Table. Column will be renamed to \"0_11\".\n",
      "/home/ubuntu/.local/lib/python3.8/site-packages/agate/utils.py:292: DuplicateColumnWarning: Column name \"0\" already exists in Table. Column will be renamed to \"0_12\".\n",
      "/home/ubuntu/.local/lib/python3.8/site-packages/agate/utils.py:292: DuplicateColumnWarning: Column name \"0\" already exists in Table. Column will be renamed to \"0_13\".\n",
      "/home/ubuntu/.local/lib/python3.8/site-packages/agate/utils.py:292: DuplicateColumnWarning: Column name \"0\" already exists in Table. Column will be renamed to \"0_14\".\n",
      "  1. \"H8AK00132\"\n",
      "\n",
      "\tType of data:          Text\n",
      "\tContains null values:  False\n",
      "\tUnique values:         3882\n",
      "\tLongest value:         9 characters\n",
      "\tMost common values:    H6AK00045 (1x)\n",
      "\t                       H8AK01031 (1x)\n",
      "\t                       H8AK00140 (1x)\n",
      "\t                       H0AL01097 (1x)\n",
      "\t                       H0AL01105 (1x)\n",
      "\n",
      "  2. \"SHEIN, DIMITRI\"\n",
      "\n",
      "\tType of data:          Text\n",
      "\tContains null values:  False\n",
      "\tUnique values:         3783\n",
      "\tLongest value:         47 characters\n",
      "\tMost common values:    MATORY, LIZ (3x)\n",
      "\t                       BYRNE, BRADLEY ROBERTS (2x)\n",
      "\t                       BROOKS, MO (2x)\n",
      "\t                       COTTON, THOMAS (2x)\n",
      "\t                       MARTIN, BRANDON RAY (2x)\n",
      "\n",
      "  3. \"C\"\n",
      "\n",
      "\tType of data:          Text\n",
      "\tContains null values:  True (excluded from calculations)\n",
      "\tUnique values:         4\n",
      "\tLongest value:         1 characters\n",
      "\tMost common values:    C (2363x)\n",
      "\t                       O (843x)\n",
      "\t                       I (628x)\n",
      "\t                       None (48x)\n",
      "\n",
      "  4. \"1\"\n",
      "\n",
      "\tType of data:          Number\n",
      "\tContains null values:  False\n",
      "\tUnique values:         3\n",
      "\tSmallest value:        1\n",
      "\tLargest value:         3\n",
      "\tSum:                   6383\n",
      "\tMean:                  1.644256\n",
      "\tMedian:                2\n",
      "\tStDev:                 0.630684\n",
      "\tMost common values:    2 (1847x)\n",
      "\t                       1 (1708x)\n",
      "\t                       3 (327x)\n",
      "\n",
      "  5. \"DEM\"\n",
      "\n",
      "\tType of data:          Text\n",
      "\tContains null values:  True (excluded from calculations)\n",
      "\tUnique values:         36\n",
      "\tLongest value:         3 characters\n",
      "\tMost common values:    REP (1847x)\n",
      "\t                       DEM (1708x)\n",
      "\t                       IND (114x)\n",
      "\t                       LIB (63x)\n",
      "\t                       GRE (24x)\n",
      "\n",
      "  6. \"0\"\n",
      "\n",
      "\tType of data:          Number\n",
      "\tContains null values:  False\n",
      "\tUnique values:         2908\n",
      "\tSmallest value:        -674132.5\n",
      "\tLargest value:         4824617973\n",
      "\tSum:                   10110298000.55\n",
      "\tMean:                  2604404.430848\n",
      "\tMedian:                20472.31\n",
      "\tStDev:                 80546177.636068\n",
      "\tMost common values:    0 (815x)\n",
      "\t                       5000 (10x)\n",
      "\t                       1000 (8x)\n",
      "\t                       100 (6x)\n",
      "\t                       500 (5x)\n",
      "\n",
      "  7. \"0_2\"\n",
      "\n",
      "\tType of data:          Number\n",
      "\tContains null values:  False\n",
      "\tUnique values:         460\n",
      "\tSmallest value:        0\n",
      "\tLargest value:         201559434.39\n",
      "\tSum:                   413105768.91\n",
      "\tMean:                  106415.705541\n",
      "\tMedian:                0\n",
      "\tStDev:                 3359184.865718\n",
      "\tMost common values:    0 (3383x)\n",
      "\t                       5000 (4x)\n",
      "\t                       1000 (3x)\n",
      "\t                       25000 (3x)\n",
      "\t                       9000 (3x)\n",
      "\n",
      "  8. \"367.52\"\n",
      "\n",
      "\tType of data:          Number\n",
      "\tContains null values:  False\n",
      "\tUnique values:         3219\n",
      "\tSmallest value:        -674157.5\n",
      "\tLargest value:         3848951085\n",
      "\tSum:                   8146878793.08\n",
      "\tMean:                  2098629.261484\n",
      "\tMedian:                22234.475\n",
      "\tStDev:                 65159790.594947\n",
      "\tMost common values:    0 (546x)\n",
      "\t                       500 (4x)\n",
      "\t                       2000 (4x)\n",
      "\t                       150 (4x)\n",
      "\t                       100 (4x)\n",
      "\n",
      "  9. \"0_3\"\n",
      "\n",
      "\tType of data:          Number\n",
      "\tContains null values:  False\n",
      "\tUnique values:         205\n",
      "\tSmallest value:        0\n",
      "\tLargest value:         10415000\n",
      "\tSum:                   62573905.38\n",
      "\tMean:                  16118.986445\n",
      "\tMedian:                0\n",
      "\tStDev:                 295331.898227\n",
      "\tMost common values:    0 (3621x)\n",
      "\t                       2000 (15x)\n",
      "\t                       5000 (12x)\n",
      "\t                       250 (6x)\n",
      "\t                       500 (6x)\n",
      "\n",
      " 10. \"367.52_2\"\n",
      "\n",
      "\tType of data:          Number\n",
      "\tContains null values:  False\n",
      "\tUnique values:         1875\n",
      "\tSmallest value:        -21673.46\n",
      "\tLargest value:         30000000\n",
      "\tSum:                   641974144.19\n",
      "\tMean:                  165372.010353\n",
      "\tMedian:                0\n",
      "\tStDev:                 998136.1491\n",
      "\tMost common values:    0 (1888x)\n",
      "\t                       100 (13x)\n",
      "\t                       25 (7x)\n",
      "\t                       200 (7x)\n",
      "\t                       50 (5x)\n",
      "\n",
      " 11. \"0_4\"\n",
      "\n",
      "\tType of data:          Number\n",
      "\tContains null values:  False\n",
      "\tUnique values:         2712\n",
      "\tSmallest value:        -380765.96\n",
      "\tLargest value:         9756669078.2\n",
      "\tSum:                   11473644088.77\n",
      "\tMean:                  2955601.259343\n",
      "\tMedian:                1622.185\n",
      "\tStDev:                 156636517.322029\n",
      "\tMost common values:    0 (1070x)\n",
      "\t                       100 (4x)\n",
      "\t                       67.62 (3x)\n",
      "\t                       3547.2 (3x)\n",
      "\t                       200 (3x)\n",
      "\n",
      " 12. \"0_5\"\n",
      "\n",
      "\tType of data:          Number\n",
      "\tContains null values:  False\n",
      "\tUnique values:         816\n",
      "\tSmallest value:        0\n",
      "\tLargest value:         2831281203\n",
      "\tSum:                   4276437599.41\n",
      "\tMean:                  1101606.800466\n",
      "\tMedian:                0\n",
      "\tStDev:                 48940192.056853\n",
      "\tMost common values:    0 (2789x)\n",
      "\t                       100 (29x)\n",
      "\t                       25 (21x)\n",
      "\t                       2800 (18x)\n",
      "\t                       1000 (17x)\n",
      "\n",
      " 13. \"0_6\"\n",
      "\n",
      "\tType of data:          Number\n",
      "\tContains null values:  False\n",
      "\tUnique values:         600\n",
      "\tSmallest value:        0\n",
      "\tLargest value:         50019022.22\n",
      "\tSum:                   293756419.27\n",
      "\tMean:                  75671.411455\n",
      "\tMedian:                0\n",
      "\tStDev:                 1107921.673951\n",
      "\tMost common values:    0 (2905x)\n",
      "\t                       10000 (31x)\n",
      "\t                       1000 (21x)\n",
      "\t                       100000 (20x)\n",
      "\t                       50000 (19x)\n",
      "\n",
      " 14. \"0_7\"\n",
      "\n",
      "\tType of data:          Number\n",
      "\tContains null values:  False\n",
      "\tUnique values:         67\n",
      "\tSmallest value:        0\n",
      "\tLargest value:         6500000\n",
      "\tSum:                   8706632.32\n",
      "\tMean:                  2242.821309\n",
      "\tMedian:                0\n",
      "\tStDev:                 105710.931359\n",
      "\tMost common values:    0 (3799x)\n",
      "\t                       5000 (5x)\n",
      "\t                       100 (3x)\n",
      "\t                       5600 (3x)\n",
      "\t                       3000 (3x)\n",
      "\n",
      " 15. \"367.52_3\"\n",
      "\n",
      "\tType of data:          Number\n",
      "\tContains null values:  False\n",
      "\tUnique values:         415\n",
      "\tSmallest value:        0\n",
      "\tLargest value:         1923500300\n",
      "\tSum:                   2011045149.95\n",
      "\tMean:                  518043.572888\n",
      "\tMedian:                0\n",
      "\tStDev:                 30874964.319531\n",
      "\tMost common values:    0 (3361x)\n",
      "\t                       3000 (11x)\n",
      "\t                       200000 (8x)\n",
      "\t                       25000 (8x)\n",
      "\t                       30000 (7x)\n",
      "\n",
      " 16. \"0_8\"\n",
      "\n",
      "\tType of data:          Number\n",
      "\tContains null values:  False\n",
      "\tUnique values:         51\n",
      "\tSmallest value:        0\n",
      "\tLargest value:         49987115.67\n",
      "\tSum:                   54704110.77\n",
      "\tMean:                  14091.733841\n",
      "\tMedian:                0\n",
      "\tStDev:                 804847.475036\n",
      "\tMost common values:    0 (3824x)\n",
      "\t                       100 (3x)\n",
      "\t                       920.16 (2x)\n",
      "\t                       20000 (2x)\n",
      "\t                       5600 (2x)\n",
      "\n",
      " 17. \"0_9\"\n",
      "\n",
      "\tType of data:          Number\n",
      "\tContains null values:  False\n",
      "\tUnique values:         1232\n",
      "\tSmallest value:        -15000\n",
      "\tLargest value:         50018660.4\n",
      "\tSum:                   295959208.85\n",
      "\tMean:                  76238.848235\n",
      "\tMedian:                0\n",
      "\tStDev:                 885494.087752\n",
      "\tMost common values:    0 (2329x)\n",
      "\t                       250000 (32x)\n",
      "\t                       20000 (16x)\n",
      "\t                       10000 (14x)\n",
      "\t                       1000 (14x)\n",
      "\n",
      " 18. \"0_10\"\n",
      "\n",
      "\tType of data:          Number\n",
      "\tContains null values:  False\n",
      "\tUnique values:         2423\n",
      "\tSmallest value:        -900\n",
      "\tLargest value:         18853982587\n",
      "\tSum:                   21585083830.75\n",
      "\tMean:                  5560299.801842\n",
      "\tMedian:                6811.955\n",
      "\tStDev:                 302742913.325605\n",
      "\tMost common values:    0 (1291x)\n",
      "\t                       100 (15x)\n",
      "\t                       25 (12x)\n",
      "\t                       200 (8x)\n",
      "\t                       5000 (7x)\n",
      "\n",
      " 19. \"AK\"\n",
      "\n",
      "\tType of data:          Text\n",
      "\tContains null values:  False\n",
      "\tUnique values:         57\n",
      "\tLongest value:         2 characters\n",
      "\tMost common values:    TX (350x)\n",
      "\t                       CA (343x)\n",
      "\t                       FL (242x)\n",
      "\t                       NY (219x)\n",
      "\t                       00 (208x)\n",
      "\n",
      " 20. \"00\"\n",
      "\n",
      "\tType of data:          Number\n",
      "\tContains null values:  False\n",
      "\tUnique values:         54\n",
      "\tSmallest value:        0\n",
      "\tLargest value:         53\n",
      "\tSum:                   32846\n",
      "\tMean:                  8.461103\n",
      "\tMedian:                5\n",
      "\tStDev:                 10.697266\n",
      "\tMost common values:    0 (839x)\n",
      "\t                       1 (295x)\n",
      "\t                       2 (290x)\n",
      "\t                       3 (279x)\n",
      "\t                       4 (215x)\n",
      "\n",
      " 21. \"u\"\n",
      "\n",
      "\tType of data:          Boolean\n",
      "\tContains null values:  True (excluded from calculations)\n",
      "\tUnique values:         1\n",
      "\tMost common values:    None (3882x)\n",
      "\n",
      " 22. \"v\"\n",
      "\n",
      "\tType of data:          Boolean\n",
      "\tContains null values:  True (excluded from calculations)\n",
      "\tUnique values:         1\n",
      "\tMost common values:    None (3882x)\n",
      "\n",
      " 23. \"w\"\n",
      "\n",
      "\tType of data:          Boolean\n",
      "\tContains null values:  True (excluded from calculations)\n",
      "\tUnique values:         1\n",
      "\tMost common values:    None (3882x)\n",
      "\n",
      " 24. \"x\"\n",
      "\n",
      "\tType of data:          Boolean\n",
      "\tContains null values:  True (excluded from calculations)\n",
      "\tUnique values:         1\n",
      "\tMost common values:    None (3882x)\n",
      "\n",
      " 25. \"y\"\n",
      "\n",
      "\tType of data:          Boolean\n",
      "\tContains null values:  True (excluded from calculations)\n",
      "\tUnique values:         1\n",
      "\tMost common values:    None (3882x)\n",
      "\n",
      " 26. \"0_11\"\n",
      "\n",
      "\tType of data:          Number\n",
      "\tContains null values:  False\n",
      "\tUnique values:         967\n",
      "\tSmallest value:        0\n",
      "\tLargest value:         1923500300\n",
      "\tSum:                   2269999079.9\n",
      "\tMean:                  584749.891783\n",
      "\tMedian:                0\n",
      "\tStDev:                 30871689.457421\n",
      "\tMost common values:    0 (2591x)\n",
      "\t                       1000 (57x)\n",
      "\t                       5000 (27x)\n",
      "\t                       500 (27x)\n",
      "\t                       2000 (17x)\n",
      "\n",
      " 27. \"0_12\"\n",
      "\n",
      "\tType of data:          Number\n",
      "\tContains null values:  False\n",
      "\tUnique values:         184\n",
      "\tSmallest value:        0\n",
      "\tLargest value:         3100000\n",
      "\tSum:                   4966454.44\n",
      "\tMean:                  1279.35457\n",
      "\tMedian:                0\n",
      "\tStDev:                 49863.584867\n",
      "\tMost common values:    0 (3532x)\n",
      "\t                       5000 (27x)\n",
      "\t                       4000 (27x)\n",
      "\t                       500 (19x)\n",
      "\t                       1000 (19x)\n",
      "\n",
      " 28. \"09/30/2019\"\n",
      "\n",
      "\tType of data:          Date\n",
      "\tContains null values:  False\n",
      "\tUnique values:         353\n",
      "\tSmallest value:        2019-01-01\n",
      "\tLargest value:         2020-12-31\n",
      "\tMost common values:    2020-06-30 (1904x)\n",
      "\t                       2020-03-31 (165x)\n",
      "\t                       2020-07-15 (165x)\n",
      "\t                       2020-09-30 (152x)\n",
      "\t                       2019-12-31 (140x)\n",
      "\n",
      " 29. \"0_13\"\n",
      "\n",
      "\tType of data:          Number\n",
      "\tContains null values:  False\n",
      "\tUnique values:         999\n",
      "\tSmallest value:        -37410\n",
      "\tLargest value:         1923500300\n",
      "\tSum:                   1970715285.92\n",
      "\tMean:                  507654.633158\n",
      "\tMedian:                0\n",
      "\tStDev:                 30872152.203367\n",
      "\tMost common values:    0 (2518x)\n",
      "\t                       100 (28x)\n",
      "\t                       500 (25x)\n",
      "\t                       1000 (24x)\n",
      "\t                       2800 (22x)\n",
      "\n",
      " 30. \"0_14\"\n",
      "\n",
      "\tType of data:          Number\n",
      "\tContains null values:  False\n",
      "\tUnique values:         169\n",
      "\tSmallest value:        -20400\n",
      "\tLargest value:         149700\n",
      "\tSum:                   2753101.57\n",
      "\tMean:                  709.196695\n",
      "\tMedian:                0\n",
      "\tStDev:                 5612.05733\n",
      "\tMost common values:    0 (3461x)\n",
      "\t                       1000 (53x)\n",
      "\t                       5000 (35x)\n",
      "\t                       2500 (27x)\n",
      "\t                       500 (22x)\n",
      "\n",
      "Row count: 3882\n"
     ]
    }
   ],
   "source": [
    "!csvstat all_candidates.csv"
   ]
  },
  {
   "cell_type": "markdown",
   "metadata": {},
   "source": [
    "#### create All_candidates table"
   ]
  },
  {
   "cell_type": "code",
   "execution_count": 7,
   "metadata": {},
   "outputs": [
    {
     "name": "stdout",
     "output_type": "stream",
     "text": [
      " * postgresql://student@/project2\n",
      "Done.\n",
      "Done.\n"
     ]
    },
    {
     "data": {
      "text/plain": [
       "[]"
      ]
     },
     "execution_count": 7,
     "metadata": {},
     "output_type": "execute_result"
    }
   ],
   "source": [
    "%%sql\n",
    "DROP TABLE IF EXISTS All_candidates Cascade;\n",
    "\n",
    "CREATE TABLE All_candidates\n",
    "(\n",
    "  CAND_ID VARCHAR(9) NOT NULL,\n",
    "  TTL_RECEIPTS NUMERIC(14,2) NOT NULL,\n",
    "  TRANS_FROM_AUTH NUMERIC(14,2) NOT NULL,\n",
    "  TTL_DISB NUMERIC(14,2) NOT NULL,\n",
    "  TRANS_TO_AUTH NUMERIC(14,2) NOT NULL,\n",
    "  COH_BOP NUMERIC(14,2) NOT NULL,\n",
    "  COH_COP NUMERIC(14,2) NOT NULL,\n",
    "  TTL_INDIV_CONTRIB NUMERIC(14,2) NOT NULL,\n",
    "  CVG_END_DT DATE NOT NULL,\n",
    "  INDIV_REFUNDS NUMERIC(14,2) NOT NULL,\n",
    "  CMTE_REFUNDS NUMERIC(14,2) NOT NULL,\n",
    "  PRIMARY KEY (CAND_ID)\n",
    ");"
   ]
  },
  {
   "cell_type": "markdown",
   "metadata": {},
   "source": [
    "+ From the result of \"csvstat\", we can see that there are no null value in all attributes in All_candidates file. \n",
    "+ Therefore, we add not null for all attributes in All_candidates table. "
   ]
  },
  {
   "cell_type": "markdown",
   "metadata": {},
   "source": [
    "+ Check the attributes in All_candidates"
   ]
  },
  {
   "cell_type": "code",
   "execution_count": null,
   "metadata": {},
   "outputs": [],
   "source": [
    "%%sql\n",
    "SELECT *\n",
    "FROM All_candidates;"
   ]
  },
  {
   "cell_type": "markdown",
   "metadata": {},
   "source": [
    "#### Create Candidate_master table"
   ]
  },
  {
   "cell_type": "code",
   "execution_count": null,
   "metadata": {},
   "outputs": [],
   "source": [
    "!csvstat Candidate_master.csv"
   ]
  },
  {
   "cell_type": "code",
   "execution_count": 9,
   "metadata": {},
   "outputs": [
    {
     "name": "stdout",
     "output_type": "stream",
     "text": [
      " * postgresql://student@/project2\n",
      "Done.\n",
      "Done.\n"
     ]
    },
    {
     "data": {
      "text/plain": [
       "[]"
      ]
     },
     "execution_count": 9,
     "metadata": {},
     "output_type": "execute_result"
    }
   ],
   "source": [
    "%%sql\n",
    "DROP TABLE IF EXISTS Candidate_master cascade;\n",
    "\n",
    "CREATE TABLE Candidate_master\n",
    "(\n",
    "  CAND_ID VARCHAR(9) NOT NULL,\n",
    "  CAND_NAME VARCHAR(200) NOT NULL,\n",
    "  CAND_PTY_AFFILIATION VARCHAR(3),\n",
    "  CAND_ELECTION_YR NUMERIC(4) NOT NULL,\n",
    "  CAND_OFFICE_ST VARCHAR(2) NOT NULL,\n",
    "  CAND_OFFICE VARCHAR(1) NOT NULL,\n",
    "  CAND_OFFICE_DISTRICT VARCHAR(2),\n",
    "  CAND_ICI VARCHAR(8),\n",
    "  CAND_STATUS VARCHAR(1) NOT NULL,\n",
    "  CAND_PCC VARCHAR(9),\n",
    "  CAND_ST1 VARCHAR(34),\n",
    "  CAND_ST2 VARCHAR(34),\n",
    "  CAND_CITY VARCHAR(30),\n",
    "  CAND_ST VARCHAR(2),\n",
    "  CAND_ZIP VARCHAR(9),\n",
    "  PRIMARY KEY (CAND_ID)\n",
    ");"
   ]
  },
  {
   "cell_type": "markdown",
   "metadata": {},
   "source": [
    "+ Check the attributes in Candidate_master"
   ]
  },
  {
   "cell_type": "code",
   "execution_count": 10,
   "metadata": {},
   "outputs": [
    {
     "name": "stdout",
     "output_type": "stream",
     "text": [
      " * postgresql://student@/project2\n",
      "0 rows affected.\n"
     ]
    },
    {
     "data": {
      "text/html": [
       "<table>\n",
       "    <tr>\n",
       "        <th>cand_id</th>\n",
       "        <th>cand_name</th>\n",
       "        <th>cand_pty_affiliation</th>\n",
       "        <th>cand_election_yr</th>\n",
       "        <th>cand_office_st</th>\n",
       "        <th>cand_office</th>\n",
       "        <th>cand_office_district</th>\n",
       "        <th>cand_ici</th>\n",
       "        <th>cand_status</th>\n",
       "        <th>cand_pcc</th>\n",
       "        <th>cand_st1</th>\n",
       "        <th>cand_st2</th>\n",
       "        <th>cand_city</th>\n",
       "        <th>cand_st</th>\n",
       "        <th>cand_zip</th>\n",
       "    </tr>\n",
       "</table>"
      ],
      "text/plain": [
       "[]"
      ]
     },
     "execution_count": 10,
     "metadata": {},
     "output_type": "execute_result"
    }
   ],
   "source": [
    "%%sql\n",
    "SELECT *\n",
    "FROM Candidate_master;"
   ]
  },
  {
   "cell_type": "markdown",
   "metadata": {},
   "source": [
    "#### Create Committee_master table"
   ]
  },
  {
   "cell_type": "markdown",
   "metadata": {},
   "source": [
    "+ Take a look at the data. "
   ]
  },
  {
   "cell_type": "code",
   "execution_count": null,
   "metadata": {},
   "outputs": [],
   "source": [
    "!csvstat Committee_master.csv"
   ]
  },
  {
   "cell_type": "code",
   "execution_count": 23,
   "metadata": {},
   "outputs": [
    {
     "name": "stdout",
     "output_type": "stream",
     "text": [
      " * postgresql://student@/project2\n",
      "Done.\n",
      "Done.\n"
     ]
    },
    {
     "data": {
      "text/plain": [
       "[]"
      ]
     },
     "execution_count": 23,
     "metadata": {},
     "output_type": "execute_result"
    }
   ],
   "source": [
    "%%sql\n",
    "DROP TABLE IF EXISTS Committee_master cascade;\n",
    "CREATE TABLE Committee_master\n",
    "(\n",
    "  CMTE_ID VARCHAR(9) NOT NULL,\n",
    "  CMTE_NM VARCHAR(200),\n",
    "  TRES_NM VARCHAR(90),\n",
    "  CMTE_ST1 VARCHAR(34),\n",
    "  CMTE_ST2 VARCHAR(34),\n",
    "  CMTE_CITY VARCHAR(30),\n",
    "  CMTE_ST VARCHAR(2),\n",
    "  CMTE_ZIP VARCHAR(9),\n",
    "  CMTE_DSGN VARCHAR(1),\n",
    "  CMTE_TP VARCHAR(1),\n",
    "  CMTE_PTY_AFFILIATION VARCHAR(3),\n",
    "  CMTE_FILING_FREQ VARCHAR(1) NOT NULL,\n",
    "  ORG_TP VARCHAR(1),\n",
    "  CONNECTED_ORG_NM VARCHAR(200),\n",
    "  CAND_ID VARCHAR(9),\n",
    "  PRIMARY KEY (CMTE_ID)\n",
    ");\n"
   ]
  },
  {
   "cell_type": "code",
   "execution_count": 24,
   "metadata": {},
   "outputs": [
    {
     "name": "stdout",
     "output_type": "stream",
     "text": [
      " * postgresql://student@/project2\n",
      "0 rows affected.\n"
     ]
    },
    {
     "data": {
      "text/html": [
       "<table>\n",
       "    <tr>\n",
       "        <th>cmte_id</th>\n",
       "        <th>cmte_nm</th>\n",
       "        <th>tres_nm</th>\n",
       "        <th>cmte_st1</th>\n",
       "        <th>cmte_st2</th>\n",
       "        <th>cmte_city</th>\n",
       "        <th>cmte_st</th>\n",
       "        <th>cmte_zip</th>\n",
       "        <th>cmte_dsgn</th>\n",
       "        <th>cmte_tp</th>\n",
       "        <th>cmte_pty_affiliation</th>\n",
       "        <th>cmte_filing_freq</th>\n",
       "        <th>org_tp</th>\n",
       "        <th>connected_org_nm</th>\n",
       "        <th>cand_id</th>\n",
       "    </tr>\n",
       "</table>"
      ],
      "text/plain": [
       "[]"
      ]
     },
     "execution_count": 24,
     "metadata": {},
     "output_type": "execute_result"
    }
   ],
   "source": [
    "%%sql\n",
    "SELECT *\n",
    "FROM Committee_master;"
   ]
  },
  {
   "cell_type": "code",
   "execution_count": null,
   "metadata": {},
   "outputs": [],
   "source": [
    "!csvstat Linkage.csv"
   ]
  },
  {
   "cell_type": "code",
   "execution_count": 22,
   "metadata": {},
   "outputs": [
    {
     "name": "stdout",
     "output_type": "stream",
     "text": [
      " * postgresql://student@/project2\n",
      "Done.\n",
      "Done.\n"
     ]
    },
    {
     "data": {
      "text/plain": [
       "[]"
      ]
     },
     "execution_count": 22,
     "metadata": {},
     "output_type": "execute_result"
    }
   ],
   "source": [
    "%%sql\n",
    "DROP TABLE IF EXISTS Linkage cascade;\n",
    "CREATE TABLE Linkage\n",
    "(\n",
    "  CAND_ID VARCHAR(9) NOT NULL,\n",
    "  CMTE_ID VARCHAR(9) NOT NULL,\n",
    "  LINKAGE_ID NUMERIC(12) NOT NULL\n",
    "--FOREIGN KEY (CAND_ID) REFERENCES Candidate_master(CAND_ID),\n",
    "--FOREIGN KEY (CMTE_ID) REFERENCES Committee_master(CMTE_ID)\n",
    ");"
   ]
  },
  {
   "cell_type": "code",
   "execution_count": 14,
   "metadata": {},
   "outputs": [
    {
     "name": "stdout",
     "output_type": "stream",
     "text": [
      " * postgresql://student@/project2\n",
      "0 rows affected.\n"
     ]
    },
    {
     "data": {
      "text/html": [
       "<table>\n",
       "    <tr>\n",
       "        <th>cand_id</th>\n",
       "        <th>cmte_id</th>\n",
       "        <th>linkage_id</th>\n",
       "    </tr>\n",
       "</table>"
      ],
      "text/plain": [
       "[]"
      ]
     },
     "execution_count": 14,
     "metadata": {},
     "output_type": "execute_result"
    }
   ],
   "source": [
    "%%sql\n",
    "SELECT *\n",
    "FROM Linkage;"
   ]
  },
  {
   "cell_type": "code",
   "execution_count": 15,
   "metadata": {},
   "outputs": [
    {
     "name": "stdout",
     "output_type": "stream",
     "text": [
      " * postgresql://student@/project2\n",
      "Done.\n",
      "Done.\n"
     ]
    },
    {
     "data": {
      "text/plain": [
       "[]"
      ]
     },
     "execution_count": 15,
     "metadata": {},
     "output_type": "execute_result"
    }
   ],
   "source": [
    "%%sql\n",
    "DROP TABLE IF EXISTS Donate cascade;\n",
    "CREATE TABLE Donate\n",
    "(\n",
    "  SUB_ID NUMERIC(19) NOT NULL,\n",
    "  CMTE_ID VARCHAR(9) NOT NULL\n",
    "--FOREIGN KEY (SUB_ID) REFERENCES Contribution_by_individuals(SUB_ID),\n",
    "--FOREIGN KEY (CMTE_ID) REFERENCES Committee_master(CMTE_ID)\n",
    ");"
   ]
  },
  {
   "cell_type": "code",
   "execution_count": 16,
   "metadata": {},
   "outputs": [
    {
     "name": "stdout",
     "output_type": "stream",
     "text": [
      " * postgresql://student@/project2\n",
      "0 rows affected.\n"
     ]
    },
    {
     "data": {
      "text/html": [
       "<table>\n",
       "    <tr>\n",
       "        <th>sub_id</th>\n",
       "        <th>cmte_id</th>\n",
       "    </tr>\n",
       "</table>"
      ],
      "text/plain": [
       "[]"
      ]
     },
     "execution_count": 16,
     "metadata": {},
     "output_type": "execute_result"
    }
   ],
   "source": [
    "%%sql\n",
    "SELECT *\n",
    "FROM Donate;"
   ]
  },
  {
   "cell_type": "markdown",
   "metadata": {},
   "source": [
    "#### Create contribution table"
   ]
  },
  {
   "cell_type": "code",
   "execution_count": 13,
   "metadata": {},
   "outputs": [
    {
     "name": "stdout",
     "output_type": "stream",
     "text": [
      " * postgresql://student@/project2\n",
      "Done.\n",
      "Done.\n"
     ]
    },
    {
     "data": {
      "text/plain": [
       "[]"
      ]
     },
     "execution_count": 13,
     "metadata": {},
     "output_type": "execute_result"
    }
   ],
   "source": [
    "%%sql\n",
    "DROP TABLE IF EXISTS Contribution_by_individuals cascade;\n",
    "CREATE TABLE Contribution_by_individuals\n",
    "(\n",
    "    CMTE_ID varchar(9) NOT NULL,\n",
    "    AMNDT_IND varchar(1) check (AMNDT_IND in('N','A','T')),\n",
    "    RPT_TP varchar(3),\n",
    "    TRANSACTION_PGI varchar(5),\n",
    "    IMAGE_NUM varchar(18),\n",
    "    TRANSACTION_TP varchar(3),\n",
    "    ENTITY_TP varchar(3),\n",
    "    NAME varchar(200),\n",
    "    CITY varchar(30),\n",
    "    STATE varchar(2),\n",
    "    ZIP_CODE varchar(9),\n",
    "    EMPLOYER varchar(38),\n",
    "    OCCUPATION varchar(38),\n",
    "    TRANSACTION_DT varchar(8),\n",
    "    TRANSACTION_AMT numeric(14,2),\n",
    "    OTHER_ID varchar(9),\n",
    "    TRAN_ID varchar(32) NOT NULL,\n",
    "    FILE_NUM varchar(22) NOT NULL,\n",
    "    MEMO_CD varchar(1),\n",
    "    MEMO_TEXT varchar(100),\n",
    "    SUB_ID numeric(19) NOT NULL,\n",
    "    UNIQUE(SUB_ID)\n",
    ")"
   ]
  },
  {
   "cell_type": "code",
   "execution_count": null,
   "metadata": {},
   "outputs": [],
   "source": [
    "# Use the csvstack command to stack the 13 contribution by individual data files for 2020 and form a single csv file.\n",
    "!csvstack -d \"|\" itcont_2020_20*_2020*.txt > itcon.csv"
   ]
  },
  {
   "cell_type": "code",
   "execution_count": null,
   "metadata": {},
   "outputs": [],
   "source": []
  },
  {
   "cell_type": "markdown",
   "metadata": {},
   "source": [
    "## Question 3"
   ]
  },
  {
   "cell_type": "markdown",
   "metadata": {},
   "source": [
    "+ Using csvcut to check whether the data exists duplicates. "
   ]
  },
  {
   "cell_type": "code",
   "execution_count": null,
   "metadata": {},
   "outputs": [],
   "source": [
    "!csvcut -c1,2 All_candidates.csv | sort -n | uniq -c | sort -rn | head -5"
   ]
  },
  {
   "cell_type": "code",
   "execution_count": 17,
   "metadata": {},
   "outputs": [
    {
     "name": "stdout",
     "output_type": "stream",
     "text": [
      " * postgresql://student@/project2\n",
      "3883 rows affected.\n"
     ]
    },
    {
     "data": {
      "text/plain": [
       "[]"
      ]
     },
     "execution_count": 17,
     "metadata": {},
     "output_type": "execute_result"
    }
   ],
   "source": [
    "%%sql\n",
    "COPY All_candidates FROM '/home/ubuntu/All_candidates.csv'\n",
    "CSV\n",
    "HEADER;"
   ]
  },
  {
   "cell_type": "markdown",
   "metadata": {},
   "source": [
    "+ take a look at the data set."
   ]
  },
  {
   "cell_type": "code",
   "execution_count": null,
   "metadata": {},
   "outputs": [],
   "source": [
    "%%sql\n",
    "SELECT *\n",
    "FROM All_candidates\n",
    "limit 5;"
   ]
  },
  {
   "cell_type": "markdown",
   "metadata": {},
   "source": [
    "+ Use csvcut to check any duplicated rows in the column corresponding to the primary key.\n",
    "+ From the result showed that there are no duplicated rows in All_candidates file."
   ]
  },
  {
   "cell_type": "code",
   "execution_count": null,
   "metadata": {},
   "outputs": [],
   "source": [
    "!csvcut -c1,2 Candidate_master.csv | sort -n | uniq -c | sort -rn | head -5"
   ]
  },
  {
   "cell_type": "markdown",
   "metadata": {},
   "source": [
    "+ From the result of above, we can see that there duplicates exist in Candidate_master.csv that we should delete these rows and roload. "
   ]
  },
  {
   "cell_type": "code",
   "execution_count": 18,
   "metadata": {},
   "outputs": [
    {
     "name": "stdout",
     "output_type": "stream",
     "text": [
      " * postgresql://student@/project2\n",
      "7500 rows affected.\n"
     ]
    },
    {
     "data": {
      "text/plain": [
       "[]"
      ]
     },
     "execution_count": 18,
     "metadata": {},
     "output_type": "execute_result"
    }
   ],
   "source": [
    "%%sql\n",
    "COPY Candidate_master FROM '/home/ubuntu/Candidate_master.csv'\n",
    "CSV\n",
    "HEADER;"
   ]
  },
  {
   "cell_type": "code",
   "execution_count": 19,
   "metadata": {},
   "outputs": [
    {
     "name": "stdout",
     "output_type": "stream",
     "text": [
      " * postgresql://student@/project2\n",
      "5 rows affected.\n"
     ]
    },
    {
     "data": {
      "text/html": [
       "<table>\n",
       "    <tr>\n",
       "        <th>cand_id</th>\n",
       "        <th>cand_name</th>\n",
       "        <th>cand_pty_affiliation</th>\n",
       "        <th>cand_election_yr</th>\n",
       "        <th>cand_office_st</th>\n",
       "        <th>cand_office</th>\n",
       "        <th>cand_office_district</th>\n",
       "        <th>cand_ici</th>\n",
       "        <th>cand_status</th>\n",
       "        <th>cand_pcc</th>\n",
       "        <th>cand_st1</th>\n",
       "        <th>cand_st2</th>\n",
       "        <th>cand_city</th>\n",
       "        <th>cand_st</th>\n",
       "        <th>cand_zip</th>\n",
       "    </tr>\n",
       "    <tr>\n",
       "        <td>H0AK00105</td>\n",
       "        <td>LAMB, THOMAS</td>\n",
       "        <td>NNE</td>\n",
       "        <td>2020</td>\n",
       "        <td>AK</td>\n",
       "        <td>H</td>\n",
       "        <td>0</td>\n",
       "        <td>C</td>\n",
       "        <td>N</td>\n",
       "        <td>C00607515</td>\n",
       "        <td>1861 W LAKE LUCILLE DR</td>\n",
       "        <td>None</td>\n",
       "        <td>WASILLA</td>\n",
       "        <td>AK</td>\n",
       "        <td>99654</td>\n",
       "    </tr>\n",
       "    <tr>\n",
       "        <td>H0AK00113</td>\n",
       "        <td>TUGATUK, RAY SEAN</td>\n",
       "        <td>DEM</td>\n",
       "        <td>2020</td>\n",
       "        <td>AK</td>\n",
       "        <td>H</td>\n",
       "        <td>0</td>\n",
       "        <td>C</td>\n",
       "        <td>N</td>\n",
       "        <td>None</td>\n",
       "        <td>PO BOX 172</td>\n",
       "        <td>None</td>\n",
       "        <td>MANAKOTAK</td>\n",
       "        <td>AK</td>\n",
       "        <td>99628</td>\n",
       "    </tr>\n",
       "    <tr>\n",
       "        <td>H0AK01046</td>\n",
       "        <td>CATALANO, THOMAS</td>\n",
       "        <td>OTH</td>\n",
       "        <td>2020</td>\n",
       "        <td>AK</td>\n",
       "        <td>H</td>\n",
       "        <td>0</td>\n",
       "        <td>None</td>\n",
       "        <td>N</td>\n",
       "        <td>None</td>\n",
       "        <td>188 WEST NORTHERN LIGHTS BOULEVARD</td>\n",
       "        <td>None</td>\n",
       "        <td>ANCHORAGE</td>\n",
       "        <td>AK</td>\n",
       "        <td>99503</td>\n",
       "    </tr>\n",
       "    <tr>\n",
       "        <td>H0AL01055</td>\n",
       "        <td>CARL, JERRY LEE, JR</td>\n",
       "        <td>REP</td>\n",
       "        <td>2020</td>\n",
       "        <td>AL</td>\n",
       "        <td>H</td>\n",
       "        <td>1</td>\n",
       "        <td>O</td>\n",
       "        <td>C</td>\n",
       "        <td>C00697789</td>\n",
       "        <td>PO BOX 852138</td>\n",
       "        <td>None</td>\n",
       "        <td>MOBILE</td>\n",
       "        <td>AL</td>\n",
       "        <td>36685</td>\n",
       "    </tr>\n",
       "    <tr>\n",
       "        <td>H0AL01063</td>\n",
       "        <td>LAMBERT, DOUGLAS WESTLEY III</td>\n",
       "        <td>REP</td>\n",
       "        <td>2020</td>\n",
       "        <td>AL</td>\n",
       "        <td>H</td>\n",
       "        <td>1</td>\n",
       "        <td>O</td>\n",
       "        <td>C</td>\n",
       "        <td>C00701557</td>\n",
       "        <td>7194 STILLWATER BLVD</td>\n",
       "        <td>None</td>\n",
       "        <td>SPANISH FORT</td>\n",
       "        <td>AL</td>\n",
       "        <td>36527</td>\n",
       "    </tr>\n",
       "</table>"
      ],
      "text/plain": [
       "[('H0AK00105', 'LAMB, THOMAS', 'NNE', Decimal('2020'), 'AK', 'H', '0', 'C', 'N', 'C00607515', '1861 W LAKE LUCILLE DR', None, 'WASILLA', 'AK', '99654'),\n",
       " ('H0AK00113', 'TUGATUK, RAY SEAN', 'DEM', Decimal('2020'), 'AK', 'H', '0', 'C', 'N', None, 'PO BOX 172', None, 'MANAKOTAK', 'AK', '99628'),\n",
       " ('H0AK01046', 'CATALANO, THOMAS', 'OTH', Decimal('2020'), 'AK', 'H', '0', None, 'N', None, '188 WEST NORTHERN LIGHTS BOULEVARD', None, 'ANCHORAGE', 'AK', '99503'),\n",
       " ('H0AL01055', 'CARL, JERRY LEE, JR', 'REP', Decimal('2020'), 'AL', 'H', '1', 'O', 'C', 'C00697789', 'PO BOX 852138', None, 'MOBILE', 'AL', '36685'),\n",
       " ('H0AL01063', 'LAMBERT, DOUGLAS WESTLEY III', 'REP', Decimal('2020'), 'AL', 'H', '1', 'O', 'C', 'C00701557', '7194 STILLWATER BLVD', None, 'SPANISH FORT', 'AL', '36527')]"
      ]
     },
     "execution_count": 19,
     "metadata": {},
     "output_type": "execute_result"
    }
   ],
   "source": [
    "%%sql\n",
    "SELECT *\n",
    "FROM Candidate_master\n",
    "limit 5;"
   ]
  },
  {
   "cell_type": "markdown",
   "metadata": {},
   "source": [
    "+ Use select from except to find the CAND_IDs from All_candidates that are not present on the candidate_master."
   ]
  },
  {
   "cell_type": "code",
   "execution_count": 20,
   "metadata": {},
   "outputs": [
    {
     "name": "stdout",
     "output_type": "stream",
     "text": [
      " * postgresql://student@/project2\n",
      "10 rows affected.\n"
     ]
    },
    {
     "data": {
      "text/html": [
       "<table>\n",
       "    <tr>\n",
       "        <th>cand_id</th>\n",
       "    </tr>\n",
       "    <tr>\n",
       "        <td>P80003916</td>\n",
       "    </tr>\n",
       "    <tr>\n",
       "        <td>P00006890</td>\n",
       "    </tr>\n",
       "    <tr>\n",
       "        <td>S6NC00324</td>\n",
       "    </tr>\n",
       "    <tr>\n",
       "        <td>S0CA00447</td>\n",
       "    </tr>\n",
       "    <tr>\n",
       "        <td>P20003851</td>\n",
       "    </tr>\n",
       "    <tr>\n",
       "        <td>P60006244</td>\n",
       "    </tr>\n",
       "    <tr>\n",
       "        <td>P00006197</td>\n",
       "    </tr>\n",
       "    <tr>\n",
       "        <td>S8MD00310</td>\n",
       "    </tr>\n",
       "    <tr>\n",
       "        <td>P00015651</td>\n",
       "    </tr>\n",
       "    <tr>\n",
       "        <td>H8NC00023</td>\n",
       "    </tr>\n",
       "</table>"
      ],
      "text/plain": [
       "[('P80003916',),\n",
       " ('P00006890',),\n",
       " ('S6NC00324',),\n",
       " ('S0CA00447',),\n",
       " ('P20003851',),\n",
       " ('P60006244',),\n",
       " ('P00006197',),\n",
       " ('S8MD00310',),\n",
       " ('P00015651',),\n",
       " ('H8NC00023',)]"
      ]
     },
     "execution_count": 20,
     "metadata": {},
     "output_type": "execute_result"
    }
   ],
   "source": [
    "%%sql\n",
    "select cand_id\n",
    "from All_candidates\n",
    "except \n",
    "select cand_id \n",
    "from Candidate_master;"
   ]
  },
  {
   "cell_type": "markdown",
   "metadata": {},
   "source": [
    "+ Based on the result of last cell, there are existing 10 rows in All_candidates that Candidate_master does not include.\n",
    "+ That is why we can not use cand_id as the foregin key to connect both tables. To solve this problem, we need to remove these 10 CAND_ID from the all_candidate dataset or add these 10 CAND_ID into the candidate_master dataset."
   ]
  },
  {
   "cell_type": "code",
   "execution_count": null,
   "metadata": {},
   "outputs": [],
   "source": [
    "!csvcut -c1,2 Committee_master.csv | sort -n | uniq -c | sort -rn | head -5"
   ]
  },
  {
   "cell_type": "markdown",
   "metadata": {},
   "source": [
    "+ From the result of above, we can see that there duplicates exist in Candidate_master.csv that we should delete these duplicate rows and roload. "
   ]
  },
  {
   "cell_type": "code",
   "execution_count": 25,
   "metadata": {},
   "outputs": [
    {
     "name": "stdout",
     "output_type": "stream",
     "text": [
      " * postgresql://student@/project2\n",
      "17615 rows affected.\n"
     ]
    },
    {
     "data": {
      "text/plain": [
       "[]"
      ]
     },
     "execution_count": 25,
     "metadata": {},
     "output_type": "execute_result"
    }
   ],
   "source": [
    "%%sql\n",
    "COPY Committee_master FROM '/home/ubuntu/Committee_master.csv'\n",
    "CSV\n",
    "HEADER;"
   ]
  },
  {
   "cell_type": "code",
   "execution_count": 27,
   "metadata": {},
   "outputs": [
    {
     "name": "stdout",
     "output_type": "stream",
     "text": [
      " * postgresql://student@/project2\n",
      "5 rows affected.\n"
     ]
    },
    {
     "data": {
      "text/html": [
       "<table>\n",
       "    <tr>\n",
       "        <th>cmte_id</th>\n",
       "        <th>cmte_nm</th>\n",
       "        <th>tres_nm</th>\n",
       "        <th>cmte_st1</th>\n",
       "        <th>cmte_st2</th>\n",
       "        <th>cmte_city</th>\n",
       "        <th>cmte_st</th>\n",
       "        <th>cmte_zip</th>\n",
       "        <th>cmte_dsgn</th>\n",
       "        <th>cmte_tp</th>\n",
       "        <th>cmte_pty_affiliation</th>\n",
       "        <th>cmte_filing_freq</th>\n",
       "        <th>org_tp</th>\n",
       "        <th>connected_org_nm</th>\n",
       "        <th>cand_id</th>\n",
       "    </tr>\n",
       "    <tr>\n",
       "        <td>C00000059</td>\n",
       "        <td>HALLMARK CARDS PAC</td>\n",
       "        <td>SARAH MOE</td>\n",
       "        <td>2501 MCGEE</td>\n",
       "        <td>MD #500</td>\n",
       "        <td>KANSAS CITY</td>\n",
       "        <td>MO</td>\n",
       "        <td>64108</td>\n",
       "        <td>U</td>\n",
       "        <td>Q</td>\n",
       "        <td>UNK</td>\n",
       "        <td>M</td>\n",
       "        <td>C</td>\n",
       "        <td>None</td>\n",
       "        <td>None</td>\n",
       "    </tr>\n",
       "    <tr>\n",
       "        <td>C00000422</td>\n",
       "        <td>AMERICAN MEDICAL ASSOCIATION POLITICAL ACTION COMMITTEE</td>\n",
       "        <td>WALKER, KEVIN MR.</td>\n",
       "        <td>25 MASSACHUSETTS AVE, NW</td>\n",
       "        <td>SUITE 600</td>\n",
       "        <td>WASHINGTON</td>\n",
       "        <td>DC</td>\n",
       "        <td>200017400</td>\n",
       "        <td>B</td>\n",
       "        <td>Q</td>\n",
       "        <td>None</td>\n",
       "        <td>M</td>\n",
       "        <td>M</td>\n",
       "        <td>DELAWARE MEDICAL PAC</td>\n",
       "        <td>None</td>\n",
       "    </tr>\n",
       "    <tr>\n",
       "        <td>C00000489</td>\n",
       "        <td>D R I V E POLITICAL FUND CHAPTER 886</td>\n",
       "        <td>JERRY SIMS JR</td>\n",
       "        <td>3528 W RENO</td>\n",
       "        <td>None</td>\n",
       "        <td>OKLAHOMA CITY</td>\n",
       "        <td>OK</td>\n",
       "        <td>73107</td>\n",
       "        <td>U</td>\n",
       "        <td>N</td>\n",
       "        <td>None</td>\n",
       "        <td>Q</td>\n",
       "        <td>L</td>\n",
       "        <td>None</td>\n",
       "        <td>None</td>\n",
       "    </tr>\n",
       "    <tr>\n",
       "        <td>C00000547</td>\n",
       "        <td>KANSAS MEDICAL SOCIETY POLITICAL ACTION COMMITTEE</td>\n",
       "        <td>JERRY SLAUGHTER</td>\n",
       "        <td>623 SW 10TH AVE</td>\n",
       "        <td>None</td>\n",
       "        <td>TOPEKA</td>\n",
       "        <td>KS</td>\n",
       "        <td>666121627</td>\n",
       "        <td>U</td>\n",
       "        <td>Q</td>\n",
       "        <td>UNK</td>\n",
       "        <td>Q</td>\n",
       "        <td>M</td>\n",
       "        <td>KANSAS MEDICAL SOCIETY</td>\n",
       "        <td>None</td>\n",
       "    </tr>\n",
       "    <tr>\n",
       "        <td>C00000638</td>\n",
       "        <td>INDIANA STATE MEDICAL ASSOCIATION POLITICAL ACTION COMMITTEE</td>\n",
       "        <td>ACHENBACH, GRANT MR.</td>\n",
       "        <td>322 CANAL WALK, CANAL LEVEL</td>\n",
       "        <td>None</td>\n",
       "        <td>INDIANAPOLIS</td>\n",
       "        <td>IN</td>\n",
       "        <td>46202</td>\n",
       "        <td>U</td>\n",
       "        <td>Q</td>\n",
       "        <td>None</td>\n",
       "        <td>T</td>\n",
       "        <td>M</td>\n",
       "        <td>None</td>\n",
       "        <td>None</td>\n",
       "    </tr>\n",
       "</table>"
      ],
      "text/plain": [
       "[('C00000059', 'HALLMARK CARDS PAC', 'SARAH MOE', '2501 MCGEE', 'MD #500', 'KANSAS CITY', 'MO', '64108', 'U', 'Q', 'UNK', 'M', 'C', None, None),\n",
       " ('C00000422', 'AMERICAN MEDICAL ASSOCIATION POLITICAL ACTION COMMITTEE', 'WALKER, KEVIN MR.', '25 MASSACHUSETTS AVE, NW', 'SUITE 600', 'WASHINGTON', 'DC', '200017400', 'B', 'Q', None, 'M', 'M', 'DELAWARE MEDICAL PAC', None),\n",
       " ('C00000489', 'D R I V E POLITICAL FUND CHAPTER 886', 'JERRY SIMS JR', '3528 W RENO', None, 'OKLAHOMA CITY', 'OK', '73107', 'U', 'N', None, 'Q', 'L', None, None),\n",
       " ('C00000547', 'KANSAS MEDICAL SOCIETY POLITICAL ACTION COMMITTEE', 'JERRY SLAUGHTER', '623 SW 10TH AVE', None, 'TOPEKA', 'KS', '666121627', 'U', 'Q', 'UNK', 'Q', 'M', 'KANSAS MEDICAL SOCIETY', None),\n",
       " ('C00000638', 'INDIANA STATE MEDICAL ASSOCIATION POLITICAL ACTION COMMITTEE', 'ACHENBACH, GRANT MR.', '322 CANAL WALK, CANAL LEVEL', None, 'INDIANAPOLIS', 'IN', '46202', 'U', 'Q', None, 'T', 'M', None, None)]"
      ]
     },
     "execution_count": 27,
     "metadata": {},
     "output_type": "execute_result"
    }
   ],
   "source": [
    "%%sql\n",
    "SELECT *\n",
    "FROM Committee_master\n",
    "limit 5;"
   ]
  },
  {
   "cell_type": "code",
   "execution_count": 12,
   "metadata": {},
   "outputs": [],
   "source": [
    "!csvcut -c1,4,7 -H linkage.csv > Linkage.csv"
   ]
  },
  {
   "cell_type": "code",
   "execution_count": 13,
   "metadata": {},
   "outputs": [
    {
     "name": "stdout",
     "output_type": "stream",
     "text": [
      "      1 a,d,g\n",
      "      1 S8WY00197,C00671776,224671\n",
      "      1 S8WY00189,C00663146,223873\n",
      "      1 S8WV00143,C00710889,228546\n",
      "      1 S8WV00143,C00689471,225486\n",
      "sort: write failed: 'standard output': Broken pipe\n",
      "sort: write error\n"
     ]
    }
   ],
   "source": [
    "!csvcut -c1,2,3 Linkage.csv | sort -n | uniq -c | sort -rn | head -5"
   ]
  },
  {
   "cell_type": "code",
   "execution_count": 28,
   "metadata": {},
   "outputs": [
    {
     "name": "stdout",
     "output_type": "stream",
     "text": [
      " * postgresql://student@/project2\n",
      "6829 rows affected.\n"
     ]
    },
    {
     "data": {
      "text/plain": [
       "[]"
      ]
     },
     "execution_count": 28,
     "metadata": {},
     "output_type": "execute_result"
    }
   ],
   "source": [
    "%%sql\n",
    "COPY Linkage FROM '/home/ubuntu/Linkage.csv'\n",
    "CSV\n",
    "HEADER;"
   ]
  },
  {
   "cell_type": "code",
   "execution_count": 15,
   "metadata": {},
   "outputs": [
    {
     "name": "stdout",
     "output_type": "stream",
     "text": [
      " * postgresql://student@/project2\n",
      "5 rows affected.\n"
     ]
    },
    {
     "data": {
      "text/html": [
       "<table>\n",
       "    <tr>\n",
       "        <th>cand_id</th>\n",
       "        <th>cmte_id</th>\n",
       "        <th>linkage_id</th>\n",
       "    </tr>\n",
       "    <tr>\n",
       "        <td>C00713602</td>\n",
       "        <td>C00712851</td>\n",
       "        <td>228963</td>\n",
       "    </tr>\n",
       "    <tr>\n",
       "        <td>H0AK00105</td>\n",
       "        <td>C00607515</td>\n",
       "        <td>229250</td>\n",
       "    </tr>\n",
       "    <tr>\n",
       "        <td>H0AL01055</td>\n",
       "        <td>C00697789</td>\n",
       "        <td>226125</td>\n",
       "    </tr>\n",
       "    <tr>\n",
       "        <td>H0AL01063</td>\n",
       "        <td>C00701557</td>\n",
       "        <td>227053</td>\n",
       "    </tr>\n",
       "    <tr>\n",
       "        <td>H0AL01071</td>\n",
       "        <td>C00701409</td>\n",
       "        <td>227054</td>\n",
       "    </tr>\n",
       "</table>"
      ],
      "text/plain": [
       "[('C00713602', 'C00712851', Decimal('228963')),\n",
       " ('H0AK00105', 'C00607515', Decimal('229250')),\n",
       " ('H0AL01055', 'C00697789', Decimal('226125')),\n",
       " ('H0AL01063', 'C00701557', Decimal('227053')),\n",
       " ('H0AL01071', 'C00701409', Decimal('227054'))]"
      ]
     },
     "execution_count": 15,
     "metadata": {},
     "output_type": "execute_result"
    }
   ],
   "source": [
    "%%sql\n",
    "SELECT *\n",
    "FROM Linkage\n",
    "limit 5;"
   ]
  },
  {
   "cell_type": "code",
   "execution_count": 13,
   "metadata": {},
   "outputs": [
    {
     "name": "stdout",
     "output_type": "stream",
     "text": [
      " * postgresql://student@/project2\n",
      "(psycopg2.errors.DiskFull) could not extend file \"base/16799/16833.4\": wrote only 4096 of 8192 bytes at block 577976\n",
      "HINT:  Check free disk space.\n",
      "CONTEXT:  COPY contribution_by_individuals, line 20455901\n",
      "\n",
      "[SQL: COPY Contribution_by_individuals FROM '/home/ubuntu/itcon.csv'\n",
      "CSV\n",
      "HEADER;]\n",
      "(Background on this error at: http://sqlalche.me/e/e3q8)\n"
     ]
    }
   ],
   "source": [
    "%%sql\n",
    "COPY Contribution_by_individuals FROM '/home/ubuntu/itcon.csv'\n",
    "CSV\n",
    "HEADER;"
   ]
  },
  {
   "cell_type": "markdown",
   "metadata": {},
   "source": [
    "+ Comment: due to the limit disk space that we have, I can only copy 20455901 reconds into the Contribution_by_individual table. "
   ]
  },
  {
   "cell_type": "code",
   "execution_count": null,
   "metadata": {},
   "outputs": [],
   "source": [
    "!csvstat --count contribution_by_individual.csv"
   ]
  },
  {
   "cell_type": "code",
   "execution_count": 29,
   "metadata": {},
   "outputs": [
    {
     "name": "stdout",
     "output_type": "stream",
     "text": [
      " * postgresql://student@/project2\n",
      "80 rows affected.\n"
     ]
    },
    {
     "data": {
      "text/html": [
       "<table>\n",
       "    <tr>\n",
       "        <th>cand_id</th>\n",
       "    </tr>\n",
       "    <tr>\n",
       "        <td>P80003916</td>\n",
       "    </tr>\n",
       "    <tr>\n",
       "        <td>P20005443</td>\n",
       "    </tr>\n",
       "    <tr>\n",
       "        <td>P00014084</td>\n",
       "    </tr>\n",
       "    <tr>\n",
       "        <td>P00012195</td>\n",
       "    </tr>\n",
       "    <tr>\n",
       "        <td>P00015990</td>\n",
       "    </tr>\n",
       "    <tr>\n",
       "        <td>P00007385</td>\n",
       "    </tr>\n",
       "    <tr>\n",
       "        <td>P00014928</td>\n",
       "    </tr>\n",
       "    <tr>\n",
       "        <td>P00007781</td>\n",
       "    </tr>\n",
       "    <tr>\n",
       "        <td>H0TX13202</td>\n",
       "    </tr>\n",
       "    <tr>\n",
       "        <td>P00006890</td>\n",
       "    </tr>\n",
       "    <tr>\n",
       "        <td>P00011601</td>\n",
       "    </tr>\n",
       "    <tr>\n",
       "        <td>P00009001</td>\n",
       "    </tr>\n",
       "    <tr>\n",
       "        <td>P00013235</td>\n",
       "    </tr>\n",
       "    <tr>\n",
       "        <td>P00010215</td>\n",
       "    </tr>\n",
       "    <tr>\n",
       "        <td>P00009522</td>\n",
       "    </tr>\n",
       "    <tr>\n",
       "        <td>P20000055</td>\n",
       "    </tr>\n",
       "    <tr>\n",
       "        <td>P00009118</td>\n",
       "    </tr>\n",
       "    <tr>\n",
       "        <td>S6NC00324</td>\n",
       "    </tr>\n",
       "    <tr>\n",
       "        <td>P00015701</td>\n",
       "    </tr>\n",
       "    <tr>\n",
       "        <td>P00010348</td>\n",
       "    </tr>\n",
       "    <tr>\n",
       "        <td>P00015966</td>\n",
       "    </tr>\n",
       "    <tr>\n",
       "        <td>P80003205</td>\n",
       "    </tr>\n",
       "    <tr>\n",
       "        <td>H0CA41136</td>\n",
       "    </tr>\n",
       "    <tr>\n",
       "        <td>P00016105</td>\n",
       "    </tr>\n",
       "    <tr>\n",
       "        <td>P00010249</td>\n",
       "    </tr>\n",
       "    <tr>\n",
       "        <td>P00008607</td>\n",
       "    </tr>\n",
       "    <tr>\n",
       "        <td>H0UT01122</td>\n",
       "    </tr>\n",
       "    <tr>\n",
       "        <td>P00008961</td>\n",
       "    </tr>\n",
       "    <tr>\n",
       "        <td>P40003873</td>\n",
       "    </tr>\n",
       "    <tr>\n",
       "        <td>P60006350</td>\n",
       "    </tr>\n",
       "    <tr>\n",
       "        <td>P00005447</td>\n",
       "    </tr>\n",
       "    <tr>\n",
       "        <td>S8CT00139</td>\n",
       "    </tr>\n",
       "    <tr>\n",
       "        <td>P00010777</td>\n",
       "    </tr>\n",
       "    <tr>\n",
       "        <td>P00011015</td>\n",
       "    </tr>\n",
       "    <tr>\n",
       "        <td>P00011379</td>\n",
       "    </tr>\n",
       "    <tr>\n",
       "        <td>P00008383</td>\n",
       "    </tr>\n",
       "    <tr>\n",
       "        <td>P60022613</td>\n",
       "    </tr>\n",
       "    <tr>\n",
       "        <td>P00010892</td>\n",
       "    </tr>\n",
       "    <tr>\n",
       "        <td>P60009156</td>\n",
       "    </tr>\n",
       "    <tr>\n",
       "        <td>P00015545</td>\n",
       "    </tr>\n",
       "    <tr>\n",
       "        <td>P00013334</td>\n",
       "    </tr>\n",
       "    <tr>\n",
       "        <td>P00012534</td>\n",
       "    </tr>\n",
       "    <tr>\n",
       "        <td>P00008821</td>\n",
       "    </tr>\n",
       "    <tr>\n",
       "        <td>P80006133</td>\n",
       "    </tr>\n",
       "    <tr>\n",
       "        <td>P20005435</td>\n",
       "    </tr>\n",
       "    <tr>\n",
       "        <td>P20003851</td>\n",
       "    </tr>\n",
       "    <tr>\n",
       "        <td>P00007658</td>\n",
       "    </tr>\n",
       "    <tr>\n",
       "        <td>P00014563</td>\n",
       "    </tr>\n",
       "    <tr>\n",
       "        <td>P00013060</td>\n",
       "    </tr>\n",
       "    <tr>\n",
       "        <td>P00009811</td>\n",
       "    </tr>\n",
       "    <tr>\n",
       "        <td>P00014167</td>\n",
       "    </tr>\n",
       "    <tr>\n",
       "        <td>P00015172</td>\n",
       "    </tr>\n",
       "    <tr>\n",
       "        <td>P00012203</td>\n",
       "    </tr>\n",
       "    <tr>\n",
       "        <td>P80003239</td>\n",
       "    </tr>\n",
       "    <tr>\n",
       "        <td>P00014373</td>\n",
       "    </tr>\n",
       "    <tr>\n",
       "        <td>P00012286</td>\n",
       "    </tr>\n",
       "    <tr>\n",
       "        <td>P00010009</td>\n",
       "    </tr>\n",
       "    <tr>\n",
       "        <td>H8FL14209</td>\n",
       "    </tr>\n",
       "    <tr>\n",
       "        <td>P00015255</td>\n",
       "    </tr>\n",
       "    <tr>\n",
       "        <td>P60006244</td>\n",
       "    </tr>\n",
       "    <tr>\n",
       "        <td>P60009610</td>\n",
       "    </tr>\n",
       "    <tr>\n",
       "        <td>P60005774</td>\n",
       "    </tr>\n",
       "    <tr>\n",
       "        <td>P00006197</td>\n",
       "    </tr>\n",
       "    <tr>\n",
       "        <td>P00011775</td>\n",
       "    </tr>\n",
       "    <tr>\n",
       "        <td>P00012948</td>\n",
       "    </tr>\n",
       "    <tr>\n",
       "        <td>H8TX26108</td>\n",
       "    </tr>\n",
       "    <tr>\n",
       "        <td>P00016089</td>\n",
       "    </tr>\n",
       "    <tr>\n",
       "        <td>S8MD00310</td>\n",
       "    </tr>\n",
       "    <tr>\n",
       "        <td>P00015651</td>\n",
       "    </tr>\n",
       "    <tr>\n",
       "        <td>P60021441</td>\n",
       "    </tr>\n",
       "    <tr>\n",
       "        <td>P00015263</td>\n",
       "    </tr>\n",
       "    <tr>\n",
       "        <td>H8C006211</td>\n",
       "    </tr>\n",
       "    <tr>\n",
       "        <td>H8PA13158</td>\n",
       "    </tr>\n",
       "    <tr>\n",
       "        <td>P00012450</td>\n",
       "    </tr>\n",
       "    <tr>\n",
       "        <td>P00012351</td>\n",
       "    </tr>\n",
       "    <tr>\n",
       "        <td>P00006791</td>\n",
       "    </tr>\n",
       "    <tr>\n",
       "        <td>S0CA00462</td>\n",
       "    </tr>\n",
       "    <tr>\n",
       "        <td>P00012377</td>\n",
       "    </tr>\n",
       "    <tr>\n",
       "        <td>P00008987</td>\n",
       "    </tr>\n",
       "    <tr>\n",
       "        <td>C00713602</td>\n",
       "    </tr>\n",
       "</table>"
      ],
      "text/plain": [
       "[('P80003916',),\n",
       " ('P20005443',),\n",
       " ('P00014084',),\n",
       " ('P00012195',),\n",
       " ('P00015990',),\n",
       " ('P00007385',),\n",
       " ('P00014928',),\n",
       " ('P00007781',),\n",
       " ('H0TX13202',),\n",
       " ('P00006890',),\n",
       " ('P00011601',),\n",
       " ('P00009001',),\n",
       " ('P00013235',),\n",
       " ('P00010215',),\n",
       " ('P00009522',),\n",
       " ('P20000055',),\n",
       " ('P00009118',),\n",
       " ('S6NC00324',),\n",
       " ('P00015701',),\n",
       " ('P00010348',),\n",
       " ('P00015966',),\n",
       " ('P80003205',),\n",
       " ('H0CA41136',),\n",
       " ('P00016105',),\n",
       " ('P00010249',),\n",
       " ('P00008607',),\n",
       " ('H0UT01122',),\n",
       " ('P00008961',),\n",
       " ('P40003873',),\n",
       " ('P60006350',),\n",
       " ('P00005447',),\n",
       " ('S8CT00139',),\n",
       " ('P00010777',),\n",
       " ('P00011015',),\n",
       " ('P00011379',),\n",
       " ('P00008383',),\n",
       " ('P60022613',),\n",
       " ('P00010892',),\n",
       " ('P60009156',),\n",
       " ('P00015545',),\n",
       " ('P00013334',),\n",
       " ('P00012534',),\n",
       " ('P00008821',),\n",
       " ('P80006133',),\n",
       " ('P20005435',),\n",
       " ('P20003851',),\n",
       " ('P00007658',),\n",
       " ('P00014563',),\n",
       " ('P00013060',),\n",
       " ('P00009811',),\n",
       " ('P00014167',),\n",
       " ('P00015172',),\n",
       " ('P00012203',),\n",
       " ('P80003239',),\n",
       " ('P00014373',),\n",
       " ('P00012286',),\n",
       " ('P00010009',),\n",
       " ('H8FL14209',),\n",
       " ('P00015255',),\n",
       " ('P60006244',),\n",
       " ('P60009610',),\n",
       " ('P60005774',),\n",
       " ('P00006197',),\n",
       " ('P00011775',),\n",
       " ('P00012948',),\n",
       " ('H8TX26108',),\n",
       " ('P00016089',),\n",
       " ('S8MD00310',),\n",
       " ('P00015651',),\n",
       " ('P60021441',),\n",
       " ('P00015263',),\n",
       " ('H8C006211',),\n",
       " ('H8PA13158',),\n",
       " ('P00012450',),\n",
       " ('P00012351',),\n",
       " ('P00006791',),\n",
       " ('S0CA00462',),\n",
       " ('P00012377',),\n",
       " ('P00008987',),\n",
       " ('C00713602',)]"
      ]
     },
     "execution_count": 29,
     "metadata": {},
     "output_type": "execute_result"
    }
   ],
   "source": [
    "%%sql\n",
    "select CAND_ID\n",
    "from Linkage\n",
    "except\n",
    "select CAND_ID\n",
    "from Candidate_master;"
   ]
  },
  {
   "cell_type": "markdown",
   "metadata": {},
   "source": [
    "+ From the result of last cell, we can see there are 80 cand_ids in Linkage but do not exists in the Candidate_master, which means we can not use cand_id as the foregin key to connect both tables. Inorder to solve this problem, we should remove these 80 data from the Linkage dataset or add it into the Candidate_master."
   ]
  },
  {
   "cell_type": "code",
   "execution_count": 30,
   "metadata": {},
   "outputs": [
    {
     "name": "stdout",
     "output_type": "stream",
     "text": [
      " * postgresql://student@/project2\n",
      "90 rows affected.\n"
     ]
    },
    {
     "data": {
      "text/html": [
       "<table>\n",
       "    <tr>\n",
       "        <th>cmte_id</th>\n",
       "    </tr>\n",
       "    <tr>\n",
       "        <td>C00709600</td>\n",
       "    </tr>\n",
       "    <tr>\n",
       "        <td>C00692798</td>\n",
       "    </tr>\n",
       "    <tr>\n",
       "        <td>C00746925</td>\n",
       "    </tr>\n",
       "    <tr>\n",
       "        <td>C00691816</td>\n",
       "    </tr>\n",
       "    <tr>\n",
       "        <td>C00727495</td>\n",
       "    </tr>\n",
       "    <tr>\n",
       "        <td>C00741082</td>\n",
       "    </tr>\n",
       "    <tr>\n",
       "        <td>C00586024</td>\n",
       "    </tr>\n",
       "    <tr>\n",
       "        <td>C00666628</td>\n",
       "    </tr>\n",
       "    <tr>\n",
       "        <td>C00699025</td>\n",
       "    </tr>\n",
       "    <tr>\n",
       "        <td>C00630004</td>\n",
       "    </tr>\n",
       "    <tr>\n",
       "        <td>C00731554</td>\n",
       "    </tr>\n",
       "    <tr>\n",
       "        <td>C00617019</td>\n",
       "    </tr>\n",
       "    <tr>\n",
       "        <td>C00694760</td>\n",
       "    </tr>\n",
       "    <tr>\n",
       "        <td>C00731505</td>\n",
       "    </tr>\n",
       "    <tr>\n",
       "        <td>C00699074</td>\n",
       "    </tr>\n",
       "    <tr>\n",
       "        <td>C00721316</td>\n",
       "    </tr>\n",
       "    <tr>\n",
       "        <td>C00652677</td>\n",
       "    </tr>\n",
       "    <tr>\n",
       "        <td>C00697110</td>\n",
       "    </tr>\n",
       "    <tr>\n",
       "        <td>C00745364</td>\n",
       "    </tr>\n",
       "    <tr>\n",
       "        <td>C00676197</td>\n",
       "    </tr>\n",
       "    <tr>\n",
       "        <td>C00731620</td>\n",
       "    </tr>\n",
       "    <tr>\n",
       "        <td>C00570192</td>\n",
       "    </tr>\n",
       "    <tr>\n",
       "        <td>C00742171</td>\n",
       "    </tr>\n",
       "    <tr>\n",
       "        <td>C00742189</td>\n",
       "    </tr>\n",
       "    <tr>\n",
       "        <td>C00696674</td>\n",
       "    </tr>\n",
       "    <tr>\n",
       "        <td>C00702068</td>\n",
       "    </tr>\n",
       "    <tr>\n",
       "        <td>C00690503</td>\n",
       "    </tr>\n",
       "    <tr>\n",
       "        <td>C00714162</td>\n",
       "    </tr>\n",
       "    <tr>\n",
       "        <td>C00730556</td>\n",
       "    </tr>\n",
       "    <tr>\n",
       "        <td>C00700112</td>\n",
       "    </tr>\n",
       "    <tr>\n",
       "        <td>C00671487</td>\n",
       "    </tr>\n",
       "    <tr>\n",
       "        <td>C00690701</td>\n",
       "    </tr>\n",
       "    <tr>\n",
       "        <td>C00709139</td>\n",
       "    </tr>\n",
       "    <tr>\n",
       "        <td>C00699355</td>\n",
       "    </tr>\n",
       "    <tr>\n",
       "        <td>C00699678</td>\n",
       "    </tr>\n",
       "    <tr>\n",
       "        <td>C00733535</td>\n",
       "    </tr>\n",
       "    <tr>\n",
       "        <td>C00728188</td>\n",
       "    </tr>\n",
       "    <tr>\n",
       "        <td>C00735415</td>\n",
       "    </tr>\n",
       "    <tr>\n",
       "        <td>C00711622</td>\n",
       "    </tr>\n",
       "    <tr>\n",
       "        <td>C00736082</td>\n",
       "    </tr>\n",
       "    <tr>\n",
       "        <td>C00746610</td>\n",
       "    </tr>\n",
       "    <tr>\n",
       "        <td>C00733782</td>\n",
       "    </tr>\n",
       "    <tr>\n",
       "        <td>C00692574</td>\n",
       "    </tr>\n",
       "    <tr>\n",
       "        <td>C00679076</td>\n",
       "    </tr>\n",
       "    <tr>\n",
       "        <td>C00746487</td>\n",
       "    </tr>\n",
       "    <tr>\n",
       "        <td>C00695536</td>\n",
       "    </tr>\n",
       "    <tr>\n",
       "        <td>C00696278</td>\n",
       "    </tr>\n",
       "    <tr>\n",
       "        <td>C00428599</td>\n",
       "    </tr>\n",
       "    <tr>\n",
       "        <td>C00733493</td>\n",
       "    </tr>\n",
       "    <tr>\n",
       "        <td>C00694448</td>\n",
       "    </tr>\n",
       "    <tr>\n",
       "        <td>C00728709</td>\n",
       "    </tr>\n",
       "    <tr>\n",
       "        <td>C00507947</td>\n",
       "    </tr>\n",
       "    <tr>\n",
       "        <td>C00680108</td>\n",
       "    </tr>\n",
       "    <tr>\n",
       "        <td>C00697599</td>\n",
       "    </tr>\n",
       "    <tr>\n",
       "        <td>C00727438</td>\n",
       "    </tr>\n",
       "    <tr>\n",
       "        <td>C00727453</td>\n",
       "    </tr>\n",
       "    <tr>\n",
       "        <td>C00693283</td>\n",
       "    </tr>\n",
       "    <tr>\n",
       "        <td>C00674184</td>\n",
       "    </tr>\n",
       "    <tr>\n",
       "        <td>C00734160</td>\n",
       "    </tr>\n",
       "    <tr>\n",
       "        <td>C00687640</td>\n",
       "    </tr>\n",
       "    <tr>\n",
       "        <td>C00697177</td>\n",
       "    </tr>\n",
       "    <tr>\n",
       "        <td>C00710335</td>\n",
       "    </tr>\n",
       "    <tr>\n",
       "        <td>C00724534</td>\n",
       "    </tr>\n",
       "    <tr>\n",
       "        <td>C00732313</td>\n",
       "    </tr>\n",
       "    <tr>\n",
       "        <td>C00646679</td>\n",
       "    </tr>\n",
       "    <tr>\n",
       "        <td>C00708602</td>\n",
       "    </tr>\n",
       "    <tr>\n",
       "        <td>C00709246</td>\n",
       "    </tr>\n",
       "    <tr>\n",
       "        <td>C00585067</td>\n",
       "    </tr>\n",
       "    <tr>\n",
       "        <td>C00690966</td>\n",
       "    </tr>\n",
       "    <tr>\n",
       "        <td>C00623553</td>\n",
       "    </tr>\n",
       "    <tr>\n",
       "        <td>C00694893</td>\n",
       "    </tr>\n",
       "    <tr>\n",
       "        <td>C00729848</td>\n",
       "    </tr>\n",
       "    <tr>\n",
       "        <td>C00709931</td>\n",
       "    </tr>\n",
       "    <tr>\n",
       "        <td>C00742197</td>\n",
       "    </tr>\n",
       "    <tr>\n",
       "        <td>C00745836</td>\n",
       "    </tr>\n",
       "    <tr>\n",
       "        <td>C00707885</td>\n",
       "    </tr>\n",
       "    <tr>\n",
       "        <td>C00715128</td>\n",
       "    </tr>\n",
       "    <tr>\n",
       "        <td>C00717512</td>\n",
       "    </tr>\n",
       "    <tr>\n",
       "        <td>C00727446</td>\n",
       "    </tr>\n",
       "    <tr>\n",
       "        <td>C00693259</td>\n",
       "    </tr>\n",
       "    <tr>\n",
       "        <td>C00702266</td>\n",
       "    </tr>\n",
       "    <tr>\n",
       "        <td>C00738344</td>\n",
       "    </tr>\n",
       "    <tr>\n",
       "        <td>C00688143</td>\n",
       "    </tr>\n",
       "    <tr>\n",
       "        <td>C00693218</td>\n",
       "    </tr>\n",
       "    <tr>\n",
       "        <td>C00703884</td>\n",
       "    </tr>\n",
       "    <tr>\n",
       "        <td>C00624239</td>\n",
       "    </tr>\n",
       "    <tr>\n",
       "        <td>C00704940</td>\n",
       "    </tr>\n",
       "    <tr>\n",
       "        <td>C00735340</td>\n",
       "    </tr>\n",
       "    <tr>\n",
       "        <td>C00700302</td>\n",
       "    </tr>\n",
       "    <tr>\n",
       "        <td>C00727032</td>\n",
       "    </tr>\n",
       "</table>"
      ],
      "text/plain": [
       "[('C00709600',),\n",
       " ('C00692798',),\n",
       " ('C00746925',),\n",
       " ('C00691816',),\n",
       " ('C00727495',),\n",
       " ('C00741082',),\n",
       " ('C00586024',),\n",
       " ('C00666628',),\n",
       " ('C00699025',),\n",
       " ('C00630004',),\n",
       " ('C00731554',),\n",
       " ('C00617019',),\n",
       " ('C00694760',),\n",
       " ('C00731505',),\n",
       " ('C00699074',),\n",
       " ('C00721316',),\n",
       " ('C00652677',),\n",
       " ('C00697110',),\n",
       " ('C00745364',),\n",
       " ('C00676197',),\n",
       " ('C00731620',),\n",
       " ('C00570192',),\n",
       " ('C00742171',),\n",
       " ('C00742189',),\n",
       " ('C00696674',),\n",
       " ('C00702068',),\n",
       " ('C00690503',),\n",
       " ('C00714162',),\n",
       " ('C00730556',),\n",
       " ('C00700112',),\n",
       " ('C00671487',),\n",
       " ('C00690701',),\n",
       " ('C00709139',),\n",
       " ('C00699355',),\n",
       " ('C00699678',),\n",
       " ('C00733535',),\n",
       " ('C00728188',),\n",
       " ('C00735415',),\n",
       " ('C00711622',),\n",
       " ('C00736082',),\n",
       " ('C00746610',),\n",
       " ('C00733782',),\n",
       " ('C00692574',),\n",
       " ('C00679076',),\n",
       " ('C00746487',),\n",
       " ('C00695536',),\n",
       " ('C00696278',),\n",
       " ('C00428599',),\n",
       " ('C00733493',),\n",
       " ('C00694448',),\n",
       " ('C00728709',),\n",
       " ('C00507947',),\n",
       " ('C00680108',),\n",
       " ('C00697599',),\n",
       " ('C00727438',),\n",
       " ('C00727453',),\n",
       " ('C00693283',),\n",
       " ('C00674184',),\n",
       " ('C00734160',),\n",
       " ('C00687640',),\n",
       " ('C00697177',),\n",
       " ('C00710335',),\n",
       " ('C00724534',),\n",
       " ('C00732313',),\n",
       " ('C00646679',),\n",
       " ('C00708602',),\n",
       " ('C00709246',),\n",
       " ('C00585067',),\n",
       " ('C00690966',),\n",
       " ('C00623553',),\n",
       " ('C00694893',),\n",
       " ('C00729848',),\n",
       " ('C00709931',),\n",
       " ('C00742197',),\n",
       " ('C00745836',),\n",
       " ('C00707885',),\n",
       " ('C00715128',),\n",
       " ('C00717512',),\n",
       " ('C00727446',),\n",
       " ('C00693259',),\n",
       " ('C00702266',),\n",
       " ('C00738344',),\n",
       " ('C00688143',),\n",
       " ('C00693218',),\n",
       " ('C00703884',),\n",
       " ('C00624239',),\n",
       " ('C00704940',),\n",
       " ('C00735340',),\n",
       " ('C00700302',),\n",
       " ('C00727032',)]"
      ]
     },
     "execution_count": 30,
     "metadata": {},
     "output_type": "execute_result"
    }
   ],
   "source": [
    "%%sql\n",
    "select CMTE_ID\n",
    "from Linkage\n",
    "except\n",
    "select CMTE_ID\n",
    "from Committee_master;"
   ]
  },
  {
   "cell_type": "markdown",
   "metadata": {},
   "source": [
    "+ From the result of last cell, we can see there are 90 cmte_ids in Linkage but do not exists in the Committee_master, which means we can not use cmte_id as the foregin key to connect both tables. Inorder to solve this problem, we should remove the 90 data from the Linkage dataset or add it into the Committee_master.\n",
    "\n",
    "+ This is the reason why we can not add foreign key to connect these tables. In order to import the dataset into the tables, we were not connect those tables by foreign key since some datasets are incomplete. Whenever we import the data into the table, it will should an error as there exists unequal data among tables."
   ]
  },
  {
   "cell_type": "markdown",
   "metadata": {},
   "source": [
    "### Question 4"
   ]
  },
  {
   "cell_type": "code",
   "execution_count": null,
   "metadata": {},
   "outputs": [],
   "source": [
    "%%sql\n",
    "SELECT count(*)\n",
    "FROM All_candidates"
   ]
  },
  {
   "cell_type": "code",
   "execution_count": null,
   "metadata": {},
   "outputs": [],
   "source": [
    "!csvstat --count All_candidates.csv "
   ]
  },
  {
   "cell_type": "code",
   "execution_count": null,
   "metadata": {},
   "outputs": [],
   "source": [
    "%%sql\n",
    "SELECT count(*)\n",
    "FROM Candidate_master"
   ]
  },
  {
   "cell_type": "code",
   "execution_count": null,
   "metadata": {},
   "outputs": [],
   "source": [
    "!csvstat --count Candidate_master.csv "
   ]
  },
  {
   "cell_type": "code",
   "execution_count": null,
   "metadata": {},
   "outputs": [],
   "source": [
    "%%sql\n",
    "SELECT count(*)\n",
    "FROM Committee_master"
   ]
  },
  {
   "cell_type": "code",
   "execution_count": null,
   "metadata": {},
   "outputs": [],
   "source": [
    "!csvstat --count Committee_master.csv"
   ]
  },
  {
   "cell_type": "code",
   "execution_count": null,
   "metadata": {},
   "outputs": [],
   "source": [
    "%%sql\n",
    "SELECT count(*)\n",
    "FROM Linkage"
   ]
  },
  {
   "cell_type": "code",
   "execution_count": null,
   "metadata": {},
   "outputs": [],
   "source": [
    "!csvstat --count Linkage.csv"
   ]
  },
  {
   "cell_type": "code",
   "execution_count": null,
   "metadata": {},
   "outputs": [],
   "source": [
    "%%sql\n",
    "SELECT count(*)\n",
    "FROM Contribution_by_individual"
   ]
  },
  {
   "cell_type": "code",
   "execution_count": null,
   "metadata": {},
   "outputs": [],
   "source": [
    "!csvstat --count Contribution_by_individual.csv"
   ]
  },
  {
   "cell_type": "markdown",
   "metadata": {},
   "source": [
    "### Question 5"
   ]
  },
  {
   "cell_type": "markdown",
   "metadata": {},
   "source": [
    "+ Use the alter statement to add the first name and last name columns to Candidate_master"
   ]
  },
  {
   "cell_type": "code",
   "execution_count": 31,
   "metadata": {},
   "outputs": [
    {
     "name": "stdout",
     "output_type": "stream",
     "text": [
      " * postgresql://student@/project2\n",
      "Done.\n"
     ]
    },
    {
     "data": {
      "text/plain": [
       "[]"
      ]
     },
     "execution_count": 31,
     "metadata": {},
     "output_type": "execute_result"
    }
   ],
   "source": [
    "%%sql\n",
    "ALTER TABLE Candidate_master\n",
    "ADD firstname varchar(50),\n",
    "ADD lastname varchar(50);"
   ]
  },
  {
   "cell_type": "markdown",
   "metadata": {},
   "source": [
    "+ Split firstname and lastname and add them to the newly created colomns"
   ]
  },
  {
   "cell_type": "code",
   "execution_count": 32,
   "metadata": {},
   "outputs": [
    {
     "name": "stdout",
     "output_type": "stream",
     "text": [
      " * postgresql://student@/project2\n",
      "7500 rows affected.\n"
     ]
    },
    {
     "data": {
      "text/plain": [
       "[]"
      ]
     },
     "execution_count": 32,
     "metadata": {},
     "output_type": "execute_result"
    }
   ],
   "source": [
    "%%sql\n",
    "UPDATE Candidate_master\n",
    "SET firstname = split_part(CAND_NAME,',',1),\n",
    "    lastname = split_part(CAND_NAME,',',2);"
   ]
  },
  {
   "cell_type": "markdown",
   "metadata": {},
   "source": [
    "+ Check the results"
   ]
  },
  {
   "cell_type": "code",
   "execution_count": 33,
   "metadata": {},
   "outputs": [
    {
     "name": "stdout",
     "output_type": "stream",
     "text": [
      " * postgresql://student@/project2\n",
      "5 rows affected.\n"
     ]
    },
    {
     "data": {
      "text/html": [
       "<table>\n",
       "    <tr>\n",
       "        <th>cand_id</th>\n",
       "        <th>cand_name</th>\n",
       "        <th>cand_pty_affiliation</th>\n",
       "        <th>cand_election_yr</th>\n",
       "        <th>cand_office_st</th>\n",
       "        <th>cand_office</th>\n",
       "        <th>cand_office_district</th>\n",
       "        <th>cand_ici</th>\n",
       "        <th>cand_status</th>\n",
       "        <th>cand_pcc</th>\n",
       "        <th>cand_st1</th>\n",
       "        <th>cand_st2</th>\n",
       "        <th>cand_city</th>\n",
       "        <th>cand_st</th>\n",
       "        <th>cand_zip</th>\n",
       "        <th>firstname</th>\n",
       "        <th>lastname</th>\n",
       "    </tr>\n",
       "    <tr>\n",
       "        <td>H2UT00013</td>\n",
       "        <td>BUCK, JASON</td>\n",
       "        <td>REP</td>\n",
       "        <td>2012</td>\n",
       "        <td>UT</td>\n",
       "        <td>H</td>\n",
       "        <td>2</td>\n",
       "        <td>C</td>\n",
       "        <td>P</td>\n",
       "        <td>C00501601</td>\n",
       "        <td>None</td>\n",
       "        <td>None</td>\n",
       "        <td>SALT LAKE CITY</td>\n",
       "        <td>None</td>\n",
       "        <td>None</td>\n",
       "        <td>BUCK</td>\n",
       "        <td> JASON</td>\n",
       "    </tr>\n",
       "    <tr>\n",
       "        <td>H4TX10028</td>\n",
       "        <td>DOGGETT, LLOYD</td>\n",
       "        <td>DEM</td>\n",
       "        <td>2020</td>\n",
       "        <td>TX</td>\n",
       "        <td>H</td>\n",
       "        <td>35</td>\n",
       "        <td>I</td>\n",
       "        <td>C</td>\n",
       "        <td>C00286500</td>\n",
       "        <td>None</td>\n",
       "        <td>None</td>\n",
       "        <td>AUSTIN</td>\n",
       "        <td>None</td>\n",
       "        <td>None</td>\n",
       "        <td>DOGGETT</td>\n",
       "        <td> LLOYD</td>\n",
       "    </tr>\n",
       "    <tr>\n",
       "        <td>H6PA01165</td>\n",
       "        <td>LEIB, BRYAN</td>\n",
       "        <td>DEM</td>\n",
       "        <td>2018</td>\n",
       "        <td>PA</td>\n",
       "        <td>H</td>\n",
       "        <td>3</td>\n",
       "        <td>C</td>\n",
       "        <td>P</td>\n",
       "        <td>C00680256</td>\n",
       "        <td>None</td>\n",
       "        <td>None</td>\n",
       "        <td>PHILADELPHIA</td>\n",
       "        <td>None</td>\n",
       "        <td>None</td>\n",
       "        <td>LEIB</td>\n",
       "        <td> BRYAN</td>\n",
       "    </tr>\n",
       "    <tr>\n",
       "        <td>P00009555</td>\n",
       "        <td>MA, JAMES</td>\n",
       "        <td>DEM</td>\n",
       "        <td>2020</td>\n",
       "        <td>US</td>\n",
       "        <td>P</td>\n",
       "        <td>0</td>\n",
       "        <td>C</td>\n",
       "        <td>N</td>\n",
       "        <td>None</td>\n",
       "        <td>20571 CALHOUN AVE</td>\n",
       "        <td>None</td>\n",
       "        <td>CALDWELL</td>\n",
       "        <td>ID</td>\n",
       "        <td>83605</td>\n",
       "        <td>MA</td>\n",
       "        <td> JAMES</td>\n",
       "    </tr>\n",
       "    <tr>\n",
       "        <td>S0KS00372</td>\n",
       "        <td>BERLAND, LANCE</td>\n",
       "        <td>REP</td>\n",
       "        <td>2020</td>\n",
       "        <td>KS</td>\n",
       "        <td>S</td>\n",
       "        <td>0</td>\n",
       "        <td>O</td>\n",
       "        <td>N</td>\n",
       "        <td>None</td>\n",
       "        <td>PO BOX 161</td>\n",
       "        <td>None</td>\n",
       "        <td>CHAPMAN</td>\n",
       "        <td>KS</td>\n",
       "        <td>67431</td>\n",
       "        <td>BERLAND</td>\n",
       "        <td> LANCE</td>\n",
       "    </tr>\n",
       "</table>"
      ],
      "text/plain": [
       "[('H2UT00013', 'BUCK, JASON', 'REP', Decimal('2012'), 'UT', 'H', '2', 'C', 'P', 'C00501601', None, None, 'SALT LAKE CITY', None, None, 'BUCK', ' JASON'),\n",
       " ('H4TX10028', 'DOGGETT, LLOYD', 'DEM', Decimal('2020'), 'TX', 'H', '35', 'I', 'C', 'C00286500', None, None, 'AUSTIN', None, None, 'DOGGETT', ' LLOYD'),\n",
       " ('H6PA01165', 'LEIB, BRYAN', 'DEM', Decimal('2018'), 'PA', 'H', '3', 'C', 'P', 'C00680256', None, None, 'PHILADELPHIA', None, None, 'LEIB', ' BRYAN'),\n",
       " ('P00009555', 'MA, JAMES', 'DEM', Decimal('2020'), 'US', 'P', '0', 'C', 'N', None, '20571 CALHOUN AVE', None, 'CALDWELL', 'ID', '83605', 'MA', ' JAMES'),\n",
       " ('S0KS00372', 'BERLAND, LANCE', 'REP', Decimal('2020'), 'KS', 'S', '0', 'O', 'N', None, 'PO BOX 161', None, 'CHAPMAN', 'KS', '67431', 'BERLAND', ' LANCE')]"
      ]
     },
     "execution_count": 33,
     "metadata": {},
     "output_type": "execute_result"
    }
   ],
   "source": [
    "%%sql\n",
    "SELECT * \n",
    "FROM Candidate_master\n",
    "limit 5;"
   ]
  },
  {
   "cell_type": "markdown",
   "metadata": {},
   "source": [
    "### Question 6"
   ]
  },
  {
   "cell_type": "code",
   "execution_count": 22,
   "metadata": {},
   "outputs": [
    {
     "name": "stdout",
     "output_type": "stream",
     "text": [
      "  1. \"C00713602\"\n",
      "\n",
      "\tType of data:          Text\n",
      "\tContains null values:  False\n",
      "\tUnique values:         6140\n",
      "\tLongest value:         9 characters\n",
      "\tMost common values:    P60022118 (11x)\n",
      "\t                       P80006133 (9x)\n",
      "\t                       S2MT00096 (7x)\n",
      "\t                       S4IA00129 (7x)\n",
      "\t                       P00011361 (6x)\n",
      "\n",
      "  2. \"2019\"\n",
      "\n",
      "\tType of data:          Number\n",
      "\tContains null values:  False\n",
      "\tUnique values:         38\n",
      "\tSmallest value:        1984\n",
      "\tLargest value:         2929\n",
      "\tSum:                   13788280\n",
      "\tMean:                  2019.373169\n",
      "\tMedian:                2020\n",
      "\tStDev:                 19.22218\n",
      "\tMost common values:    2020 (4278x)\n",
      "\t                       2018 (1535x)\n",
      "\t                       2016 (278x)\n",
      "\t                       2014 (130x)\n",
      "\t                       2024 (117x)\n",
      "\n",
      "  3. \"2020\"\n",
      "\n",
      "\tType of data:          Number\n",
      "\tContains null values:  False\n",
      "\tUnique values:         1\n",
      "\tSmallest value:        2020\n",
      "\tLargest value:         2020\n",
      "\tSum:                   13792560\n",
      "\tMean:                  2020\n",
      "\tMedian:                2020\n",
      "\tStDev:                 0\n",
      "\tMost common values:    2020 (6828x)\n",
      "\n",
      "  4. \"C00712851\"\n",
      "\n",
      "\tType of data:          Text\n",
      "\tContains null values:  False\n",
      "\tUnique values:         6589\n",
      "\tLongest value:         9 characters\n",
      "\tMost common values:    C00493783 (16x)\n",
      "\t                       C00701243 (16x)\n",
      "\t                       C00528851 (14x)\n",
      "\t                       C00685057 (13x)\n",
      "\t                       C00689471 (12x)\n",
      "\n",
      "  5. \"O\"\n",
      "\n",
      "\tType of data:          Text\n",
      "\tContains null values:  False\n",
      "\tUnique values:         10\n",
      "\tLongest value:         1 characters\n",
      "\tMost common values:    H (4606x)\n",
      "\t                       P (970x)\n",
      "\t                       S (919x)\n",
      "\t                       N (244x)\n",
      "\t                       Q (46x)\n",
      "\n",
      "  6. \"U\"\n",
      "\n",
      "\tType of data:          Text\n",
      "\tContains null values:  False\n",
      "\tUnique values:         6\n",
      "\tLongest value:         1 characters\n",
      "\tMost common values:    P (6048x)\n",
      "\t                       A (340x)\n",
      "\t                       J (283x)\n",
      "\t                       U (136x)\n",
      "\t                       D (16x)\n",
      "\n",
      "  7. \"228963\"\n",
      "\n",
      "\tType of data:          Number\n",
      "\tContains null values:  False\n",
      "\tUnique values:         6828\n",
      "\tSmallest value:        222106\n",
      "\tLargest value:         233993\n",
      "\tSum:                   1549678114\n",
      "\tMean:                  226959.301992\n",
      "\tMedian:                225609.5\n",
      "\tStDev:                 3603.657796\n",
      "\tMost common values:    229250 (1x)\n",
      "\t                       226125 (1x)\n",
      "\t                       227053 (1x)\n",
      "\t                       227054 (1x)\n",
      "\t                       227266 (1x)\n",
      "\n",
      "Row count: 6828\n"
     ]
    }
   ],
   "source": [
    "!csvstat -d \",\" linkage.csv"
   ]
  },
  {
   "cell_type": "markdown",
   "metadata": {},
   "source": [
    "+ Use Committee_master to create the new table \"LINKAGE\" that mimics linkage file as Committee_master contains both cmte_id and cand_id. "
   ]
  },
  {
   "cell_type": "code",
   "execution_count": 34,
   "metadata": {},
   "outputs": [
    {
     "name": "stdout",
     "output_type": "stream",
     "text": [
      " * postgresql://student@/project2\n",
      "Done.\n",
      "6520 rows affected.\n"
     ]
    },
    {
     "data": {
      "text/plain": [
       "[]"
      ]
     },
     "execution_count": 34,
     "metadata": {},
     "output_type": "execute_result"
    }
   ],
   "source": [
    "%%sql\n",
    "DROP TABLE IF EXISTS LINKAGE cascade;\n",
    "\n",
    "CREATE TABLE LINKAGE as \n",
    "select T1.cand_id, T1.cmte_id \n",
    "from Committee_master T1, Committee_master T2 where T1.cand_id = T2.cand_id and T1.cmte_id = T2.cmte_id"
   ]
  },
  {
   "cell_type": "markdown",
   "metadata": {},
   "source": [
    "+ count the number of rows in LINKAGE."
   ]
  },
  {
   "cell_type": "code",
   "execution_count": 35,
   "metadata": {},
   "outputs": [
    {
     "name": "stdout",
     "output_type": "stream",
     "text": [
      " * postgresql://student@/project2\n",
      "1 rows affected.\n"
     ]
    },
    {
     "data": {
      "text/html": [
       "<table>\n",
       "    <tr>\n",
       "        <th>count</th>\n",
       "    </tr>\n",
       "    <tr>\n",
       "        <td>6520</td>\n",
       "    </tr>\n",
       "</table>"
      ],
      "text/plain": [
       "[(6520,)]"
      ]
     },
     "execution_count": 35,
     "metadata": {},
     "output_type": "execute_result"
    }
   ],
   "source": [
    "%%sql\n",
    "select count(*) from LINKAGE;"
   ]
  },
  {
   "cell_type": "code",
   "execution_count": 36,
   "metadata": {},
   "outputs": [
    {
     "name": "stdout",
     "output_type": "stream",
     "text": [
      " * postgresql://student@/project2\n",
      "1 rows affected.\n"
     ]
    },
    {
     "data": {
      "text/html": [
       "<table>\n",
       "    <tr>\n",
       "        <th>count</th>\n",
       "    </tr>\n",
       "    <tr>\n",
       "        <td>6520</td>\n",
       "    </tr>\n",
       "</table>"
      ],
      "text/plain": [
       "[(6520,)]"
      ]
     },
     "execution_count": 36,
     "metadata": {},
     "output_type": "execute_result"
    }
   ],
   "source": [
    "%%sql\n",
    "select count(CAND_ID) from Linkage;"
   ]
  },
  {
   "cell_type": "markdown",
   "metadata": {},
   "source": [
    "+ Another way to create the linkage that mimics LINKAGE between Candidate_master and Committee_master."
   ]
  },
  {
   "cell_type": "markdown",
   "metadata": {},
   "source": [
    "+ Create two new tables with cand_id from Candidate_master and with cmte_id and cand_id from Committee_master and then join the two tables by cand_id to mimic as Linkage table."
   ]
  },
  {
   "cell_type": "code",
   "execution_count": 5,
   "metadata": {},
   "outputs": [
    {
     "name": "stdout",
     "output_type": "stream",
     "text": [
      " * postgresql://student@/project2\n",
      "Done.\n",
      "Done.\n",
      "Done.\n",
      "Done.\n"
     ]
    },
    {
     "data": {
      "text/plain": [
       "[]"
      ]
     },
     "execution_count": 5,
     "metadata": {},
     "output_type": "execute_result"
    }
   ],
   "source": [
    "%%sql\n",
    "DROP TABLE IF EXISTS candidate_connect Cascade;\n",
    "DROP TABLE IF EXISTS  committee_connect Cascade;\n",
    "\n",
    "create Table candidate_connect (\n",
    "    CAND_ID      varchar(9) NOT NULL\n",
    "\n",
    ");\n",
    "create Table committee_connect (\n",
    "   CMTE_ID      varchar(9) NOT NULL,\n",
    "   CAND_ID      varchar(9) DEFAULT NULL\n",
    ");"
   ]
  },
  {
   "cell_type": "markdown",
   "metadata": {},
   "source": [
    "+ Extract the cand_id data from All_candidates and put into a new file. \n",
    "+ Extract the cand_id and cmte_id data from Committee_master and put into a new file"
   ]
  },
  {
   "cell_type": "code",
   "execution_count": 37,
   "metadata": {},
   "outputs": [],
   "source": [
    "!csvcut -c1 All_candidates.csv > candidate_connect.csv"
   ]
  },
  {
   "cell_type": "code",
   "execution_count": 38,
   "metadata": {},
   "outputs": [],
   "source": [
    "!csvcut -c1,15 Committee_master.csv  > committee_connect.csv"
   ]
  },
  {
   "cell_type": "markdown",
   "metadata": {},
   "source": [
    "+ Copy the data into the two new tables: candidate_connect and committee_connect"
   ]
  },
  {
   "cell_type": "code",
   "execution_count": 39,
   "metadata": {},
   "outputs": [
    {
     "name": "stdout",
     "output_type": "stream",
     "text": [
      " * postgresql://student@/project2\n",
      "3883 rows affected.\n",
      "17615 rows affected.\n"
     ]
    },
    {
     "data": {
      "text/plain": [
       "[]"
      ]
     },
     "execution_count": 39,
     "metadata": {},
     "output_type": "execute_result"
    }
   ],
   "source": [
    "%%sql\n",
    "COPY candidate_connect FROM '/home/ubuntu/candidate_connect.csv'\n",
    "CSV\n",
    "HEADER;\n",
    "\n",
    "COPY committee_connect FROM '/home/ubuntu/committee_connect.csv'\n",
    "CSV\n",
    "HEADER;"
   ]
  },
  {
   "cell_type": "markdown",
   "metadata": {},
   "source": [
    "+ Use UNION to connect two tables via the cand_id,CAND_PCC and cmte_id and generate a new table named newlinkage. "
   ]
  },
  {
   "cell_type": "code",
   "execution_count": 9,
   "metadata": {},
   "outputs": [
    {
     "name": "stdout",
     "output_type": "stream",
     "text": [
      " * postgresql://student@/project2\n",
      "Done.\n",
      "6520 rows affected.\n"
     ]
    },
    {
     "data": {
      "text/plain": [
       "[]"
      ]
     },
     "execution_count": 9,
     "metadata": {},
     "output_type": "execute_result"
    }
   ],
   "source": [
    "%%sql\n",
    "DROP TABLE IF EXISTS newlinkage Cascade;\n",
    "\n",
    "CREATE TABLE newlinkage as\n",
    "SELECT cand_id, CAND_PCC from Candidate_master where cand_pcc IS NOT NULL\n",
    "UNION\n",
    "SELECT cand_id, cmte_id from committee_connect where cand_id IS NOT NULL"
   ]
  },
  {
   "cell_type": "code",
   "execution_count": 10,
   "metadata": {},
   "outputs": [
    {
     "name": "stdout",
     "output_type": "stream",
     "text": [
      " * postgresql://student@/project2\n",
      "1 rows affected.\n"
     ]
    },
    {
     "data": {
      "text/html": [
       "<table>\n",
       "    <tr>\n",
       "        <th>count</th>\n",
       "    </tr>\n",
       "    <tr>\n",
       "        <td>6520</td>\n",
       "    </tr>\n",
       "</table>"
      ],
      "text/plain": [
       "[(6520,)]"
      ]
     },
     "execution_count": 10,
     "metadata": {},
     "output_type": "execute_result"
    }
   ],
   "source": [
    "%%sql\n",
    "SELECT count(*) from newlinkage;"
   ]
  },
  {
   "cell_type": "code",
   "execution_count": 17,
   "metadata": {},
   "outputs": [
    {
     "name": "stdout",
     "output_type": "stream",
     "text": [
      "Row count: 6828\n"
     ]
    }
   ],
   "source": [
    "!csvstat --count linkage.csv"
   ]
  },
  {
   "cell_type": "markdown",
   "metadata": {},
   "source": [
    "+ Create a sequence called link_num and the sequence start from 1 and increment by 1."
   ]
  },
  {
   "cell_type": "code",
   "execution_count": 42,
   "metadata": {},
   "outputs": [
    {
     "name": "stdout",
     "output_type": "stream",
     "text": [
      " * postgresql://student@/project2\n",
      "Done.\n",
      "Done.\n"
     ]
    },
    {
     "data": {
      "text/plain": [
       "[]"
      ]
     },
     "execution_count": 42,
     "metadata": {},
     "output_type": "execute_result"
    }
   ],
   "source": [
    "%%sql\n",
    "DROP SEQUENCE  IF EXISTS link_num CASCADE;\n",
    "\n",
    "CREATE SEQUENCE link_num\n",
    "START WITH 1 \n",
    "INCREMENT BY 1;  "
   ]
  },
  {
   "cell_type": "markdown",
   "metadata": {},
   "source": [
    "+ Add the link_id and insert the link_num into the column."
   ]
  },
  {
   "cell_type": "code",
   "execution_count": 44,
   "metadata": {},
   "outputs": [
    {
     "name": "stdout",
     "output_type": "stream",
     "text": [
      " * postgresql://student@/project2\n",
      "Done.\n"
     ]
    },
    {
     "data": {
      "text/plain": [
       "[]"
      ]
     },
     "execution_count": 44,
     "metadata": {},
     "output_type": "execute_result"
    }
   ],
   "source": [
    "%%sql\n",
    "ALTER TABLE newlinkage ADD column link_id numeric(6) NOT NULL DEFAULT Nextval('link_num');"
   ]
  },
  {
   "cell_type": "code",
   "execution_count": 45,
   "metadata": {},
   "outputs": [
    {
     "name": "stdout",
     "output_type": "stream",
     "text": [
      " * postgresql://student@/project2\n",
      "10 rows affected.\n"
     ]
    },
    {
     "data": {
      "text/html": [
       "<table>\n",
       "    <tr>\n",
       "        <th>cand_id</th>\n",
       "        <th>cand_pcc</th>\n",
       "        <th>id</th>\n",
       "        <th>link_id</th>\n",
       "    </tr>\n",
       "    <tr>\n",
       "        <td>H0SC07011</td>\n",
       "        <td>C00692053</td>\n",
       "        <td>1</td>\n",
       "        <td>1</td>\n",
       "    </tr>\n",
       "    <tr>\n",
       "        <td>P00005900</td>\n",
       "        <td>C00639021</td>\n",
       "        <td>2</td>\n",
       "        <td>2</td>\n",
       "    </tr>\n",
       "    <tr>\n",
       "        <td>H8CA32070</td>\n",
       "        <td>C00632885</td>\n",
       "        <td>3</td>\n",
       "        <td>3</td>\n",
       "    </tr>\n",
       "    <tr>\n",
       "        <td>H8AZ02185</td>\n",
       "        <td>C00663054</td>\n",
       "        <td>4</td>\n",
       "        <td>4</td>\n",
       "    </tr>\n",
       "    <tr>\n",
       "        <td>H4VA07143</td>\n",
       "        <td>C00554949</td>\n",
       "        <td>5</td>\n",
       "        <td>5</td>\n",
       "    </tr>\n",
       "    <tr>\n",
       "        <td>P00012427</td>\n",
       "        <td>C00711812</td>\n",
       "        <td>6</td>\n",
       "        <td>6</td>\n",
       "    </tr>\n",
       "    <tr>\n",
       "        <td>H8UT03238</td>\n",
       "        <td>C00647339</td>\n",
       "        <td>7</td>\n",
       "        <td>7</td>\n",
       "    </tr>\n",
       "    <tr>\n",
       "        <td>H0AL02160</td>\n",
       "        <td>C00723478</td>\n",
       "        <td>8</td>\n",
       "        <td>8</td>\n",
       "    </tr>\n",
       "    <tr>\n",
       "        <td>H8FL06148</td>\n",
       "        <td>C00666396</td>\n",
       "        <td>9</td>\n",
       "        <td>9</td>\n",
       "    </tr>\n",
       "    <tr>\n",
       "        <td>H0NY15210</td>\n",
       "        <td>C00707281</td>\n",
       "        <td>10</td>\n",
       "        <td>10</td>\n",
       "    </tr>\n",
       "</table>"
      ],
      "text/plain": [
       "[('H0SC07011', 'C00692053', Decimal('1'), Decimal('1')),\n",
       " ('P00005900', 'C00639021', Decimal('2'), Decimal('2')),\n",
       " ('H8CA32070', 'C00632885', Decimal('3'), Decimal('3')),\n",
       " ('H8AZ02185', 'C00663054', Decimal('4'), Decimal('4')),\n",
       " ('H4VA07143', 'C00554949', Decimal('5'), Decimal('5')),\n",
       " ('P00012427', 'C00711812', Decimal('6'), Decimal('6')),\n",
       " ('H8UT03238', 'C00647339', Decimal('7'), Decimal('7')),\n",
       " ('H0AL02160', 'C00723478', Decimal('8'), Decimal('8')),\n",
       " ('H8FL06148', 'C00666396', Decimal('9'), Decimal('9')),\n",
       " ('H0NY15210', 'C00707281', Decimal('10'), Decimal('10'))]"
      ]
     },
     "execution_count": 45,
     "metadata": {},
     "output_type": "execute_result"
    }
   ],
   "source": [
    "%%sql\n",
    "SELECT * FROM newlinkage \n",
    "limit 10"
   ]
  },
  {
   "cell_type": "code",
   "execution_count": null,
   "metadata": {},
   "outputs": [],
   "source": []
  }
 ],
 "metadata": {
  "kernelspec": {
   "display_name": "Python 3",
   "language": "python",
   "name": "python3"
  },
  "language_info": {
   "codemirror_mode": {
    "name": "ipython",
    "version": 3
   },
   "file_extension": ".py",
   "mimetype": "text/x-python",
   "name": "python",
   "nbconvert_exporter": "python",
   "pygments_lexer": "ipython3",
   "version": "3.8.3"
  }
 },
 "nbformat": 4,
 "nbformat_minor": 4
}
